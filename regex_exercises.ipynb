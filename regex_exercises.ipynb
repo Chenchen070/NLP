{
 "cells": [
  {
   "cell_type": "code",
   "execution_count": 1,
   "id": "1a5c3e7d",
   "metadata": {},
   "outputs": [],
   "source": [
    "import re\n",
    "import pandas as pd"
   ]
  },
  {
   "cell_type": "markdown",
   "id": "6f32d4af",
   "metadata": {},
   "source": [
    "1. Write a function named is_vowel. It should accept a string as input and use a regular expression to determine if the passed string is a vowel. While not explicity mentioned in the lesson, you can treat the result of re.search as a boolean value that indicates whether or not the regular expression matches the given string."
   ]
  },
  {
   "cell_type": "code",
   "execution_count": 2,
   "id": "db265b18",
   "metadata": {},
   "outputs": [],
   "source": [
    "def is_vowel(character):\n",
    "    regex = r'^[aeiouAEIOU]$'\n",
    "    return bool(re.search(regex, character))"
   ]
  },
  {
   "cell_type": "code",
   "execution_count": 6,
   "id": "bc4fda6b",
   "metadata": {},
   "outputs": [
    {
     "data": {
      "text/plain": [
       "True"
      ]
     },
     "execution_count": 6,
     "metadata": {},
     "output_type": "execute_result"
    }
   ],
   "source": [
    "is_vowel('o')"
   ]
  },
  {
   "cell_type": "code",
   "execution_count": 8,
   "id": "2645af20",
   "metadata": {},
   "outputs": [
    {
     "data": {
      "text/plain": [
       "False"
      ]
     },
     "execution_count": 8,
     "metadata": {},
     "output_type": "execute_result"
    }
   ],
   "source": [
    "is_vowel('Y')"
   ]
  },
  {
   "cell_type": "markdown",
   "id": "c1162905",
   "metadata": {},
   "source": [
    "2. Write a function named is_valid_username that accepts a string as input. A valid username starts with a lowercase letter, and only consists of lowercase letters, numbers, or the _ character. It should also be no longer than 32 characters. The function should return either True or False depending on whether the passed string is a valid username."
   ]
  },
  {
   "cell_type": "markdown",
   "id": "9081d05d",
   "metadata": {},
   "source": [
    ">>> is_valid_username('aaaaaaaaaaaaaaaaaaaaaaaaaaaaaaaaa')\n",
    "False\n",
    ">>> is_valid_username('codeup')\n",
    "True\n",
    ">>> is_valid_username('Codeup')\n",
    "False\n",
    ">>> is_valid_username('codeup123')\n",
    "True\n",
    ">>> is_valid_username('1codeup')\n",
    "False\n"
   ]
  },
  {
   "cell_type": "code",
   "execution_count": 9,
   "id": "266997a5",
   "metadata": {},
   "outputs": [],
   "source": [
    "def is_valid_username(user_name):\n",
    "    start_user_name = re.findall(r\"^[^a-z]\", user_name)\n",
    "    is_character_ok = re.findall(r\"[^a-z\\d_]\", user_name)\n",
    "    if len(user_name) > 32:\n",
    "        print(\"Max size for user name is 32 characters. Please make it shorter\")\n",
    "    elif len(start_user_name) != 0:\n",
    "        print(\"Invalid username, please start with a lowercase letter\")\n",
    "    elif len(is_character_ok) != 0:\n",
    "        print(\"Invalid username, please only use lowercase letters\")\n",
    "    else:\n",
    "        print(\"This is a valid username\")"
   ]
  },
  {
   "cell_type": "code",
   "execution_count": 10,
   "id": "081e6ba9",
   "metadata": {},
   "outputs": [
    {
     "name": "stdout",
     "output_type": "stream",
     "text": [
      "Max size for user name is 32 characters. Please make it shorter\n"
     ]
    }
   ],
   "source": [
    "is_valid_username('aaaaaaaaaaaaaaaaaaaaaaaaaaaaaaaaa')"
   ]
  },
  {
   "cell_type": "code",
   "execution_count": 11,
   "id": "ac740c83",
   "metadata": {},
   "outputs": [
    {
     "name": "stdout",
     "output_type": "stream",
     "text": [
      "This is a valid username\n"
     ]
    }
   ],
   "source": [
    "is_valid_username('codeup')"
   ]
  },
  {
   "cell_type": "code",
   "execution_count": 12,
   "id": "9ce281f8",
   "metadata": {},
   "outputs": [
    {
     "name": "stdout",
     "output_type": "stream",
     "text": [
      "Invalid username, please start with a lowercase letter\n"
     ]
    }
   ],
   "source": [
    "is_valid_username('Codeup')"
   ]
  },
  {
   "cell_type": "code",
   "execution_count": 13,
   "id": "1df49f60",
   "metadata": {},
   "outputs": [
    {
     "name": "stdout",
     "output_type": "stream",
     "text": [
      "This is a valid username\n"
     ]
    }
   ],
   "source": [
    "is_valid_username('codeup123')"
   ]
  },
  {
   "cell_type": "code",
   "execution_count": 14,
   "id": "4871c6c4",
   "metadata": {},
   "outputs": [
    {
     "name": "stdout",
     "output_type": "stream",
     "text": [
      "Invalid username, please start with a lowercase letter\n"
     ]
    }
   ],
   "source": [
    "is_valid_username('1codeup')"
   ]
  },
  {
   "cell_type": "markdown",
   "id": "ff539d45",
   "metadata": {},
   "source": [
    "3. Write a regular expression to capture phone numbers. It should match all of the following:\n",
    "\n",
    "        (210) 867 5309\n",
    "        +1 210.867.5309\n",
    "        867-5309\n",
    "        210-867-5309\n"
   ]
  },
  {
   "cell_type": "code",
   "execution_count": 15,
   "id": "cf67cb24",
   "metadata": {},
   "outputs": [],
   "source": [
    "phone_capture = r'^.\\d+([\\s\\.\\)-]+\\d+)+$'"
   ]
  },
  {
   "cell_type": "code",
   "execution_count": 16,
   "id": "2b3ce404",
   "metadata": {},
   "outputs": [
    {
     "data": {
      "text/plain": [
       "<re.Match object; span=(0, 14), match='(210) 867 5309'>"
      ]
     },
     "execution_count": 16,
     "metadata": {},
     "output_type": "execute_result"
    }
   ],
   "source": [
    "re.search(phone_capture, '(210) 867 5309')"
   ]
  },
  {
   "cell_type": "code",
   "execution_count": 17,
   "id": "893aa9a9",
   "metadata": {},
   "outputs": [
    {
     "data": {
      "text/plain": [
       "<re.Match object; span=(0, 15), match='+1 210.867.5309'>"
      ]
     },
     "execution_count": 17,
     "metadata": {},
     "output_type": "execute_result"
    }
   ],
   "source": [
    "re.search(phone_capture, '+1 210.867.5309')"
   ]
  },
  {
   "cell_type": "code",
   "execution_count": 18,
   "id": "ccfac729",
   "metadata": {},
   "outputs": [
    {
     "data": {
      "text/plain": [
       "<re.Match object; span=(0, 8), match='867-5309'>"
      ]
     },
     "execution_count": 18,
     "metadata": {},
     "output_type": "execute_result"
    }
   ],
   "source": [
    "re.search(phone_capture, '867-5309')"
   ]
  },
  {
   "cell_type": "code",
   "execution_count": 19,
   "id": "dc90ab7b",
   "metadata": {},
   "outputs": [
    {
     "data": {
      "text/plain": [
       "<re.Match object; span=(0, 12), match='210-867-5309'>"
      ]
     },
     "execution_count": 19,
     "metadata": {},
     "output_type": "execute_result"
    }
   ],
   "source": [
    "re.search(phone_capture, '210-867-5309')"
   ]
  },
  {
   "cell_type": "markdown",
   "id": "e387420e",
   "metadata": {},
   "source": [
    "4. Use regular expressions to convert the dates below to the standardized year-month-day format.\n",
    "\n",
    "        02/04/19\n",
    "        02/05/19\n",
    "        02/06/19\n",
    "        02/07/19\n",
    "        02/08/19\n",
    "        02/09/19\n",
    "        02/10/19"
   ]
  },
  {
   "cell_type": "code",
   "execution_count": 20,
   "id": "6c0fa33d",
   "metadata": {},
   "outputs": [
    {
     "data": {
      "text/plain": [
       "'19/02/04'"
      ]
     },
     "execution_count": 20,
     "metadata": {},
     "output_type": "execute_result"
    }
   ],
   "source": [
    "re.sub(r'(\\d{2})/(\\d{2})/(\\d{2})', r'\\3/\\1/\\2', '02/04/19')"
   ]
  },
  {
   "cell_type": "code",
   "execution_count": 21,
   "id": "7d4214cb",
   "metadata": {},
   "outputs": [
    {
     "data": {
      "text/plain": [
       "'19/02/10'"
      ]
     },
     "execution_count": 21,
     "metadata": {},
     "output_type": "execute_result"
    }
   ],
   "source": [
    "re.sub(r'(\\d{2})/(\\d{2})/(\\d{2})', r'\\3/\\1/\\2', '02/10/19')"
   ]
  },
  {
   "cell_type": "markdown",
   "id": "d4e5ca3a",
   "metadata": {},
   "source": [
    "5. Write a regex to extract the various parts of these logfile lines:\n",
    "\n",
    "GET /api/v1/sales?page=86 [16/Apr/2019:193452+0000] HTTP/1.1 {200} 510348 \"python-requests/2.21.0\" 97.105.19.58\n",
    "\n",
    "POST /users_accounts/file-upload [16/Apr/2019:193452+0000] HTTP/1.1 {201} 42 \"User-Agent: Mozilla/5.0 (X11; Fedora; \n",
    "Fedora; Linux x86_64) AppleWebKit/537.36 (KHTML, like Gecko) Chrome/73.0.3683.86 Safari/537.36\" 97.105.19.58\n",
    "\n",
    "GET /api/v1/items?page=3 [16/Apr/2019:193453+0000] HTTP/1.1 {429} 3561 \"python-requests/2.21.0\" 97.105.19.58\n",
    "\n"
   ]
  },
  {
   "cell_type": "code",
   "execution_count": 22,
   "id": "e24eab50",
   "metadata": {},
   "outputs": [],
   "source": [
    "#Save the first log to a variable\n",
    "log1 = 'GET /api/v1/sales?page=86 [16/Apr/2019:193452+0000] HTTP/1.1 {200} 510348 \"python-requests/2.21.0\" 97.105.19.58'"
   ]
  },
  {
   "cell_type": "code",
   "execution_count": 23,
   "id": "0434605d",
   "metadata": {},
   "outputs": [
    {
     "data": {
      "text/plain": [
       "{'action': 'GET',\n",
       " 'url': '/api/v1/sales?page=86',\n",
       " 'date': '16/Apr/2019:193452+0000',\n",
       " 'request_type': 'HTTP/1.1',\n",
       " 'response': '200',\n",
       " 'file_size': '510348',\n",
       " 'user_agent': 'python-requests/2.21.0',\n",
       " 'ip_address': '97.105.19.58'}"
      ]
     },
     "execution_count": 23,
     "metadata": {},
     "output_type": "execute_result"
    }
   ],
   "source": [
    "#Develop a regex string to extract information from the log\n",
    "match1 = re.search(r'(?P<action>\\w+)\\s(?P<url>[a-z0-9\\/\\?\\=\\_\\-]+)\\s\\[(?P<date>[\\w\\/\\:\\+]+)\\]\\s(?P<request_type>[\\w\\/\\.]+)\\s\\{(?P<response>\\d+)\\}\\s(?P<file_size>\\d+)\\s\\\"(?P<user_agent>.+)\\\"\\s(?P<ip_address>[\\d\\.]+)', log1)\n",
    "\n",
    "match1.groupdict()"
   ]
  },
  {
   "cell_type": "code",
   "execution_count": 24,
   "id": "8f08a432",
   "metadata": {},
   "outputs": [],
   "source": [
    "#Save the regex statement to a variable\n",
    "logfile_regex = r'(?P<action>\\w+)\\s(?P<url>[a-z0-9\\/\\?\\=\\_\\-]+)\\s\\[(?P<date>[\\w\\/\\:\\+]+)\\]\\s(?P<request_type>[\\w\\/\\.]+)\\s\\{(?P<response>\\d+)\\}\\s(?P<file_size>\\d+)\\s\\\"(?P<user_agent>.+)\\\"\\s(?P<ip_address>[\\d\\.]+)'"
   ]
  },
  {
   "cell_type": "code",
   "execution_count": 25,
   "id": "9f29f4f9",
   "metadata": {},
   "outputs": [],
   "source": [
    "#Save the other log files to variables\n",
    "log2 = 'POST /users_accounts/file-upload [16/Apr/2019:193452+0000] HTTP/1.1 {201} 42 \"User-Agent: Mozilla/5.0 (X11; Fedora; Fedora; Linux x86_64) AppleWebKit/537.36 (KHTML, like Gecko) Chrome/73.0.3683.86 Safari/537.36\" 97.105.19.58'\n",
    "log3 = 'GET /api/v1/items?page=3 [16/Apr/2019:193453+0000] HTTP/1.1 {429} 3561 \"python-requests/2.21.0\" 97.105.19.58'"
   ]
  },
  {
   "cell_type": "code",
   "execution_count": 26,
   "id": "a6f98624",
   "metadata": {},
   "outputs": [
    {
     "data": {
      "text/plain": [
       "{'action': 'POST',\n",
       " 'url': '/users_accounts/file-upload',\n",
       " 'date': '16/Apr/2019:193452+0000',\n",
       " 'request_type': 'HTTP/1.1',\n",
       " 'response': '201',\n",
       " 'file_size': '42',\n",
       " 'user_agent': 'User-Agent: Mozilla/5.0 (X11; Fedora; Fedora; Linux x86_64) AppleWebKit/537.36 (KHTML, like Gecko) Chrome/73.0.3683.86 Safari/537.36',\n",
       " 'ip_address': '97.105.19.58'}"
      ]
     },
     "execution_count": 26,
     "metadata": {},
     "output_type": "execute_result"
    }
   ],
   "source": [
    "#Test the regex against the second log file\n",
    "match2 = re.search(logfile_regex, log2)\n",
    "\n",
    "match2.groupdict()"
   ]
  },
  {
   "cell_type": "code",
   "execution_count": 27,
   "id": "487d7e3a",
   "metadata": {},
   "outputs": [
    {
     "data": {
      "text/plain": [
       "{'action': 'GET',\n",
       " 'url': '/api/v1/items?page=3',\n",
       " 'date': '16/Apr/2019:193453+0000',\n",
       " 'request_type': 'HTTP/1.1',\n",
       " 'response': '429',\n",
       " 'file_size': '3561',\n",
       " 'user_agent': 'python-requests/2.21.0',\n",
       " 'ip_address': '97.105.19.58'}"
      ]
     },
     "execution_count": 27,
     "metadata": {},
     "output_type": "execute_result"
    }
   ],
   "source": [
    "#Test the regex against the third log file\n",
    "match3 = re.search(logfile_regex, log3)\n",
    "\n",
    "match3.groupdict()"
   ]
  },
  {
   "cell_type": "code",
   "execution_count": null,
   "id": "d062a134",
   "metadata": {},
   "outputs": [],
   "source": []
  },
  {
   "cell_type": "code",
   "execution_count": null,
   "id": "5e19104a",
   "metadata": {},
   "outputs": [],
   "source": []
  },
  {
   "cell_type": "code",
   "execution_count": null,
   "id": "cdbaa842",
   "metadata": {},
   "outputs": [],
   "source": []
  },
  {
   "cell_type": "code",
   "execution_count": null,
   "id": "7aeacd1a",
   "metadata": {},
   "outputs": [],
   "source": []
  }
 ],
 "metadata": {
  "kernelspec": {
   "display_name": "Python 3 (ipykernel)",
   "language": "python",
   "name": "python3"
  },
  "language_info": {
   "codemirror_mode": {
    "name": "ipython",
    "version": 3
   },
   "file_extension": ".py",
   "mimetype": "text/x-python",
   "name": "python",
   "nbconvert_exporter": "python",
   "pygments_lexer": "ipython3",
   "version": "3.9.12"
  }
 },
 "nbformat": 4,
 "nbformat_minor": 5
}
