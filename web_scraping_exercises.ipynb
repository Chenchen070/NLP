{
 "cells": [
  {
   "cell_type": "markdown",
   "id": "db31ae00",
   "metadata": {},
   "source": [
    "### 1. Codeup Blog Articles\n",
    "\n",
    "Visit Codeup's Blog and record the urls for at least 5 distinct blog posts. For each post, you should scrape at least the post's title and content.\n",
    "\n",
    "Encapsulate your work in a function named get_blog_articles that will return a list of dictionaries, with each dictionary representing one article. The shape of each dictionary should look like this:\n",
    "\n",
    "{\n",
    "    \n",
    "    'title': 'the title of the article',\n",
    "    \n",
    "    'content': 'the full text content of the article'\n",
    "}\n",
    "\n",
    "Plus any additional properties you think might be helpful.\n",
    "\n",
    "Bonus: Scrape the text of all the articles linked on codeup's blog page."
   ]
  },
  {
   "cell_type": "code",
   "execution_count": 2,
   "id": "3f50c8f3",
   "metadata": {},
   "outputs": [],
   "source": [
    "from requests import get\n",
    "from bs4 import BeautifulSoup\n",
    "import os\n",
    "import re\n",
    "import pandas as pd"
   ]
  },
  {
   "cell_type": "markdown",
   "id": "6ee482f3",
   "metadata": {},
   "source": [
    "* Codeup blog articles:\n",
    "    1. https://codeup.com/tips-for-prospective-students/mental-health-first-aid-training/\n",
    "    2. https://codeup.com/featured/5-reasons-to-attend-our-new-cloud-administration-program/\n",
    "    3. https://codeup.com/data-science/jobs-after-a-coding-bootcamp-part-1-data-science/\n",
    "    4. https://codeup.com/featured/what-jobs-can-you-get-after-a-coding-bootcamp-part-2-cloud-administration/\n",
    "    5. https://codeup.com/codeup-news/codeup-tv-commercial/"
   ]
  },
  {
   "cell_type": "code",
   "execution_count": 3,
   "id": "a5855105",
   "metadata": {},
   "outputs": [],
   "source": [
    "urls = ['https://codeup.com/tips-for-prospective-students/mental-health-first-aid-training/',\n",
    "       'https://codeup.com/featured/5-reasons-to-attend-our-new-cloud-administration-program/',\n",
    "       'https://codeup.com/data-science/jobs-after-a-coding-bootcamp-part-1-data-science/',\n",
    "       'https://codeup.com/featured/what-jobs-can-you-get-after-a-coding-bootcamp-part-2-cloud-administration/',\n",
    "       'https://codeup.com/codeup-news/codeup-tv-commercial/']"
   ]
  },
  {
   "cell_type": "code",
   "execution_count": 5,
   "id": "4c3caa48",
   "metadata": {},
   "outputs": [
    {
     "data": {
      "text/plain": [
       "<Response [200]>"
      ]
     },
     "execution_count": 5,
     "metadata": {},
     "output_type": "execute_result"
    }
   ],
   "source": [
    "url = 'https://codeup.com/tips-for-prospective-students/mental-health-first-aid-training/'\n",
    "headers = {'User-Agent': 'Codeup Data Science'} # codeup.com doesn't like our default user-agent\n",
    "response = get(url, headers=headers)\n",
    "response"
   ]
  },
  {
   "cell_type": "code",
   "execution_count": 26,
   "id": "99a8b396",
   "metadata": {},
   "outputs": [],
   "source": [
    "soup = BeautifulSoup(response.content, 'html.parser')"
   ]
  },
  {
   "cell_type": "code",
   "execution_count": 7,
   "id": "f4c2dacb",
   "metadata": {},
   "outputs": [
    {
     "data": {
      "text/plain": [
       "'Mental Health First Aid Training - Codeup'"
      ]
     },
     "execution_count": 7,
     "metadata": {},
     "output_type": "execute_result"
    }
   ],
   "source": [
    "title = soup.title.text\n",
    "title"
   ]
  },
  {
   "cell_type": "code",
   "execution_count": 30,
   "id": "0f601e66",
   "metadata": {},
   "outputs": [],
   "source": [
    "article = soup.find('div', id='main-content')\n",
    "text = article.text"
   ]
  },
  {
   "cell_type": "code",
   "execution_count": 20,
   "id": "8dc1f4bf",
   "metadata": {},
   "outputs": [
    {
     "data": {
      "text/plain": [
       "[<h1 class=\"entry-title\">Mental Health First Aid Training</h1>]"
      ]
     },
     "execution_count": 20,
     "metadata": {},
     "output_type": "execute_result"
    }
   ],
   "source": [
    "soup.select('h1.entry-title')"
   ]
  },
  {
   "cell_type": "code",
   "execution_count": 32,
   "id": "ddfbf615",
   "metadata": {},
   "outputs": [
    {
     "data": {
      "text/plain": [
       "'May 31, 2022'"
      ]
     },
     "execution_count": 32,
     "metadata": {},
     "output_type": "execute_result"
    }
   ],
   "source": [
    "date = soup.select('span.published')[0].text\n",
    "date"
   ]
  },
  {
   "cell_type": "code",
   "execution_count": 31,
   "id": "be879f43",
   "metadata": {},
   "outputs": [
    {
     "data": {
      "text/plain": [
       "[{'title': 'Mental Health First Aid Training - Codeup',\n",
       "  'content': '\\n\\n\\n\\n\\n\\nMental Health First Aid Training\\nMay 31, 2022 | Tips for Prospective Students\\n\\n\\nAs a student of Codeup, going through a massive career transition can be mentally taxing. Did you know that members of our student-facing staff and human resources team are trained in Mental Health First Aid? Let’s dive into what that means for Codeup!\\xa0\\nMental Health First Aid Training\\xa0\\nSome of our Codeup staff that works directly with our students are trained in Mental Health First Aid. This includes members of our student experience team, career coaches, and the human resources department. This training was courtesy of the Center for Health Care Services in San Antonio. They graciously provided the funding and training for our team in this pilot training program.\\xa0\\nWhat is Mental Health First Aid? According to mentalhhealthfirstaid.org, “is a course that teaches you how to identify, understand, and respond to signs of mental illness and substance use disorders. The training gives you the skills you need to reach out and provide initial help and support to someone who may be developing a mental health or substance use problem or experiencing a crisis”.\\nTo be clear, our staff are not licensed, mental health professionals. What MHFA equips our staff with are tools to gauge risk and connect students and staff with the help they might need. This might include recognizing something in a meeting, picking up on cues during a casual conversation, or acting on a pattern behavior.\\xa0\\nHow does this help our students?\\nMany who go through Codeup’s programs will tell you it is both rewarding and challenging all at the same time. Some students have compared learning at Codeup to\\xa0 “drinking from a firehouse”. You learn so much at once, so fast. This style of learning if you are not used to it can be taxing on anyone’s mental fortitude. This allows our staff who work closely with the students to be able to identify if a student is in need of mental health help.\\xa0\\nConsider Your Career Change Today\\nWhy does this skill set matter? You! We’re here to support your career transition as best we can, and Mental Health First Aid training is just one small piece of that larger support effort. Learn more about how we can support your career transition by applying today.\\xa0\\n\\xa0\\n\\n\\n\\n\\n\\n\\n\\n\\nOur ProgramsCloud Administration\\nFull Stack Web Development\\nData Science\\n\\n\\n\\n\\n\\nLatest Blog Articles\\nIs a Career in Tech Recession-Proof?\\nCodeup X Superhero Car Show & Comic Con\\nWhat Jobs Can You Get After a Coding Bootcamp? Part 3: Web Development\\nCodeup’s New Dallas Campus\\nCodeup TV Commercial\\n\\n\\n\\n\\n\\n\\n\\n\\n\\n\\n\\n\\n\\n\\n\\n\\n\\n \\n\\n\\n'}]"
      ]
     },
     "execution_count": 31,
     "metadata": {},
     "output_type": "execute_result"
    }
   ],
   "source": [
    "websites = []\n",
    "websites.append({\"title\": title, \"content\": text})\n",
    "websites"
   ]
  },
  {
   "cell_type": "code",
   "execution_count": 33,
   "id": "2cc7d8a2",
   "metadata": {},
   "outputs": [],
   "source": [
    "def get_blog_articles():\n",
    "    websites = []\n",
    "    urls = ['https://codeup.com/tips-for-prospective-students/mental-health-first-aid-training/',\n",
    "            'https://codeup.com/featured/5-reasons-to-attend-our-new-cloud-administration-program/',\n",
    "            'https://codeup.com/data-science/jobs-after-a-coding-bootcamp-part-1-data-science/',\n",
    "            'https://codeup.com/featured/what-jobs-can-you-get-after-a-coding-bootcamp-part-2-cloud-administration/',\n",
    "            'https://codeup.com/codeup-news/codeup-tv-commercial/']\n",
    "    for x in urls:\n",
    "        headers = {'User-Agent': 'Codeup Data Science'}\n",
    "        response = get(x, headers=headers)\n",
    "        soup = BeautifulSoup(response.content, 'html.parser')\n",
    "        title = soup.title.text\n",
    "        text = soup.find('div', id='main-content').text\n",
    "        date = soup.select('span.published')[0].text\n",
    "        websites.append({\"title\": title, \"content\": text, \"date_published\": date})\n",
    "    return websites"
   ]
  },
  {
   "cell_type": "code",
   "execution_count": 34,
   "id": "e1a6ef19",
   "metadata": {},
   "outputs": [
    {
     "data": {
      "text/plain": [
       "[{'title': 'Mental Health First Aid Training - Codeup',\n",
       "  'content': '\\n\\n\\n\\n\\n\\nMental Health First Aid Training\\nMay 31, 2022 | Tips for Prospective Students\\n\\n\\nAs a student of Codeup, going through a massive career transition can be mentally taxing. Did you know that members of our student-facing staff and human resources team are trained in Mental Health First Aid? Let’s dive into what that means for Codeup!\\xa0\\nMental Health First Aid Training\\xa0\\nSome of our Codeup staff that works directly with our students are trained in Mental Health First Aid. This includes members of our student experience team, career coaches, and the human resources department. This training was courtesy of the Center for Health Care Services in San Antonio. They graciously provided the funding and training for our team in this pilot training program.\\xa0\\nWhat is Mental Health First Aid? According to mentalhhealthfirstaid.org, “is a course that teaches you how to identify, understand, and respond to signs of mental illness and substance use disorders. The training gives you the skills you need to reach out and provide initial help and support to someone who may be developing a mental health or substance use problem or experiencing a crisis”.\\nTo be clear, our staff are not licensed, mental health professionals. What MHFA equips our staff with are tools to gauge risk and connect students and staff with the help they might need. This might include recognizing something in a meeting, picking up on cues during a casual conversation, or acting on a pattern behavior.\\xa0\\nHow does this help our students?\\nMany who go through Codeup’s programs will tell you it is both rewarding and challenging all at the same time. Some students have compared learning at Codeup to\\xa0 “drinking from a firehouse”. You learn so much at once, so fast. This style of learning if you are not used to it can be taxing on anyone’s mental fortitude. This allows our staff who work closely with the students to be able to identify if a student is in need of mental health help.\\xa0\\nConsider Your Career Change Today\\nWhy does this skill set matter? You! We’re here to support your career transition as best we can, and Mental Health First Aid training is just one small piece of that larger support effort. Learn more about how we can support your career transition by applying today.\\xa0\\n\\xa0\\n\\n\\n\\n\\n\\n\\n\\n\\nOur ProgramsCloud Administration\\nFull Stack Web Development\\nData Science\\n\\n\\n\\n\\n\\nLatest Blog Articles\\nIs a Career in Tech Recession-Proof?\\nCodeup X Superhero Car Show & Comic Con\\nWhat Jobs Can You Get After a Coding Bootcamp? Part 3: Web Development\\nCodeup’s New Dallas Campus\\nCodeup TV Commercial\\n\\n\\n\\n\\n\\n\\n\\n\\n\\n\\n\\n\\n\\n\\n\\n\\n\\n \\n\\n\\n',\n",
       "  'date_published': 'May 31, 2022'},\n",
       " {'title': '5 Reasons To Attend Our New Cloud Administration Program - Codeup',\n",
       "  'content': '\\n\\n\\n\\n\\n\\n5 Reasons To Attend Our New Cloud Administration Program\\nMay 17, 2022 | Codeup News, Featured, IT Training, Tips for Prospective Students\\n\\n\\nCome Work In The Cloud\\nWhen your Monday rolls around, do you start to get a sense of dread? That might be a sign to break up with your current job and learn something new.\\xa0At Codeup, we don’t want you to keep your head in the clouds while working a job you can’t stand. You should learn all about the cloud and cloud technology!\\xa0As we charge forward into 2022, we recently announced our brand new Cloud Administration Program.\\xa0\\nThis is a 15-week career accelerator that gets you hands-on experience with:\\n\\nNetworking\\nLinux Operating System\\xa0\\nWindows Operating System\\xa0\\nSecurity\\xa0\\nAmazon Web Services (AWS) Cloud Technology\\n\\nYou’ll earn two industry-recognized certifications as an AWS Cloud Practitioner and AWS Solutions Architect Associate. Both are included as part of your tuition. You will learn how to build infrastructure that enables software and data science products, manage cloud deployments, and optimize for cloud performance.\\xa0\\nHere are 5 reasons why we think you should attend our Cloud Administration program:\\xa0\\n\\xa0\\n1.) The Campus\\xa0\\nLocated on Rackspace property, our Castle campus has everything you need.\\xa0Tabletop games to play with classmates on break? We got foosball and ping pong!\\xa0Need a drink to quench your thirst? We have complimentary soda, water, and tea.\\xa0\\nThere is also lots of seating across the campus for you to study, have lunch, or even meet with classmates.\\xa0\\nParking is free since we are located on Rackspace’s property. You have the option to park about 100 ft away from our building, or you can park on the underground level to save your car from the heat if you attend during the summer months.\\xa0\\nThere is also plenty of food options within driving distance of campus. Fast food options include Mcdonald’s, Panda Express, and Bill Miller’s BBQ. For more sit-down restaurant options, you can visit Applebee’s, Buffalo Wild Wings, or Olive Garden. If you want to bring your lunch we have microwaves and refrigerators to enjoy your lunch on campus.\\xa0\\n\\xa0\\n2.) Time and Money Spent\\xa0\\nIn just 15 weeks you will be on your way to a new career that’s in high demand! That means you won’t have to wait 2 – 4 years like other traditional degree plans to get started in your new career.\\xa0\\nIs the cost of our program a concern? We totally understand if it is. Our Cloud Administration program is also the most affordable option of our three programs at Codeup if you’re looking to save the most money. It’s also more affordable than a traditional degree.\\xa0\\nAt Codeup we have a dedicated team of Financial Aid and Enrollment managers who will work with you one on one to ensure you have everything you need to pay for your time at Codeup that makes sense for your individual situation.\\xa0\\nWe have grants, scholarships, and student loans for those who qualify. If you’re a Veteran or a dependant of a Veteran you might have GI Bill benefits for use at Codeup. We just launched an exclusive scholarship with Climb Credit that you can apply for here.\\xa0\\nLastly, you can always go through your own financial institution to see what options are available to pay for Codeup.\\xa0\\nCheck out a walkthrough of our financial aid options here.\\xa0\\n\\xa0\\n3.) Salary & Benefits\\xa0\\nAlmost everyone changing careers during the “Great Resignation” is doing it for better pay and better benefits.\\xa0\\nWhat if I told you that any career you obtain through our Cloud Administration program offered you both a better salary and better benefits?\\xa0\\nAccording to Indeed.com the average salary for a Cloud Engineer right now is $118,712 in Texas (which is similar to the National average). This mirrors a Glassdoor Median Base salary of $118,999. Glassdoor also notes a job satisfaction rating of 4 out of 5 and over 10K open roles under the title Cloud Engineer.\\xa0\\nAre you guaranteed a salary like that after graduation? Not necessarily since this was an average salary. However, what that means is you have the potential to get to that level of salary at some point in your new career.\\nYour new skill sets could land you at a larger company like Accenture, EY, or even USAA. On the other hand, you could end up at a small company like a startup or SaaS (software as a service) company.\\xa0\\nBoth of those options will typically give you things like a great health care plan, generous amounts of time off, and additional perks like continuing education and gym discounts. Startups might be a little more unique in their offerings like remote work options, paying for new office equipment, and even potentially paying for an annual company retreat if the company works remotely.\\xa0\\n\\xa0\\n4.) Job Security\\nAccording to IT senior managers in a recent Robert Half survey, cloud expertise is the topmost in-demand skill set. This means cloud experts are in high demand and will continue to be as more companies adopt cloud infrastructures. The curriculum you go through in this program won’t stick you to just one lane. Coming out of the Cloud Administration program you could land a job as a:\\xa0\\n\\nCloud Engineer\\nCloud Network Engineer\\xa0\\nCloud Security Engineer\\xa0\\nCloud Architect\\xa0\\nCloud Administrator\\xa0\\n\\nHaving this many career options to choose from makes you a valuable and in-demand candidate for any tech company big or small. At Codeup, we have an employer-influenced curriculum. So once you graduate, you are equipped with the latest skills and knowledge today’s employers are looking for.\\xa0\\n\\xa0\\n5.) Our Instructors Are Next Level\\xa0\\nOur instructors genuinely care about your success. They lecture and take questions in real-time. Instead of giving you the answer, they will guide you in the right direction until you understand it yourself. They are all responsive and engaging, with a commitment to your success and a mission of empowering life change.\\xa0\\nAt other boot camps, you won’t find the same quality of instructors with industry experience, subject matter expertise, and live interactive lectures and lab. Even at the college level, professors often don’t provide individualized attention, hands-on learning, or accountability. Our instructors make a difference in your learning journey.\\xa0\\nIf having awesome instructors wasn’t enough, we also have a dedicated Student Experience team. This team is designed to work in collaboration with our instructors to ensure your success. Need a one-on-one session with your instructor? They can help with that. Need help just managing your time better? They can help with that too! These are passionate education professionals who want to empower you to get to that finish line we call graduation!\\xa0\\nRead more about why you need the best coding Bootcamp instructors here.\\xa0\\n\\xa0\\nWrapping Up\\nAs we mentioned, as more companies adopt cloud technologies the demand for cloud experts will only continue to grow. Take this as a sign to launch your career in tech and attend our brand new Cloud Administration program today.\\xa0\\nOur next class starts June 16th so don’t wait to get started and fill out this form here for our admissions team to get in touch with you. You can beat the heat this summer, learn new skills, and launch your career in the cloud! We can’t wait to hear from you! \\n\\n\\n\\n\\n\\n\\n\\n\\nOur ProgramsCloud Administration\\nFull Stack Web Development\\nData Science\\n\\n\\n\\n\\n\\nLatest Blog Articles\\nIs a Career in Tech Recession-Proof?\\nCodeup X Superhero Car Show & Comic Con\\nWhat Jobs Can You Get After a Coding Bootcamp? Part 3: Web Development\\nCodeup’s New Dallas Campus\\nCodeup TV Commercial\\n\\n\\n\\n\\n\\n\\n\\n\\n\\n\\n\\n\\n\\n\\n\\n\\n\\n \\n\\n\\n',\n",
       "  'date_published': 'May 17, 2022'},\n",
       " {'title': 'What Jobs Can You Get After a Coding Bootcamp?',\n",
       "  'content': '\\n\\n\\n\\n\\n\\nWhat Jobs Can You Get After a Coding Bootcamp? Part 1: Data Science\\nJul 7, 2022 | Data Science, Featured, Tips for Prospective Students\\n\\n\\nIf you are interested in embarking on a career in tech, you’re probably wondering what your new job title could be, and even what your salary might look like.*\\xa0In this mini-series, we will take each of our programs here at Codeup: Data Science, Web Development, and Cloud Administration, and outline respectively potential job titles, as well as entry-level salaries.\\xa0Today we will be diving into our Data Science program, with four potential job titles you could take on!\\nProgram Overview\\xa0\\nDuring this 20-week program, you will have the opportunity to take your career to new heights with data science being one of the most needed jobs in tech. You’ll gather data, then clean it, explore it for trends, and apply machine learning models to make predictions.\\nUpon completing this program, you will know how to turn insights into actionable recommendations. You’ll be a huge asset to any company, having all the technical skills to become a data scientist with projects upon projects of experience under your belt.\\xa0\\n1. Data Scientist\\xa0\\nEssentially, a Data Scientist is responsible for analyzing how a business performs to ensure the business stays competitive and relevant. They review the data for deeper meaning and examine it for patterns in an effort to create solutions to business problems. According to Zip Recruiter, the average entry-level salary for a Data Scientist in Texas is $60,677.\\n2. Data Analyst\\nA Data Analyst finds ways to solve a business’ problems through raw data analysis. They are then responsible for sharing this information with management and stakeholders. According to Indeed, the average entry-level salary for a Data Analyst is $60,332.\\n3. Machine Learning Engineer\\xa0\\nA Machine Learning (ML) Engineer is usually on a Data Science team. They are responsible for artificial intelligence, and its functions as well as making predictions on other machine learning capabilities. They will create ML prototypes and models, then test and retrain where necessary. According to Salary.com, the average entry-level salary for a ML Engineer is $115,795.\\n4. Business Intelligence Analyst\\xa0\\nA Business Intelligence Analyst, also known as a BI Analyst is responsible for understanding computer programming languages. Their primary goal is to give accurate insight to decision-makers regarding the market, productivity, competition, and customer responses. According to Payscale, the average entry-level salary for a BI Analyst is $58,627.\\nWe understand changing careers can be scary. If you chose Codeup, we will make sure you are plenty prepared to not only take on one of these roles but succeed in it.\\xa0\\nThis program gives you more than a textbook and a bank of pre-recorded lectures. You get hands-on instruction from industry experts, along with the power to change your life.\\xa0\\nIf you’re ready, apply today and let’s turn your dreams into reality and get your seat secured in our next Data Science cohort.\\xa0\\n\\xa0\\n*Disclaimer: All information presented in this article is by no means guaranteed by completing a Codeup program. Salaries and duties vary based on factors such as company, location, and experience. These salaries are estimates based on San Antonio, TX data, and these duties are general and may not be exact for every position. \\n\\xa0\\n\\n\\n\\n\\n\\n\\n\\n\\nOur ProgramsCloud Administration\\nFull Stack Web Development\\nData Science\\n\\n\\n\\n\\n\\nLatest Blog Articles\\nIs a Career in Tech Recession-Proof?\\nCodeup X Superhero Car Show & Comic Con\\nWhat Jobs Can You Get After a Coding Bootcamp? Part 3: Web Development\\nCodeup’s New Dallas Campus\\nCodeup TV Commercial\\n\\n\\n\\n\\n\\n\\n\\n\\n\\n\\n\\n\\n\\n\\n\\n\\n\\n \\n\\n\\n',\n",
       "  'date_published': 'Jul 7, 2022'},\n",
       " {'title': 'What Jobs Can You Get After a Coding Bootcamp? Part 2: Cloud Administration',\n",
       "  'content': '\\n\\n\\n\\n\\n\\nWhat Jobs Can You Get After a Coding Bootcamp? Part 2: Cloud Administration\\nJul 14, 2022 | Featured\\n\\n\\nHave you been considering a career in Cloud Administration, but have no idea what your job title or potential salary could be? Continue reading below to find out!\\nIn this mini-series, we will take each of our programs here at Codeup: Data Science, Web Development, and Cloud Administration, and outline respectively potential job titles, as well as entry-level salaries.*\\xa0Let’s discuss Cloud Administration.\\nProgram Overview\\nAt Codeup, we offer a 15-week Cloud Administration program, which was derived from our previous two programs: Systems Engineering and Cyber Cloud. We combined the best of both and blended hands-on practical knowledge with skilled instructors to create the Cloud Administration program.\\nUpon completing this program, you’ll have the opportunity to take on two exams for certifications: Amazon Web Services (AWS) Cloud Practitioner and AWS Solutions Architect Associate.\\xa0\\nPotential Jobs\\nAccording to A Cloud Guru, with an AWS Certification you’ll be equipped with the knowledge and experience to secure a job as the following:\\n1. Cloud Architect\\nAs a Cloud Architect, you will double as an IT specialist responsible for your organization’s cloud infrastructure. This includes system monitoring, computing strategy, planning, building and deployment. An entry-level Cloud Architect can make an estimated $93,892 annually according to Glassdoor.\\xa0\\n2. Cloud Developer\\nA Cloud Developer’s main duties align with a software developer’s. The differentiating factor is a Cloud Developer operates virtually with cloud computing technology. This may include the design, analysis and maintenance of a company’s cloud infrastructure. An entry-level Cloud Developer can make an estimated $89,652 annually according to Glassdoor.\\xa0\\n3. Cloud Systems Administrator\\nA Cloud Systems Administrator can be expected to provide insight on cloud systems, specifically working with IT to provide assistance and resolve operational issues. An entry-level Cloud Systems Administrator can make an estimated $64,805 annually according to Glassdoor.\\nHonorable Mention\\nA few additional roles to consider with AWS Certification include:\\xa0\\n\\nCloud DevOps Engineer- Estimated Entry-Level Salary $88,563\\nCloud Security Engineer- Estimated Entry-Level Salary $85,111\\nCloud Data Architect- Estimated Entry-Level Salary $91,598\\nCloud Consultant- Estimated Entry-Level Salary $72,474\\n\\nInterested in the other parts of this mini-series? Check them out below!\\n\\nPart 1: Data Science\\nPart 3: Web Development (Coming Soon!)\\xa0\\n\\n*Disclaimer: All information presented in this article is by no means guaranteed by completing a Codeup program. Salaries and duties vary based on factors such as company, location, and experience. These salaries are estimates based on San Antonio, TX data, and these duties are general and may not be exact for every position. \\n\\n\\n\\n\\n\\n\\n\\n\\nOur ProgramsCloud Administration\\nFull Stack Web Development\\nData Science\\n\\n\\n\\n\\n\\nLatest Blog Articles\\nIs a Career in Tech Recession-Proof?\\nCodeup X Superhero Car Show & Comic Con\\nWhat Jobs Can You Get After a Coding Bootcamp? Part 3: Web Development\\nCodeup’s New Dallas Campus\\nCodeup TV Commercial\\n\\n\\n\\n\\n\\n\\n\\n\\n\\n\\n\\n\\n\\n\\n\\n\\n\\n \\n\\n\\n',\n",
       "  'date_published': 'Jul 14, 2022'},\n",
       " {'title': 'Codeup TV Commercial - Codeup News',\n",
       "  'content': '\\n\\n\\n\\n\\n\\nCodeup TV Commercial\\nJul 20, 2022 | Codeup News\\n\\n\\nCodeup has officially made its TV debut! Our community of students, staff and CEO gathered to create the first-ever Codeup TV Commercial! Check it out to get a rundown of our offerings, and take a peek into our downtown Vogue campus where the commercial was filmed.\\nView the Codeup TV commercial below to see what the hype is about!\\n\\nCheck out some behind-the-scenes of filming:\\n\\n\\n\\n\\n\\n\\n\\n\\n\\n\\n\\n\\nCodeup would love to help you jumpstart your career in tech. If you’re interested in learning more, check out our program offerings. When you’re ready, start the process by filling out a quick form found here. \\n“COME JOIN US!”\\n\\n\\n\\n\\n\\n\\n\\n\\nOur ProgramsCloud Administration\\nFull Stack Web Development\\nData Science\\n\\n\\n\\n\\n\\nLatest Blog Articles\\nIs a Career in Tech Recession-Proof?\\nCodeup X Superhero Car Show & Comic Con\\nWhat Jobs Can You Get After a Coding Bootcamp? Part 3: Web Development\\nCodeup’s New Dallas Campus\\nCodeup TV Commercial\\n\\n\\n\\n\\n\\n\\n\\n\\n\\n\\n\\n\\n\\n\\n\\n\\n\\n \\n\\n\\n',\n",
       "  'date_published': 'Jul 20, 2022'}]"
      ]
     },
     "execution_count": 34,
     "metadata": {},
     "output_type": "execute_result"
    }
   ],
   "source": [
    "websites = get_blog_articles()\n",
    "websites"
   ]
  },
  {
   "cell_type": "markdown",
   "id": "58734e60",
   "metadata": {},
   "source": [
    "### 2. News Articles\n",
    "\n",
    "We will now be scraping text data from inshorts, a website that provides a brief overview of many different topics.\n",
    "\n",
    "Write a function that scrapes the news articles for the following topics:\n",
    "\n",
    "* Business\n",
    "* Sports\n",
    "* Technology\n",
    "* Entertainment\n",
    "The end product of this should be a function named get_news_articles that returns a list of dictionaries, where each dictionary has this shape:\n",
    "{\n",
    "\n",
    "    'title': 'The article title',\n",
    "    \n",
    "    'content': 'The article content',\n",
    "    \n",
    "    'category': 'business' # for example\n",
    "}\n",
    "\n",
    "Hints:\n",
    "\n",
    "    a. Start by inspecting the website in your browser. Figure out which elements will be useful.\n",
    "    b. Start by creating a function that handles a single article and produces a dictionary like the one above.\n",
    "    c. Next create a function that will find all the articles on a single page and call the function you created in the last step for every article on the page.\n",
    "    d. Now create a function that will use the previous two functions to scrape the articles from all the pages that you need, and do any additional processing that needs to be done."
   ]
  },
  {
   "cell_type": "markdown",
   "id": "b96bf711",
   "metadata": {},
   "source": [
    "### get one specific information from one news"
   ]
  },
  {
   "cell_type": "code",
   "execution_count": 36,
   "id": "f32c5f62",
   "metadata": {},
   "outputs": [],
   "source": [
    "url = 'https://inshorts.com/en/news/cancelling-ac-firstclass-confirmed-train-tickets-to-now-attract-5-gst-1661858617350'\n",
    "headers = {'User-Agent': 'Codeup Data Science'}\n",
    "response = get(url, headers=headers)\n",
    "soup = BeautifulSoup(response.content, 'html.parser')"
   ]
  },
  {
   "cell_type": "code",
   "execution_count": 37,
   "id": "a19a6bb8",
   "metadata": {},
   "outputs": [
    {
     "data": {
      "text/plain": [
       "<Response [200]>"
      ]
     },
     "execution_count": 37,
     "metadata": {},
     "output_type": "execute_result"
    }
   ],
   "source": [
    "response"
   ]
  },
  {
   "cell_type": "code",
   "execution_count": 51,
   "id": "ad924e74",
   "metadata": {},
   "outputs": [
    {
     "data": {
      "text/plain": [
       "'Cancelling AC, first-class confirmed train tickets to now attract 5% GST'"
      ]
     },
     "execution_count": 51,
     "metadata": {},
     "output_type": "execute_result"
    }
   ],
   "source": [
    "title = soup.find('span', itemprop = 'headline').text\n",
    "title"
   ]
  },
  {
   "cell_type": "code",
   "execution_count": 53,
   "id": "a65aa320",
   "metadata": {},
   "outputs": [
    {
     "data": {
      "text/plain": [
       "'The Finance Ministry stated that cancellation of confirmed first-class and AC coach tickets will now attract 5% GST. As per their circular, the booking of tickets is a \"contract\", under which the service provider (IRCTC/Indian Railways) promises services to the customer. And if the contract is breached by the passenger, the service provider is compensated with a small amount. '"
      ]
     },
     "execution_count": 53,
     "metadata": {},
     "output_type": "execute_result"
    }
   ],
   "source": [
    "body = soup.find('div', itemprop = 'articleBody').text\n",
    "body"
   ]
  },
  {
   "cell_type": "code",
   "execution_count": 57,
   "id": "10bc4265",
   "metadata": {},
   "outputs": [
    {
     "data": {
      "text/plain": [
       "'Ridham Gambhir'"
      ]
     },
     "execution_count": 57,
     "metadata": {},
     "output_type": "execute_result"
    }
   ],
   "source": [
    "author = soup.find('span', class_ = 'author').text\n",
    "author"
   ]
  },
  {
   "cell_type": "code",
   "execution_count": 63,
   "id": "b0196931",
   "metadata": {},
   "outputs": [
    {
     "data": {
      "text/plain": [
       "'2022-08-30T11:23:37.000Z'"
      ]
     },
     "execution_count": 63,
     "metadata": {},
     "output_type": "execute_result"
    }
   ],
   "source": [
    "date = soup.find(\"span\", class_=\"time\")[\"content\"]\n",
    "date"
   ]
  },
  {
   "cell_type": "code",
   "execution_count": 98,
   "id": "295989e0",
   "metadata": {},
   "outputs": [],
   "source": [
    "def get_one_news():\n",
    "    news = []\n",
    "    url = ['https://inshorts.com/en/news/cancelling-ac-firstclass-confirmed-train-tickets-to-now-attract-5-gst-1661858617350']\n",
    "    for x in url:\n",
    "        headers = {'User-Agent': 'Codeup Data Science'}\n",
    "        response = get(x, headers=headers)\n",
    "        soup = BeautifulSoup(response.content, 'html.parser')\n",
    "        title = soup.find('span', itemprop = 'headline').text\n",
    "        body = soup.find('div', itemprop = 'articleBody').text\n",
    "        author = soup.find('span', class_ = 'author').text\n",
    "        date = soup.find(\"span\", class_=\"time\")[\"content\"]\n",
    "        news.append({\"title\": title, \"content\": body, \"author\": author, \"date\": date})\n",
    "    return news"
   ]
  },
  {
   "cell_type": "code",
   "execution_count": 99,
   "id": "d76b714f",
   "metadata": {},
   "outputs": [
    {
     "data": {
      "text/plain": [
       "[{'title': 'Cancelling AC, first-class confirmed train tickets to now attract 5% GST',\n",
       "  'content': 'The Finance Ministry stated that cancellation of confirmed first-class and AC coach tickets will now attract 5% GST. As per their circular, the booking of tickets is a \"contract\", under which the service provider (IRCTC/Indian Railways) promises services to the customer. And if the contract is breached by the passenger, the service provider is compensated with a small amount. ',\n",
       "  'author': 'Ridham Gambhir',\n",
       "  'date': '2022-08-30T11:23:37.000Z'}]"
      ]
     },
     "execution_count": 99,
     "metadata": {},
     "output_type": "execute_result"
    }
   ],
   "source": [
    "one_news = get_one_news()\n",
    "one_news"
   ]
  },
  {
   "cell_type": "markdown",
   "id": "9033781a",
   "metadata": {},
   "source": [
    "### get the urls from one topic"
   ]
  },
  {
   "cell_type": "code",
   "execution_count": 70,
   "id": "037ee144",
   "metadata": {},
   "outputs": [],
   "source": [
    "url = \"https://inshorts.com/en/read/business\"\n",
    "headers = {'User-Agent': 'Codeup Data Science'}\n",
    "response = get(url, headers=headers)\n",
    "soup = BeautifulSoup(response.content, 'html.parser')"
   ]
  },
  {
   "cell_type": "code",
   "execution_count": 68,
   "id": "9a210ac3",
   "metadata": {},
   "outputs": [
    {
     "data": {
      "text/plain": [
       "<li class=\"active-category selected\">All News</li>"
      ]
     },
     "execution_count": 68,
     "metadata": {},
     "output_type": "execute_result"
    }
   ],
   "source": [
    "soup.find('li', class_ = 'active-category')"
   ]
  },
  {
   "cell_type": "code",
   "execution_count": 71,
   "id": "55a27571",
   "metadata": {},
   "outputs": [
    {
     "data": {
      "text/plain": [
       "['http:///en/news/indias-gdp-grows-at-135-in-first-quarter-of-fy23-fastest-in-a-year-1661948679998',\n",
       " 'http:///en/news/musk-seeks-to-delay-twitter-trial-to-nov-amid-whistleblowers-claims-1661915789584',\n",
       " 'http:///en/news/2-top-executives-at-snap-quit-hours-after-report-about-20-layoffs-emerges-1661919101133',\n",
       " 'http:///en/news/musk-cites-whistleblowers-claims-in-new-notice-as-reason-to-end-twitter-deal-1661860951964',\n",
       " 'http:///en/news/viral-video-shows-amazon-parcels-thrown-out-of-train-at-station-railways-clarifies-1661934085226',\n",
       " 'http:///en/news/dell-among-firms-conducting-stay-interviews-to-contain-high-attrition-rates-report-1661941889565',\n",
       " 'http:///en/news/worlds-3rd-richest-person-adanis-wealth-surged-over-13-times-in-25-years-1661925711652',\n",
       " 'http:///en/news/russias-gazprom-halts-gas-supply-to-europe-via-major-pipeline-1661923360139',\n",
       " 'http:///en/news/infosys-divests-entire-stake-in-usbased-trifacta-for-$12-million-1661935784212',\n",
       " 'http:///en/news/softbank-corporate-officer-rajeev-misra-steps-down-amid-record-loss-1661945640854',\n",
       " 'http:///en/news/japan-calls-for-$24-bn-investment-to-boost-battery-competitiveness-1661942692610',\n",
       " 'http:///en/news/netflix-hires-2-top-advertising-executives-from-snapchatparent-snap-inc-1661942596178',\n",
       " 'http:///en/news/most-of-crypto-still-junk-jp-morgans-digital-assets-division-head-1661872239754',\n",
       " 'http:///en/news/indonesias-goto-seeks-to-raise-$1-billion-via-convertible-bonds-report-1661865122665',\n",
       " 'http:///en/news/axis-bank-looking-to-acquire-10-stake-in-go-digit-report-1661877190514',\n",
       " 'http:///en/news/ev-firm-lucid-files-mixed-shelf-offering-of-up-to-$8-bn-1661876831360',\n",
       " 'http:///en/news/tata-motors-completes-buying-of-marcopolos-stake-for-₹9996-crore-1661935253496',\n",
       " 'http:///en/news/states-uts-to-get-chana-at-₹8kg-discount-for-welfare-schemes-1661944754617',\n",
       " 'http:///en/news/pak-at-challenging-economic-juncture-imf-while-approving-bailout-1661943651349',\n",
       " 'http:///en/news/average-pay-of-nifty50-firm-chiefs-rose-to-₹284-cr-in-fy22-reports-1661861291519',\n",
       " 'http:///en/news/indias-b2b-general-trade-to-reach-$12-trillion-by-2030-redseer-1661948782627',\n",
       " 'http:///en/news/tata-steel-to-invest-in-hydrogenbased-steel-production-in-netherlands-1661923223362',\n",
       " 'http:///en/news/nsdl-likely-to-shortlist-7-investment-banks-for-2023-ipo-reports-1661920683557',\n",
       " 'http:///en/news/air-india-retains-captain-rs-sandhu-as-chief-of-operations-1661942508796',\n",
       " 'http:///en/news/fpis-turn-net-buyers-of-indian-shares-in-a-month-1st-time-since-sept-2021-1661943651337']"
      ]
     },
     "execution_count": 71,
     "metadata": {},
     "output_type": "execute_result"
    }
   ],
   "source": [
    "urls = []\n",
    "for link in soup.find_all(\"a\", href=True):\n",
    "    urls.append(link[\"href\"])\n",
    "lines = pd.Series(urls)\n",
    "urls = lines[lines.str.contains(r\"^/en/news\")].tolist()\n",
    "new_urls = []\n",
    "for i in urls:\n",
    "    new_urls.append(\"http://\" + i)\n",
    "new_urls"
   ]
  },
  {
   "cell_type": "code",
   "execution_count": 82,
   "id": "47f76021",
   "metadata": {},
   "outputs": [],
   "source": [
    "def get_url_business():\n",
    "    url = f\"https://inshorts.com/en/read/business\"\n",
    "    headers = {'User-Agent': 'Codeup Data Science'}\n",
    "    response = get(url, headers=headers)\n",
    "    soup = BeautifulSoup(response.content, 'html.parser')\n",
    "    urls = []\n",
    "    # Find all links within that topic\n",
    "    for link in soup.find_all(\"a\", href=True):\n",
    "        urls.append(link[\"href\"])\n",
    "        lines = pd.Series(urls)\n",
    "        urls = lines[lines.str.contains(r\"^/en/news\")].tolist()\n",
    "        new_urls = []\n",
    "        for i in urls:\n",
    "            new_urls.append(\"https://inshorts.com\" + i)\n",
    "    return new_urls"
   ]
  },
  {
   "cell_type": "markdown",
   "id": "59b9375a",
   "metadata": {},
   "source": [
    "### get articles from one topic"
   ]
  },
  {
   "cell_type": "code",
   "execution_count": 96,
   "id": "276b8592",
   "metadata": {},
   "outputs": [],
   "source": [
    "def get_business_new():\n",
    "    urls = get_url_business()\n",
    "    news = []\n",
    "    for x in urls:\n",
    "        headers = {'User-Agent': 'Codeup Data Science'}\n",
    "        response = get(x, headers=headers)\n",
    "        soup = BeautifulSoup(response.content, 'html.parser')\n",
    "        title = soup.find('span', itemprop = 'headline').text\n",
    "        body = soup.find('div', itemprop = 'articleBody').text\n",
    "        author = soup.find('span', class_ = 'author').text\n",
    "        date = soup.find(\"span\", class_=\"time\")[\"content\"]\n",
    "        news.append({\"title\": title, \"body\": body, \"author\": author, \"date\": date, 'topic':'business'})\n",
    "    return pd.DataFrame(news)"
   ]
  },
  {
   "cell_type": "code",
   "execution_count": 97,
   "id": "25c4b6f6",
   "metadata": {},
   "outputs": [
    {
     "data": {
      "text/html": [
       "<div>\n",
       "<style scoped>\n",
       "    .dataframe tbody tr th:only-of-type {\n",
       "        vertical-align: middle;\n",
       "    }\n",
       "\n",
       "    .dataframe tbody tr th {\n",
       "        vertical-align: top;\n",
       "    }\n",
       "\n",
       "    .dataframe thead th {\n",
       "        text-align: right;\n",
       "    }\n",
       "</style>\n",
       "<table border=\"1\" class=\"dataframe\">\n",
       "  <thead>\n",
       "    <tr style=\"text-align: right;\">\n",
       "      <th></th>\n",
       "      <th>title</th>\n",
       "      <th>body</th>\n",
       "      <th>author</th>\n",
       "      <th>date</th>\n",
       "      <th>topic</th>\n",
       "    </tr>\n",
       "  </thead>\n",
       "  <tbody>\n",
       "    <tr>\n",
       "      <th>0</th>\n",
       "      <td>India's GDP grows at 13.5% in first quarter of...</td>\n",
       "      <td>India's GDP grew at 13.5% in the first quarter...</td>\n",
       "      <td>Anmol Sharma</td>\n",
       "      <td>2022-08-31T12:24:39.000Z</td>\n",
       "      <td>business</td>\n",
       "    </tr>\n",
       "    <tr>\n",
       "      <th>1</th>\n",
       "      <td>Musk seeks to delay Twitter trial to Nov amid ...</td>\n",
       "      <td>Tesla CEO Elon Musk is seeking to delay the tr...</td>\n",
       "      <td>Ridham Gambhir</td>\n",
       "      <td>2022-08-31T03:16:29.000Z</td>\n",
       "      <td>business</td>\n",
       "    </tr>\n",
       "    <tr>\n",
       "      <th>2</th>\n",
       "      <td>2 top executives at Snap quit hours after repo...</td>\n",
       "      <td>Two senior advertising executives at Snap quit...</td>\n",
       "      <td>Ridham Gambhir</td>\n",
       "      <td>2022-08-31T04:11:41.000Z</td>\n",
       "      <td>business</td>\n",
       "    </tr>\n",
       "    <tr>\n",
       "      <th>3</th>\n",
       "      <td>Viral video shows Amazon parcels thrown out of...</td>\n",
       "      <td>A video from Guwahati railway station has gone...</td>\n",
       "      <td>Apaar Sharma</td>\n",
       "      <td>2022-08-31T08:21:25.000Z</td>\n",
       "      <td>business</td>\n",
       "    </tr>\n",
       "    <tr>\n",
       "      <th>4</th>\n",
       "      <td>Dell among firms conducting stay interviews to...</td>\n",
       "      <td>To contain the high attrition rates, some comp...</td>\n",
       "      <td>Ridham Gambhir</td>\n",
       "      <td>2022-08-31T10:31:29.000Z</td>\n",
       "      <td>business</td>\n",
       "    </tr>\n",
       "    <tr>\n",
       "      <th>5</th>\n",
       "      <td>World's 3rd richest person Adani's wealth surg...</td>\n",
       "      <td>Adani Group Chairman Gautam Adani on Tuesday b...</td>\n",
       "      <td>Ridham Gambhir</td>\n",
       "      <td>2022-08-31T06:01:51.000Z</td>\n",
       "      <td>business</td>\n",
       "    </tr>\n",
       "    <tr>\n",
       "      <th>6</th>\n",
       "      <td>Russia's Gazprom halts gas supply to Europe vi...</td>\n",
       "      <td>Russia stopped gas supplies via a major pipeli...</td>\n",
       "      <td>Srishty Choudhury</td>\n",
       "      <td>2022-08-31T05:22:40.000Z</td>\n",
       "      <td>business</td>\n",
       "    </tr>\n",
       "    <tr>\n",
       "      <th>7</th>\n",
       "      <td>Netflix hires 2 top advertising executives fro...</td>\n",
       "      <td>Netflix on Tuesday announced that it has hired...</td>\n",
       "      <td>Ashley Paul</td>\n",
       "      <td>2022-08-31T10:43:16.000Z</td>\n",
       "      <td>business</td>\n",
       "    </tr>\n",
       "    <tr>\n",
       "      <th>8</th>\n",
       "      <td>Japan calls for $24 bn investment to boost bat...</td>\n",
       "      <td>Japan's Ministry of Economy, Trade and Industr...</td>\n",
       "      <td>Purnima Rajput</td>\n",
       "      <td>2022-08-31T10:44:52.000Z</td>\n",
       "      <td>business</td>\n",
       "    </tr>\n",
       "    <tr>\n",
       "      <th>9</th>\n",
       "      <td>Most of crypto still junk: JP Morgan's digital...</td>\n",
       "      <td>JP Morgan's digital assets division head Umar ...</td>\n",
       "      <td>Ashley Paul</td>\n",
       "      <td>2022-08-30T15:10:39.000Z</td>\n",
       "      <td>business</td>\n",
       "    </tr>\n",
       "    <tr>\n",
       "      <th>10</th>\n",
       "      <td>Infosys divests entire stake in US-based Trifa...</td>\n",
       "      <td>Infosys said that it has divested its stake in...</td>\n",
       "      <td>Srishty Choudhury</td>\n",
       "      <td>2022-08-31T08:49:44.000Z</td>\n",
       "      <td>business</td>\n",
       "    </tr>\n",
       "    <tr>\n",
       "      <th>11</th>\n",
       "      <td>Indonesia's GoTo seeks to raise $1 billion via...</td>\n",
       "      <td>Indonesia's largest technology firm GoTo is se...</td>\n",
       "      <td>Ashley Paul</td>\n",
       "      <td>2022-08-30T13:12:02.000Z</td>\n",
       "      <td>business</td>\n",
       "    </tr>\n",
       "    <tr>\n",
       "      <th>12</th>\n",
       "      <td>SoftBank Corporate Officer Rajeev Misra steps ...</td>\n",
       "      <td>SoftBank Group's Corporate Officer and Executi...</td>\n",
       "      <td>Srishty Choudhury</td>\n",
       "      <td>2022-08-31T11:34:00.000Z</td>\n",
       "      <td>business</td>\n",
       "    </tr>\n",
       "    <tr>\n",
       "      <th>13</th>\n",
       "      <td>EV firm Lucid files mixed shelf offering of up...</td>\n",
       "      <td>Electric vehicle company Lucid Group Inc has f...</td>\n",
       "      <td>Anisha Joneja</td>\n",
       "      <td>2022-08-30T16:27:11.000Z</td>\n",
       "      <td>business</td>\n",
       "    </tr>\n",
       "    <tr>\n",
       "      <th>14</th>\n",
       "      <td>Tata Motors completes buying of Marcopolo's st...</td>\n",
       "      <td>Tata Motors has completed the acquisition of i...</td>\n",
       "      <td>Srishty Choudhury</td>\n",
       "      <td>2022-08-31T08:40:53.000Z</td>\n",
       "      <td>business</td>\n",
       "    </tr>\n",
       "    <tr>\n",
       "      <th>15</th>\n",
       "      <td>Axis Bank looking to acquire 10% stake in Go D...</td>\n",
       "      <td>Axis Bank is looking to acquire a 10% stake fo...</td>\n",
       "      <td>Anisha Joneja</td>\n",
       "      <td>2022-08-30T16:33:10.000Z</td>\n",
       "      <td>business</td>\n",
       "    </tr>\n",
       "    <tr>\n",
       "      <th>16</th>\n",
       "      <td>States, UTs to get chana at ₹8/kg discount for...</td>\n",
       "      <td>The Union Cabinet has approved the disposal of...</td>\n",
       "      <td>Srishty Choudhury</td>\n",
       "      <td>2022-08-31T11:19:14.000Z</td>\n",
       "      <td>business</td>\n",
       "    </tr>\n",
       "    <tr>\n",
       "      <th>17</th>\n",
       "      <td>IMF to make formal announcement on SL bailout ...</td>\n",
       "      <td>International Monetary Fund (IMF) is likely to...</td>\n",
       "      <td>Ashley Paul</td>\n",
       "      <td>2022-08-31T14:12:54.000Z</td>\n",
       "      <td>business</td>\n",
       "    </tr>\n",
       "    <tr>\n",
       "      <th>18</th>\n",
       "      <td>Pak at challenging economic juncture: IMF whil...</td>\n",
       "      <td>Pakistan is at a \"challenging economic junctur...</td>\n",
       "      <td>Srishty Choudhury</td>\n",
       "      <td>2022-08-31T11:00:51.000Z</td>\n",
       "      <td>business</td>\n",
       "    </tr>\n",
       "    <tr>\n",
       "      <th>19</th>\n",
       "      <td>Tata Steel to invest in hydrogen-based steel p...</td>\n",
       "      <td>Tata Steel has said that it will invest more t...</td>\n",
       "      <td>Purnima Rajput</td>\n",
       "      <td>2022-08-31T05:20:23.000Z</td>\n",
       "      <td>business</td>\n",
       "    </tr>\n",
       "    <tr>\n",
       "      <th>20</th>\n",
       "      <td>FPIs turn net buyers of Indian shares in a mon...</td>\n",
       "      <td>In August 2022, the first month of net inflows...</td>\n",
       "      <td>Srishty Choudhury</td>\n",
       "      <td>2022-08-31T11:00:51.000Z</td>\n",
       "      <td>business</td>\n",
       "    </tr>\n",
       "    <tr>\n",
       "      <th>21</th>\n",
       "      <td>NSDL likely to shortlist 7 investment banks fo...</td>\n",
       "      <td>IDBI Bank and the NSE-backed National Securiti...</td>\n",
       "      <td>Srishty Choudhury</td>\n",
       "      <td>2022-08-31T04:38:03.000Z</td>\n",
       "      <td>business</td>\n",
       "    </tr>\n",
       "    <tr>\n",
       "      <th>22</th>\n",
       "      <td>Average pay of Nifty50 firm chiefs rose to ₹28...</td>\n",
       "      <td>The average remuneration for the MDs and the C...</td>\n",
       "      <td>Srishty Choudhury</td>\n",
       "      <td>2022-08-30T12:08:11.000Z</td>\n",
       "      <td>business</td>\n",
       "    </tr>\n",
       "    <tr>\n",
       "      <th>23</th>\n",
       "      <td>Air India retains Captain RS Sandhu as Chief o...</td>\n",
       "      <td>Tata-owned Air India announced on Tuesday that...</td>\n",
       "      <td>Srishty Choudhury</td>\n",
       "      <td>2022-08-31T10:41:48.000Z</td>\n",
       "      <td>business</td>\n",
       "    </tr>\n",
       "    <tr>\n",
       "      <th>24</th>\n",
       "      <td>India's B2B general trade to reach $1.2 trilli...</td>\n",
       "      <td>According to a report by Redseer Strategy Cons...</td>\n",
       "      <td>Anisha Joneja</td>\n",
       "      <td>2022-08-31T12:26:22.000Z</td>\n",
       "      <td>business</td>\n",
       "    </tr>\n",
       "  </tbody>\n",
       "</table>\n",
       "</div>"
      ],
      "text/plain": [
       "                                                title  \\\n",
       "0   India's GDP grows at 13.5% in first quarter of...   \n",
       "1   Musk seeks to delay Twitter trial to Nov amid ...   \n",
       "2   2 top executives at Snap quit hours after repo...   \n",
       "3   Viral video shows Amazon parcels thrown out of...   \n",
       "4   Dell among firms conducting stay interviews to...   \n",
       "5   World's 3rd richest person Adani's wealth surg...   \n",
       "6   Russia's Gazprom halts gas supply to Europe vi...   \n",
       "7   Netflix hires 2 top advertising executives fro...   \n",
       "8   Japan calls for $24 bn investment to boost bat...   \n",
       "9   Most of crypto still junk: JP Morgan's digital...   \n",
       "10  Infosys divests entire stake in US-based Trifa...   \n",
       "11  Indonesia's GoTo seeks to raise $1 billion via...   \n",
       "12  SoftBank Corporate Officer Rajeev Misra steps ...   \n",
       "13  EV firm Lucid files mixed shelf offering of up...   \n",
       "14  Tata Motors completes buying of Marcopolo's st...   \n",
       "15  Axis Bank looking to acquire 10% stake in Go D...   \n",
       "16  States, UTs to get chana at ₹8/kg discount for...   \n",
       "17  IMF to make formal announcement on SL bailout ...   \n",
       "18  Pak at challenging economic juncture: IMF whil...   \n",
       "19  Tata Steel to invest in hydrogen-based steel p...   \n",
       "20  FPIs turn net buyers of Indian shares in a mon...   \n",
       "21  NSDL likely to shortlist 7 investment banks fo...   \n",
       "22  Average pay of Nifty50 firm chiefs rose to ₹28...   \n",
       "23  Air India retains Captain RS Sandhu as Chief o...   \n",
       "24  India's B2B general trade to reach $1.2 trilli...   \n",
       "\n",
       "                                                 body             author  \\\n",
       "0   India's GDP grew at 13.5% in the first quarter...       Anmol Sharma   \n",
       "1   Tesla CEO Elon Musk is seeking to delay the tr...     Ridham Gambhir   \n",
       "2   Two senior advertising executives at Snap quit...     Ridham Gambhir   \n",
       "3   A video from Guwahati railway station has gone...       Apaar Sharma   \n",
       "4   To contain the high attrition rates, some comp...     Ridham Gambhir   \n",
       "5   Adani Group Chairman Gautam Adani on Tuesday b...     Ridham Gambhir   \n",
       "6   Russia stopped gas supplies via a major pipeli...  Srishty Choudhury   \n",
       "7   Netflix on Tuesday announced that it has hired...        Ashley Paul   \n",
       "8   Japan's Ministry of Economy, Trade and Industr...     Purnima Rajput   \n",
       "9   JP Morgan's digital assets division head Umar ...        Ashley Paul   \n",
       "10  Infosys said that it has divested its stake in...  Srishty Choudhury   \n",
       "11  Indonesia's largest technology firm GoTo is se...        Ashley Paul   \n",
       "12  SoftBank Group's Corporate Officer and Executi...  Srishty Choudhury   \n",
       "13  Electric vehicle company Lucid Group Inc has f...      Anisha Joneja   \n",
       "14  Tata Motors has completed the acquisition of i...  Srishty Choudhury   \n",
       "15  Axis Bank is looking to acquire a 10% stake fo...      Anisha Joneja   \n",
       "16  The Union Cabinet has approved the disposal of...  Srishty Choudhury   \n",
       "17  International Monetary Fund (IMF) is likely to...        Ashley Paul   \n",
       "18  Pakistan is at a \"challenging economic junctur...  Srishty Choudhury   \n",
       "19  Tata Steel has said that it will invest more t...     Purnima Rajput   \n",
       "20  In August 2022, the first month of net inflows...  Srishty Choudhury   \n",
       "21  IDBI Bank and the NSE-backed National Securiti...  Srishty Choudhury   \n",
       "22  The average remuneration for the MDs and the C...  Srishty Choudhury   \n",
       "23  Tata-owned Air India announced on Tuesday that...  Srishty Choudhury   \n",
       "24  According to a report by Redseer Strategy Cons...      Anisha Joneja   \n",
       "\n",
       "                        date     topic  \n",
       "0   2022-08-31T12:24:39.000Z  business  \n",
       "1   2022-08-31T03:16:29.000Z  business  \n",
       "2   2022-08-31T04:11:41.000Z  business  \n",
       "3   2022-08-31T08:21:25.000Z  business  \n",
       "4   2022-08-31T10:31:29.000Z  business  \n",
       "5   2022-08-31T06:01:51.000Z  business  \n",
       "6   2022-08-31T05:22:40.000Z  business  \n",
       "7   2022-08-31T10:43:16.000Z  business  \n",
       "8   2022-08-31T10:44:52.000Z  business  \n",
       "9   2022-08-30T15:10:39.000Z  business  \n",
       "10  2022-08-31T08:49:44.000Z  business  \n",
       "11  2022-08-30T13:12:02.000Z  business  \n",
       "12  2022-08-31T11:34:00.000Z  business  \n",
       "13  2022-08-30T16:27:11.000Z  business  \n",
       "14  2022-08-31T08:40:53.000Z  business  \n",
       "15  2022-08-30T16:33:10.000Z  business  \n",
       "16  2022-08-31T11:19:14.000Z  business  \n",
       "17  2022-08-31T14:12:54.000Z  business  \n",
       "18  2022-08-31T11:00:51.000Z  business  \n",
       "19  2022-08-31T05:20:23.000Z  business  \n",
       "20  2022-08-31T11:00:51.000Z  business  \n",
       "21  2022-08-31T04:38:03.000Z  business  \n",
       "22  2022-08-30T12:08:11.000Z  business  \n",
       "23  2022-08-31T10:41:48.000Z  business  \n",
       "24  2022-08-31T12:26:22.000Z  business  "
      ]
     },
     "execution_count": 97,
     "metadata": {},
     "output_type": "execute_result"
    }
   ],
   "source": [
    "business_news = get_business_new()\n",
    "business_news"
   ]
  },
  {
   "cell_type": "markdown",
   "id": "b0d7eabc",
   "metadata": {},
   "source": [
    "### get articles from Business, Sports, Technology, Entertainment"
   ]
  },
  {
   "cell_type": "code",
   "execution_count": 109,
   "id": "4a378bf8",
   "metadata": {},
   "outputs": [],
   "source": [
    "def get_url(topic):\n",
    "    url = f\"https://inshorts.com/en/read/{topic}\"\n",
    "    headers = {'User-Agent': 'Codeup Data Science'}\n",
    "    response = get(url, headers=headers)\n",
    "    soup = BeautifulSoup(response.content, 'html.parser')\n",
    "    urls = []\n",
    "    # Find all links within that topic\n",
    "    for link in soup.find_all(\"a\", href=True):\n",
    "        urls.append(link[\"href\"])\n",
    "        lines = pd.Series(urls)\n",
    "        urls = lines[lines.str.contains(r\"^/en/news\")].tolist()\n",
    "        new_urls = []\n",
    "        for i in urls:\n",
    "            new_urls.append(\"https://inshorts.com\" + i)\n",
    "    return new_urls\n",
    "\n",
    "def get_news_info(new_urls, topic):\n",
    "    news = []\n",
    "    for new_url in new_urls:\n",
    "        headers = {'User-Agent': 'Codeup Data Science'}\n",
    "        response = get(new_url, headers=headers)\n",
    "        soup = BeautifulSoup(response.content, 'html.parser')\n",
    "        title = soup.find('span', itemprop = 'headline').text\n",
    "        body = soup.find('div', itemprop = 'articleBody').text\n",
    "        author = soup.find('span', class_ = 'author').text\n",
    "        date = soup.find(\"span\", class_=\"time\")[\"content\"]\n",
    "        news.append({\"title\": title, \"content\": body, \"author\": author, \"date\": date, 'category': topic})\n",
    "    return news\n",
    "\n",
    "def get_all_news(topics = []):\n",
    "    all_news = []\n",
    "    for topic in topics:\n",
    "        new_urls = get_url(topic)\n",
    "        news = get_news_info(new_urls, topic)\n",
    "        all_news.append(news)\n",
    "    all_news = sum(all_news, [])\n",
    "    return pd.DataFrame(all_news)"
   ]
  },
  {
   "cell_type": "code",
   "execution_count": 110,
   "id": "11f1142e",
   "metadata": {},
   "outputs": [
    {
     "data": {
      "text/html": [
       "<div>\n",
       "<style scoped>\n",
       "    .dataframe tbody tr th:only-of-type {\n",
       "        vertical-align: middle;\n",
       "    }\n",
       "\n",
       "    .dataframe tbody tr th {\n",
       "        vertical-align: top;\n",
       "    }\n",
       "\n",
       "    .dataframe thead th {\n",
       "        text-align: right;\n",
       "    }\n",
       "</style>\n",
       "<table border=\"1\" class=\"dataframe\">\n",
       "  <thead>\n",
       "    <tr style=\"text-align: right;\">\n",
       "      <th></th>\n",
       "      <th>title</th>\n",
       "      <th>content</th>\n",
       "      <th>author</th>\n",
       "      <th>date</th>\n",
       "      <th>category</th>\n",
       "    </tr>\n",
       "  </thead>\n",
       "  <tbody>\n",
       "    <tr>\n",
       "      <th>0</th>\n",
       "      <td>India's GDP grows at 13.5% in first quarter of...</td>\n",
       "      <td>India's GDP grew at 13.5% in the first quarter...</td>\n",
       "      <td>Anmol Sharma</td>\n",
       "      <td>2022-08-31T12:24:39.000Z</td>\n",
       "      <td>business</td>\n",
       "    </tr>\n",
       "    <tr>\n",
       "      <th>1</th>\n",
       "      <td>Musk seeks to delay Twitter trial to Nov amid ...</td>\n",
       "      <td>Tesla CEO Elon Musk is seeking to delay the tr...</td>\n",
       "      <td>Ridham Gambhir</td>\n",
       "      <td>2022-08-31T03:16:29.000Z</td>\n",
       "      <td>business</td>\n",
       "    </tr>\n",
       "    <tr>\n",
       "      <th>2</th>\n",
       "      <td>2 top executives at Snap quit hours after repo...</td>\n",
       "      <td>Two senior advertising executives at Snap quit...</td>\n",
       "      <td>Ridham Gambhir</td>\n",
       "      <td>2022-08-31T04:11:41.000Z</td>\n",
       "      <td>business</td>\n",
       "    </tr>\n",
       "    <tr>\n",
       "      <th>3</th>\n",
       "      <td>Viral video shows Amazon parcels thrown out of...</td>\n",
       "      <td>A video from Guwahati railway station has gone...</td>\n",
       "      <td>Apaar Sharma</td>\n",
       "      <td>2022-08-31T08:21:25.000Z</td>\n",
       "      <td>business</td>\n",
       "    </tr>\n",
       "    <tr>\n",
       "      <th>4</th>\n",
       "      <td>World's 3rd richest person Adani's wealth surg...</td>\n",
       "      <td>Adani Group Chairman Gautam Adani on Tuesday b...</td>\n",
       "      <td>Ridham Gambhir</td>\n",
       "      <td>2022-08-31T06:01:51.000Z</td>\n",
       "      <td>business</td>\n",
       "    </tr>\n",
       "  </tbody>\n",
       "</table>\n",
       "</div>"
      ],
      "text/plain": [
       "                                               title  \\\n",
       "0  India's GDP grows at 13.5% in first quarter of...   \n",
       "1  Musk seeks to delay Twitter trial to Nov amid ...   \n",
       "2  2 top executives at Snap quit hours after repo...   \n",
       "3  Viral video shows Amazon parcels thrown out of...   \n",
       "4  World's 3rd richest person Adani's wealth surg...   \n",
       "\n",
       "                                             content          author  \\\n",
       "0  India's GDP grew at 13.5% in the first quarter...    Anmol Sharma   \n",
       "1  Tesla CEO Elon Musk is seeking to delay the tr...  Ridham Gambhir   \n",
       "2  Two senior advertising executives at Snap quit...  Ridham Gambhir   \n",
       "3  A video from Guwahati railway station has gone...    Apaar Sharma   \n",
       "4  Adani Group Chairman Gautam Adani on Tuesday b...  Ridham Gambhir   \n",
       "\n",
       "                       date  category  \n",
       "0  2022-08-31T12:24:39.000Z  business  \n",
       "1  2022-08-31T03:16:29.000Z  business  \n",
       "2  2022-08-31T04:11:41.000Z  business  \n",
       "3  2022-08-31T08:21:25.000Z  business  \n",
       "4  2022-08-31T06:01:51.000Z  business  "
      ]
     },
     "execution_count": 110,
     "metadata": {},
     "output_type": "execute_result"
    }
   ],
   "source": [
    "news = get_all_news(topics = [\"business\", \"sports\", \"technology\", \"entertainment\"])\n",
    "news.head()"
   ]
  },
  {
   "cell_type": "code",
   "execution_count": 112,
   "id": "20292cf9",
   "metadata": {},
   "outputs": [
    {
     "data": {
      "text/html": [
       "<div>\n",
       "<style scoped>\n",
       "    .dataframe tbody tr th:only-of-type {\n",
       "        vertical-align: middle;\n",
       "    }\n",
       "\n",
       "    .dataframe tbody tr th {\n",
       "        vertical-align: top;\n",
       "    }\n",
       "\n",
       "    .dataframe thead th {\n",
       "        text-align: right;\n",
       "    }\n",
       "</style>\n",
       "<table border=\"1\" class=\"dataframe\">\n",
       "  <thead>\n",
       "    <tr style=\"text-align: right;\">\n",
       "      <th></th>\n",
       "      <th></th>\n",
       "      <th>category</th>\n",
       "    </tr>\n",
       "    <tr>\n",
       "      <th>author</th>\n",
       "      <th>category</th>\n",
       "      <th></th>\n",
       "    </tr>\n",
       "  </thead>\n",
       "  <tbody>\n",
       "    <tr>\n",
       "      <th>Aishwarya Awasthi</th>\n",
       "      <th>technology</th>\n",
       "      <td>1</td>\n",
       "    </tr>\n",
       "    <tr>\n",
       "      <th>Amartya Sharma</th>\n",
       "      <th>entertainment</th>\n",
       "      <td>9</td>\n",
       "    </tr>\n",
       "    <tr>\n",
       "      <th>Anisha Joneja</th>\n",
       "      <th>business</th>\n",
       "      <td>3</td>\n",
       "    </tr>\n",
       "    <tr>\n",
       "      <th>Ankur Taliyan</th>\n",
       "      <th>sports</th>\n",
       "      <td>11</td>\n",
       "    </tr>\n",
       "    <tr>\n",
       "      <th rowspan=\"3\" valign=\"top\">Anmol Sharma</th>\n",
       "      <th>business</th>\n",
       "      <td>1</td>\n",
       "    </tr>\n",
       "    <tr>\n",
       "      <th>sports</th>\n",
       "      <td>7</td>\n",
       "    </tr>\n",
       "    <tr>\n",
       "      <th>technology</th>\n",
       "      <td>1</td>\n",
       "    </tr>\n",
       "    <tr>\n",
       "      <th rowspan=\"2\" valign=\"top\">Apaar Sharma</th>\n",
       "      <th>business</th>\n",
       "      <td>1</td>\n",
       "    </tr>\n",
       "    <tr>\n",
       "      <th>entertainment</th>\n",
       "      <td>3</td>\n",
       "    </tr>\n",
       "    <tr>\n",
       "      <th rowspan=\"2\" valign=\"top\">Arnab Mukherji</th>\n",
       "      <th>entertainment</th>\n",
       "      <td>5</td>\n",
       "    </tr>\n",
       "    <tr>\n",
       "      <th>sports</th>\n",
       "      <td>7</td>\n",
       "    </tr>\n",
       "    <tr>\n",
       "      <th rowspan=\"2\" valign=\"top\">Ashley Paul</th>\n",
       "      <th>business</th>\n",
       "      <td>4</td>\n",
       "    </tr>\n",
       "    <tr>\n",
       "      <th>technology</th>\n",
       "      <td>9</td>\n",
       "    </tr>\n",
       "    <tr>\n",
       "      <th>Daisy Mowke</th>\n",
       "      <th>entertainment</th>\n",
       "      <td>1</td>\n",
       "    </tr>\n",
       "    <tr>\n",
       "      <th>Hiral Goyal</th>\n",
       "      <th>technology</th>\n",
       "      <td>1</td>\n",
       "    </tr>\n",
       "    <tr>\n",
       "      <th>Kameshwari</th>\n",
       "      <th>entertainment</th>\n",
       "      <td>7</td>\n",
       "    </tr>\n",
       "    <tr>\n",
       "      <th>Mansi Agarwal</th>\n",
       "      <th>technology</th>\n",
       "      <td>2</td>\n",
       "    </tr>\n",
       "    <tr>\n",
       "      <th rowspan=\"2\" valign=\"top\">Purnima Rajput</th>\n",
       "      <th>business</th>\n",
       "      <td>2</td>\n",
       "    </tr>\n",
       "    <tr>\n",
       "      <th>technology</th>\n",
       "      <td>3</td>\n",
       "    </tr>\n",
       "    <tr>\n",
       "      <th rowspan=\"2\" valign=\"top\">Ridham Gambhir</th>\n",
       "      <th>business</th>\n",
       "      <td>4</td>\n",
       "    </tr>\n",
       "    <tr>\n",
       "      <th>technology</th>\n",
       "      <td>4</td>\n",
       "    </tr>\n",
       "    <tr>\n",
       "      <th rowspan=\"2\" valign=\"top\">Srishty Choudhury</th>\n",
       "      <th>business</th>\n",
       "      <td>10</td>\n",
       "    </tr>\n",
       "    <tr>\n",
       "      <th>technology</th>\n",
       "      <td>4</td>\n",
       "    </tr>\n",
       "  </tbody>\n",
       "</table>\n",
       "</div>"
      ],
      "text/plain": [
       "                                 category\n",
       "author            category               \n",
       "Aishwarya Awasthi technology            1\n",
       "Amartya Sharma    entertainment         9\n",
       "Anisha Joneja     business              3\n",
       "Ankur Taliyan     sports               11\n",
       "Anmol Sharma      business              1\n",
       "                  sports                7\n",
       "                  technology            1\n",
       "Apaar Sharma      business              1\n",
       "                  entertainment         3\n",
       "Arnab Mukherji    entertainment         5\n",
       "                  sports                7\n",
       "Ashley Paul       business              4\n",
       "                  technology            9\n",
       "Daisy Mowke       entertainment         1\n",
       "Hiral Goyal       technology            1\n",
       "Kameshwari        entertainment         7\n",
       "Mansi Agarwal     technology            2\n",
       "Purnima Rajput    business              2\n",
       "                  technology            3\n",
       "Ridham Gambhir    business              4\n",
       "                  technology            4\n",
       "Srishty Choudhury business             10\n",
       "                  technology            4"
      ]
     },
     "execution_count": 112,
     "metadata": {},
     "output_type": "execute_result"
    }
   ],
   "source": [
    "news.groupby([\"author\", \"category\"])[[\"category\"]].count()"
   ]
  },
  {
   "cell_type": "code",
   "execution_count": null,
   "id": "ec265fda",
   "metadata": {},
   "outputs": [],
   "source": []
  },
  {
   "cell_type": "code",
   "execution_count": null,
   "id": "467ed314",
   "metadata": {},
   "outputs": [],
   "source": []
  },
  {
   "cell_type": "code",
   "execution_count": null,
   "id": "94dbb154",
   "metadata": {},
   "outputs": [],
   "source": []
  },
  {
   "cell_type": "code",
   "execution_count": null,
   "id": "23c7cab4",
   "metadata": {},
   "outputs": [],
   "source": []
  },
  {
   "cell_type": "code",
   "execution_count": null,
   "id": "4d0a0290",
   "metadata": {},
   "outputs": [],
   "source": []
  }
 ],
 "metadata": {
  "kernelspec": {
   "display_name": "Python 3 (ipykernel)",
   "language": "python",
   "name": "python3"
  },
  "language_info": {
   "codemirror_mode": {
    "name": "ipython",
    "version": 3
   },
   "file_extension": ".py",
   "mimetype": "text/x-python",
   "name": "python",
   "nbconvert_exporter": "python",
   "pygments_lexer": "ipython3",
   "version": "3.9.12"
  }
 },
 "nbformat": 4,
 "nbformat_minor": 5
}
