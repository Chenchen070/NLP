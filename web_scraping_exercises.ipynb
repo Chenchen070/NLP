{
 "cells": [
  {
   "cell_type": "markdown",
   "id": "4b969d0d",
   "metadata": {},
   "source": [
    "### 1. Codeup Blog Articles\n",
    "\n",
    "Visit Codeup's Blog and record the urls for at least 5 distinct blog posts. For each post, you should scrape at least the post's title and content.\n",
    "\n",
    "Encapsulate your work in a function named get_blog_articles that will return a list of dictionaries, with each dictionary representing one article. The shape of each dictionary should look like this:\n",
    "\n",
    "{\n",
    "    \n",
    "    'title': 'the title of the article',\n",
    "    \n",
    "    'content': 'the full text content of the article'\n",
    "}\n",
    "\n",
    "Plus any additional properties you think might be helpful.\n",
    "\n",
    "Bonus: Scrape the text of all the articles linked on codeup's blog page."
   ]
  },
  {
   "cell_type": "code",
   "execution_count": 2,
   "id": "eb95be5a",
   "metadata": {},
   "outputs": [],
   "source": [
    "from requests import get\n",
    "from bs4 import BeautifulSoup\n",
    "import os\n",
    "import re\n",
    "import pandas as pd"
   ]
  },
  {
   "cell_type": "markdown",
   "id": "f0eab456",
   "metadata": {},
   "source": [
    "* Codeup blog articles:\n",
    "    1. https://codeup.com/tips-for-prospective-students/mental-health-first-aid-training/\n",
    "    2. https://codeup.com/featured/5-reasons-to-attend-our-new-cloud-administration-program/\n",
    "    3. https://codeup.com/data-science/jobs-after-a-coding-bootcamp-part-1-data-science/\n",
    "    4. https://codeup.com/featured/what-jobs-can-you-get-after-a-coding-bootcamp-part-2-cloud-administration/\n",
    "    5. https://codeup.com/codeup-news/codeup-tv-commercial/"
   ]
  },
  {
   "cell_type": "code",
   "execution_count": 3,
   "id": "937f1021",
   "metadata": {},
   "outputs": [],
   "source": [
    "urls = ['https://codeup.com/tips-for-prospective-students/mental-health-first-aid-training/',\n",
    "       'https://codeup.com/featured/5-reasons-to-attend-our-new-cloud-administration-program/',\n",
    "       'https://codeup.com/data-science/jobs-after-a-coding-bootcamp-part-1-data-science/',\n",
    "       'https://codeup.com/featured/what-jobs-can-you-get-after-a-coding-bootcamp-part-2-cloud-administration/',\n",
    "       'https://codeup.com/codeup-news/codeup-tv-commercial/']"
   ]
  },
  {
   "cell_type": "code",
   "execution_count": 5,
   "id": "78a49350",
   "metadata": {},
   "outputs": [
    {
     "data": {
      "text/plain": [
       "<Response [200]>"
      ]
     },
     "execution_count": 5,
     "metadata": {},
     "output_type": "execute_result"
    }
   ],
   "source": [
    "url = 'https://codeup.com/tips-for-prospective-students/mental-health-first-aid-training/'\n",
    "headers = {'User-Agent': 'Codeup Data Science'} # codeup.com doesn't like our default user-agent\n",
    "response = get(url, headers=headers)\n",
    "response"
   ]
  },
  {
   "cell_type": "code",
   "execution_count": 26,
   "id": "7345a7a1",
   "metadata": {},
   "outputs": [],
   "source": [
    "soup = BeautifulSoup(response.content, 'html.parser')"
   ]
  },
  {
   "cell_type": "code",
   "execution_count": 7,
   "id": "e1b9d635",
   "metadata": {},
   "outputs": [
    {
     "data": {
      "text/plain": [
       "'Mental Health First Aid Training - Codeup'"
      ]
     },
     "execution_count": 7,
     "metadata": {},
     "output_type": "execute_result"
    }
   ],
   "source": [
    "title = soup.title.text\n",
    "title"
   ]
  },
  {
   "cell_type": "code",
   "execution_count": 30,
   "id": "65ed6ddb",
   "metadata": {},
   "outputs": [],
   "source": [
    "article = soup.find('div', id='main-content')\n",
    "text = article.text"
   ]
  },
  {
   "cell_type": "code",
   "execution_count": 20,
   "id": "446deba8",
   "metadata": {},
   "outputs": [
    {
     "data": {
      "text/plain": [
       "[<h1 class=\"entry-title\">Mental Health First Aid Training</h1>]"
      ]
     },
     "execution_count": 20,
     "metadata": {},
     "output_type": "execute_result"
    }
   ],
   "source": [
    "soup.select('h1.entry-title')"
   ]
  },
  {
   "cell_type": "code",
   "execution_count": 32,
   "id": "34b6f3e1",
   "metadata": {},
   "outputs": [
    {
     "data": {
      "text/plain": [
       "'May 31, 2022'"
      ]
     },
     "execution_count": 32,
     "metadata": {},
     "output_type": "execute_result"
    }
   ],
   "source": [
    "date = soup.select('span.published')[0].text\n",
    "date"
   ]
  },
  {
   "cell_type": "code",
   "execution_count": 31,
   "id": "a4a74223",
   "metadata": {},
   "outputs": [
    {
     "data": {
      "text/plain": [
       "[{'title': 'Mental Health First Aid Training - Codeup',\n",
       "  'content': '\\n\\n\\n\\n\\n\\nMental Health First Aid Training\\nMay 31, 2022 | Tips for Prospective Students\\n\\n\\nAs a student of Codeup, going through a massive career transition can be mentally taxing. Did you know that members of our student-facing staff and human resources team are trained in Mental Health First Aid? Let’s dive into what that means for Codeup!\\xa0\\nMental Health First Aid Training\\xa0\\nSome of our Codeup staff that works directly with our students are trained in Mental Health First Aid. This includes members of our student experience team, career coaches, and the human resources department. This training was courtesy of the Center for Health Care Services in San Antonio. They graciously provided the funding and training for our team in this pilot training program.\\xa0\\nWhat is Mental Health First Aid? According to mentalhhealthfirstaid.org, “is a course that teaches you how to identify, understand, and respond to signs of mental illness and substance use disorders. The training gives you the skills you need to reach out and provide initial help and support to someone who may be developing a mental health or substance use problem or experiencing a crisis”.\\nTo be clear, our staff are not licensed, mental health professionals. What MHFA equips our staff with are tools to gauge risk and connect students and staff with the help they might need. This might include recognizing something in a meeting, picking up on cues during a casual conversation, or acting on a pattern behavior.\\xa0\\nHow does this help our students?\\nMany who go through Codeup’s programs will tell you it is both rewarding and challenging all at the same time. Some students have compared learning at Codeup to\\xa0 “drinking from a firehouse”. You learn so much at once, so fast. This style of learning if you are not used to it can be taxing on anyone’s mental fortitude. This allows our staff who work closely with the students to be able to identify if a student is in need of mental health help.\\xa0\\nConsider Your Career Change Today\\nWhy does this skill set matter? You! We’re here to support your career transition as best we can, and Mental Health First Aid training is just one small piece of that larger support effort. Learn more about how we can support your career transition by applying today.\\xa0\\n\\xa0\\n\\n\\n\\n\\n\\n\\n\\n\\nOur ProgramsCloud Administration\\nFull Stack Web Development\\nData Science\\n\\n\\n\\n\\n\\nLatest Blog Articles\\nIs a Career in Tech Recession-Proof?\\nCodeup X Superhero Car Show & Comic Con\\nWhat Jobs Can You Get After a Coding Bootcamp? Part 3: Web Development\\nCodeup’s New Dallas Campus\\nCodeup TV Commercial\\n\\n\\n\\n\\n\\n\\n\\n\\n\\n\\n\\n\\n\\n\\n\\n\\n\\n \\n\\n\\n'}]"
      ]
     },
     "execution_count": 31,
     "metadata": {},
     "output_type": "execute_result"
    }
   ],
   "source": [
    "websites = []\n",
    "websites.append({\"title\": title, \"content\": text})\n",
    "websites"
   ]
  },
  {
   "cell_type": "code",
   "execution_count": 33,
   "id": "0c46d288",
   "metadata": {},
   "outputs": [],
   "source": [
    "def get_blog_articles():\n",
    "    websites = []\n",
    "    urls = ['https://codeup.com/tips-for-prospective-students/mental-health-first-aid-training/',\n",
    "            'https://codeup.com/featured/5-reasons-to-attend-our-new-cloud-administration-program/',\n",
    "            'https://codeup.com/data-science/jobs-after-a-coding-bootcamp-part-1-data-science/',\n",
    "            'https://codeup.com/featured/what-jobs-can-you-get-after-a-coding-bootcamp-part-2-cloud-administration/',\n",
    "            'https://codeup.com/codeup-news/codeup-tv-commercial/']\n",
    "    for x in urls:\n",
    "        headers = {'User-Agent': 'Codeup Data Science'}\n",
    "        response = get(x, headers=headers)\n",
    "        soup = BeautifulSoup(response.content, 'html.parser')\n",
    "        title = soup.title.text\n",
    "        text = soup.find('div', id='main-content').text\n",
    "        date = soup.select('span.published')[0].text\n",
    "        websites.append({\"title\": title, \"content\": text, \"date_published\": date})\n",
    "    return websites"
   ]
  },
  {
   "cell_type": "code",
   "execution_count": 34,
   "id": "b64e6332",
   "metadata": {},
   "outputs": [
    {
     "data": {
      "text/plain": [
       "[{'title': 'Mental Health First Aid Training - Codeup',\n",
       "  'content': '\\n\\n\\n\\n\\n\\nMental Health First Aid Training\\nMay 31, 2022 | Tips for Prospective Students\\n\\n\\nAs a student of Codeup, going through a massive career transition can be mentally taxing. Did you know that members of our student-facing staff and human resources team are trained in Mental Health First Aid? Let’s dive into what that means for Codeup!\\xa0\\nMental Health First Aid Training\\xa0\\nSome of our Codeup staff that works directly with our students are trained in Mental Health First Aid. This includes members of our student experience team, career coaches, and the human resources department. This training was courtesy of the Center for Health Care Services in San Antonio. They graciously provided the funding and training for our team in this pilot training program.\\xa0\\nWhat is Mental Health First Aid? According to mentalhhealthfirstaid.org, “is a course that teaches you how to identify, understand, and respond to signs of mental illness and substance use disorders. The training gives you the skills you need to reach out and provide initial help and support to someone who may be developing a mental health or substance use problem or experiencing a crisis”.\\nTo be clear, our staff are not licensed, mental health professionals. What MHFA equips our staff with are tools to gauge risk and connect students and staff with the help they might need. This might include recognizing something in a meeting, picking up on cues during a casual conversation, or acting on a pattern behavior.\\xa0\\nHow does this help our students?\\nMany who go through Codeup’s programs will tell you it is both rewarding and challenging all at the same time. Some students have compared learning at Codeup to\\xa0 “drinking from a firehouse”. You learn so much at once, so fast. This style of learning if you are not used to it can be taxing on anyone’s mental fortitude. This allows our staff who work closely with the students to be able to identify if a student is in need of mental health help.\\xa0\\nConsider Your Career Change Today\\nWhy does this skill set matter? You! We’re here to support your career transition as best we can, and Mental Health First Aid training is just one small piece of that larger support effort. Learn more about how we can support your career transition by applying today.\\xa0\\n\\xa0\\n\\n\\n\\n\\n\\n\\n\\n\\nOur ProgramsCloud Administration\\nFull Stack Web Development\\nData Science\\n\\n\\n\\n\\n\\nLatest Blog Articles\\nIs a Career in Tech Recession-Proof?\\nCodeup X Superhero Car Show & Comic Con\\nWhat Jobs Can You Get After a Coding Bootcamp? Part 3: Web Development\\nCodeup’s New Dallas Campus\\nCodeup TV Commercial\\n\\n\\n\\n\\n\\n\\n\\n\\n\\n\\n\\n\\n\\n\\n\\n\\n\\n \\n\\n\\n',\n",
       "  'date_published': 'May 31, 2022'},\n",
       " {'title': '5 Reasons To Attend Our New Cloud Administration Program - Codeup',\n",
       "  'content': '\\n\\n\\n\\n\\n\\n5 Reasons To Attend Our New Cloud Administration Program\\nMay 17, 2022 | Codeup News, Featured, IT Training, Tips for Prospective Students\\n\\n\\nCome Work In The Cloud\\nWhen your Monday rolls around, do you start to get a sense of dread? That might be a sign to break up with your current job and learn something new.\\xa0At Codeup, we don’t want you to keep your head in the clouds while working a job you can’t stand. You should learn all about the cloud and cloud technology!\\xa0As we charge forward into 2022, we recently announced our brand new Cloud Administration Program.\\xa0\\nThis is a 15-week career accelerator that gets you hands-on experience with:\\n\\nNetworking\\nLinux Operating System\\xa0\\nWindows Operating System\\xa0\\nSecurity\\xa0\\nAmazon Web Services (AWS) Cloud Technology\\n\\nYou’ll earn two industry-recognized certifications as an AWS Cloud Practitioner and AWS Solutions Architect Associate. Both are included as part of your tuition. You will learn how to build infrastructure that enables software and data science products, manage cloud deployments, and optimize for cloud performance.\\xa0\\nHere are 5 reasons why we think you should attend our Cloud Administration program:\\xa0\\n\\xa0\\n1.) The Campus\\xa0\\nLocated on Rackspace property, our Castle campus has everything you need.\\xa0Tabletop games to play with classmates on break? We got foosball and ping pong!\\xa0Need a drink to quench your thirst? We have complimentary soda, water, and tea.\\xa0\\nThere is also lots of seating across the campus for you to study, have lunch, or even meet with classmates.\\xa0\\nParking is free since we are located on Rackspace’s property. You have the option to park about 100 ft away from our building, or you can park on the underground level to save your car from the heat if you attend during the summer months.\\xa0\\nThere is also plenty of food options within driving distance of campus. Fast food options include Mcdonald’s, Panda Express, and Bill Miller’s BBQ. For more sit-down restaurant options, you can visit Applebee’s, Buffalo Wild Wings, or Olive Garden. If you want to bring your lunch we have microwaves and refrigerators to enjoy your lunch on campus.\\xa0\\n\\xa0\\n2.) Time and Money Spent\\xa0\\nIn just 15 weeks you will be on your way to a new career that’s in high demand! That means you won’t have to wait 2 – 4 years like other traditional degree plans to get started in your new career.\\xa0\\nIs the cost of our program a concern? We totally understand if it is. Our Cloud Administration program is also the most affordable option of our three programs at Codeup if you’re looking to save the most money. It’s also more affordable than a traditional degree.\\xa0\\nAt Codeup we have a dedicated team of Financial Aid and Enrollment managers who will work with you one on one to ensure you have everything you need to pay for your time at Codeup that makes sense for your individual situation.\\xa0\\nWe have grants, scholarships, and student loans for those who qualify. If you’re a Veteran or a dependant of a Veteran you might have GI Bill benefits for use at Codeup. We just launched an exclusive scholarship with Climb Credit that you can apply for here.\\xa0\\nLastly, you can always go through your own financial institution to see what options are available to pay for Codeup.\\xa0\\nCheck out a walkthrough of our financial aid options here.\\xa0\\n\\xa0\\n3.) Salary & Benefits\\xa0\\nAlmost everyone changing careers during the “Great Resignation” is doing it for better pay and better benefits.\\xa0\\nWhat if I told you that any career you obtain through our Cloud Administration program offered you both a better salary and better benefits?\\xa0\\nAccording to Indeed.com the average salary for a Cloud Engineer right now is $118,712 in Texas (which is similar to the National average). This mirrors a Glassdoor Median Base salary of $118,999. Glassdoor also notes a job satisfaction rating of 4 out of 5 and over 10K open roles under the title Cloud Engineer.\\xa0\\nAre you guaranteed a salary like that after graduation? Not necessarily since this was an average salary. However, what that means is you have the potential to get to that level of salary at some point in your new career.\\nYour new skill sets could land you at a larger company like Accenture, EY, or even USAA. On the other hand, you could end up at a small company like a startup or SaaS (software as a service) company.\\xa0\\nBoth of those options will typically give you things like a great health care plan, generous amounts of time off, and additional perks like continuing education and gym discounts. Startups might be a little more unique in their offerings like remote work options, paying for new office equipment, and even potentially paying for an annual company retreat if the company works remotely.\\xa0\\n\\xa0\\n4.) Job Security\\nAccording to IT senior managers in a recent Robert Half survey, cloud expertise is the topmost in-demand skill set. This means cloud experts are in high demand and will continue to be as more companies adopt cloud infrastructures. The curriculum you go through in this program won’t stick you to just one lane. Coming out of the Cloud Administration program you could land a job as a:\\xa0\\n\\nCloud Engineer\\nCloud Network Engineer\\xa0\\nCloud Security Engineer\\xa0\\nCloud Architect\\xa0\\nCloud Administrator\\xa0\\n\\nHaving this many career options to choose from makes you a valuable and in-demand candidate for any tech company big or small. At Codeup, we have an employer-influenced curriculum. So once you graduate, you are equipped with the latest skills and knowledge today’s employers are looking for.\\xa0\\n\\xa0\\n5.) Our Instructors Are Next Level\\xa0\\nOur instructors genuinely care about your success. They lecture and take questions in real-time. Instead of giving you the answer, they will guide you in the right direction until you understand it yourself. They are all responsive and engaging, with a commitment to your success and a mission of empowering life change.\\xa0\\nAt other boot camps, you won’t find the same quality of instructors with industry experience, subject matter expertise, and live interactive lectures and lab. Even at the college level, professors often don’t provide individualized attention, hands-on learning, or accountability. Our instructors make a difference in your learning journey.\\xa0\\nIf having awesome instructors wasn’t enough, we also have a dedicated Student Experience team. This team is designed to work in collaboration with our instructors to ensure your success. Need a one-on-one session with your instructor? They can help with that. Need help just managing your time better? They can help with that too! These are passionate education professionals who want to empower you to get to that finish line we call graduation!\\xa0\\nRead more about why you need the best coding Bootcamp instructors here.\\xa0\\n\\xa0\\nWrapping Up\\nAs we mentioned, as more companies adopt cloud technologies the demand for cloud experts will only continue to grow. Take this as a sign to launch your career in tech and attend our brand new Cloud Administration program today.\\xa0\\nOur next class starts June 16th so don’t wait to get started and fill out this form here for our admissions team to get in touch with you. You can beat the heat this summer, learn new skills, and launch your career in the cloud! We can’t wait to hear from you! \\n\\n\\n\\n\\n\\n\\n\\n\\nOur ProgramsCloud Administration\\nFull Stack Web Development\\nData Science\\n\\n\\n\\n\\n\\nLatest Blog Articles\\nIs a Career in Tech Recession-Proof?\\nCodeup X Superhero Car Show & Comic Con\\nWhat Jobs Can You Get After a Coding Bootcamp? Part 3: Web Development\\nCodeup’s New Dallas Campus\\nCodeup TV Commercial\\n\\n\\n\\n\\n\\n\\n\\n\\n\\n\\n\\n\\n\\n\\n\\n\\n\\n \\n\\n\\n',\n",
       "  'date_published': 'May 17, 2022'},\n",
       " {'title': 'What Jobs Can You Get After a Coding Bootcamp?',\n",
       "  'content': '\\n\\n\\n\\n\\n\\nWhat Jobs Can You Get After a Coding Bootcamp? Part 1: Data Science\\nJul 7, 2022 | Data Science, Featured, Tips for Prospective Students\\n\\n\\nIf you are interested in embarking on a career in tech, you’re probably wondering what your new job title could be, and even what your salary might look like.*\\xa0In this mini-series, we will take each of our programs here at Codeup: Data Science, Web Development, and Cloud Administration, and outline respectively potential job titles, as well as entry-level salaries.\\xa0Today we will be diving into our Data Science program, with four potential job titles you could take on!\\nProgram Overview\\xa0\\nDuring this 20-week program, you will have the opportunity to take your career to new heights with data science being one of the most needed jobs in tech. You’ll gather data, then clean it, explore it for trends, and apply machine learning models to make predictions.\\nUpon completing this program, you will know how to turn insights into actionable recommendations. You’ll be a huge asset to any company, having all the technical skills to become a data scientist with projects upon projects of experience under your belt.\\xa0\\n1. Data Scientist\\xa0\\nEssentially, a Data Scientist is responsible for analyzing how a business performs to ensure the business stays competitive and relevant. They review the data for deeper meaning and examine it for patterns in an effort to create solutions to business problems. According to Zip Recruiter, the average entry-level salary for a Data Scientist in Texas is $60,677.\\n2. Data Analyst\\nA Data Analyst finds ways to solve a business’ problems through raw data analysis. They are then responsible for sharing this information with management and stakeholders. According to Indeed, the average entry-level salary for a Data Analyst is $60,332.\\n3. Machine Learning Engineer\\xa0\\nA Machine Learning (ML) Engineer is usually on a Data Science team. They are responsible for artificial intelligence, and its functions as well as making predictions on other machine learning capabilities. They will create ML prototypes and models, then test and retrain where necessary. According to Salary.com, the average entry-level salary for a ML Engineer is $115,795.\\n4. Business Intelligence Analyst\\xa0\\nA Business Intelligence Analyst, also known as a BI Analyst is responsible for understanding computer programming languages. Their primary goal is to give accurate insight to decision-makers regarding the market, productivity, competition, and customer responses. According to Payscale, the average entry-level salary for a BI Analyst is $58,627.\\nWe understand changing careers can be scary. If you chose Codeup, we will make sure you are plenty prepared to not only take on one of these roles but succeed in it.\\xa0\\nThis program gives you more than a textbook and a bank of pre-recorded lectures. You get hands-on instruction from industry experts, along with the power to change your life.\\xa0\\nIf you’re ready, apply today and let’s turn your dreams into reality and get your seat secured in our next Data Science cohort.\\xa0\\n\\xa0\\n*Disclaimer: All information presented in this article is by no means guaranteed by completing a Codeup program. Salaries and duties vary based on factors such as company, location, and experience. These salaries are estimates based on San Antonio, TX data, and these duties are general and may not be exact for every position. \\n\\xa0\\n\\n\\n\\n\\n\\n\\n\\n\\nOur ProgramsCloud Administration\\nFull Stack Web Development\\nData Science\\n\\n\\n\\n\\n\\nLatest Blog Articles\\nIs a Career in Tech Recession-Proof?\\nCodeup X Superhero Car Show & Comic Con\\nWhat Jobs Can You Get After a Coding Bootcamp? Part 3: Web Development\\nCodeup’s New Dallas Campus\\nCodeup TV Commercial\\n\\n\\n\\n\\n\\n\\n\\n\\n\\n\\n\\n\\n\\n\\n\\n\\n\\n \\n\\n\\n',\n",
       "  'date_published': 'Jul 7, 2022'},\n",
       " {'title': 'What Jobs Can You Get After a Coding Bootcamp? Part 2: Cloud Administration',\n",
       "  'content': '\\n\\n\\n\\n\\n\\nWhat Jobs Can You Get After a Coding Bootcamp? Part 2: Cloud Administration\\nJul 14, 2022 | Featured\\n\\n\\nHave you been considering a career in Cloud Administration, but have no idea what your job title or potential salary could be? Continue reading below to find out!\\nIn this mini-series, we will take each of our programs here at Codeup: Data Science, Web Development, and Cloud Administration, and outline respectively potential job titles, as well as entry-level salaries.*\\xa0Let’s discuss Cloud Administration.\\nProgram Overview\\nAt Codeup, we offer a 15-week Cloud Administration program, which was derived from our previous two programs: Systems Engineering and Cyber Cloud. We combined the best of both and blended hands-on practical knowledge with skilled instructors to create the Cloud Administration program.\\nUpon completing this program, you’ll have the opportunity to take on two exams for certifications: Amazon Web Services (AWS) Cloud Practitioner and AWS Solutions Architect Associate.\\xa0\\nPotential Jobs\\nAccording to A Cloud Guru, with an AWS Certification you’ll be equipped with the knowledge and experience to secure a job as the following:\\n1. Cloud Architect\\nAs a Cloud Architect, you will double as an IT specialist responsible for your organization’s cloud infrastructure. This includes system monitoring, computing strategy, planning, building and deployment. An entry-level Cloud Architect can make an estimated $93,892 annually according to Glassdoor.\\xa0\\n2. Cloud Developer\\nA Cloud Developer’s main duties align with a software developer’s. The differentiating factor is a Cloud Developer operates virtually with cloud computing technology. This may include the design, analysis and maintenance of a company’s cloud infrastructure. An entry-level Cloud Developer can make an estimated $89,652 annually according to Glassdoor.\\xa0\\n3. Cloud Systems Administrator\\nA Cloud Systems Administrator can be expected to provide insight on cloud systems, specifically working with IT to provide assistance and resolve operational issues. An entry-level Cloud Systems Administrator can make an estimated $64,805 annually according to Glassdoor.\\nHonorable Mention\\nA few additional roles to consider with AWS Certification include:\\xa0\\n\\nCloud DevOps Engineer- Estimated Entry-Level Salary $88,563\\nCloud Security Engineer- Estimated Entry-Level Salary $85,111\\nCloud Data Architect- Estimated Entry-Level Salary $91,598\\nCloud Consultant- Estimated Entry-Level Salary $72,474\\n\\nInterested in the other parts of this mini-series? Check them out below!\\n\\nPart 1: Data Science\\nPart 3: Web Development (Coming Soon!)\\xa0\\n\\n*Disclaimer: All information presented in this article is by no means guaranteed by completing a Codeup program. Salaries and duties vary based on factors such as company, location, and experience. These salaries are estimates based on San Antonio, TX data, and these duties are general and may not be exact for every position. \\n\\n\\n\\n\\n\\n\\n\\n\\nOur ProgramsCloud Administration\\nFull Stack Web Development\\nData Science\\n\\n\\n\\n\\n\\nLatest Blog Articles\\nIs a Career in Tech Recession-Proof?\\nCodeup X Superhero Car Show & Comic Con\\nWhat Jobs Can You Get After a Coding Bootcamp? Part 3: Web Development\\nCodeup’s New Dallas Campus\\nCodeup TV Commercial\\n\\n\\n\\n\\n\\n\\n\\n\\n\\n\\n\\n\\n\\n\\n\\n\\n\\n \\n\\n\\n',\n",
       "  'date_published': 'Jul 14, 2022'},\n",
       " {'title': 'Codeup TV Commercial - Codeup News',\n",
       "  'content': '\\n\\n\\n\\n\\n\\nCodeup TV Commercial\\nJul 20, 2022 | Codeup News\\n\\n\\nCodeup has officially made its TV debut! Our community of students, staff and CEO gathered to create the first-ever Codeup TV Commercial! Check it out to get a rundown of our offerings, and take a peek into our downtown Vogue campus where the commercial was filmed.\\nView the Codeup TV commercial below to see what the hype is about!\\n\\nCheck out some behind-the-scenes of filming:\\n\\n\\n\\n\\n\\n\\n\\n\\n\\n\\n\\n\\nCodeup would love to help you jumpstart your career in tech. If you’re interested in learning more, check out our program offerings. When you’re ready, start the process by filling out a quick form found here. \\n“COME JOIN US!”\\n\\n\\n\\n\\n\\n\\n\\n\\nOur ProgramsCloud Administration\\nFull Stack Web Development\\nData Science\\n\\n\\n\\n\\n\\nLatest Blog Articles\\nIs a Career in Tech Recession-Proof?\\nCodeup X Superhero Car Show & Comic Con\\nWhat Jobs Can You Get After a Coding Bootcamp? Part 3: Web Development\\nCodeup’s New Dallas Campus\\nCodeup TV Commercial\\n\\n\\n\\n\\n\\n\\n\\n\\n\\n\\n\\n\\n\\n\\n\\n\\n\\n \\n\\n\\n',\n",
       "  'date_published': 'Jul 20, 2022'}]"
      ]
     },
     "execution_count": 34,
     "metadata": {},
     "output_type": "execute_result"
    }
   ],
   "source": [
    "websites = get_blog_articles()\n",
    "websites"
   ]
  },
  {
   "cell_type": "markdown",
   "id": "adde510f",
   "metadata": {},
   "source": [
    "### 2. News Articles\n",
    "\n",
    "We will now be scraping text data from inshorts, a website that provides a brief overview of many different topics.\n",
    "\n",
    "Write a function that scrapes the news articles for the following topics:\n",
    "\n",
    "* Business\n",
    "* Sports\n",
    "* Technology\n",
    "* Entertainment\n",
    "The end product of this should be a function named get_news_articles that returns a list of dictionaries, where each dictionary has this shape:\n",
    "{\n",
    "\n",
    "    'title': 'The article title',\n",
    "    \n",
    "    'content': 'The article content',\n",
    "    \n",
    "    'category': 'business' # for example\n",
    "}\n",
    "\n",
    "Hints:\n",
    "\n",
    "    a. Start by inspecting the website in your browser. Figure out which elements will be useful.\n",
    "    b. Start by creating a function that handles a single article and produces a dictionary like the one above.\n",
    "    c. Next create a function that will find all the articles on a single page and call the function you created in the last step for every article on the page.\n",
    "    d. Now create a function that will use the previous two functions to scrape the articles from all the pages that you need, and do any additional processing that needs to be done."
   ]
  },
  {
   "cell_type": "markdown",
   "id": "66d77532",
   "metadata": {},
   "source": [
    "### get one specific information from one news"
   ]
  },
  {
   "cell_type": "code",
   "execution_count": 36,
   "id": "9d27a234",
   "metadata": {},
   "outputs": [],
   "source": [
    "url = 'https://inshorts.com/en/news/cancelling-ac-firstclass-confirmed-train-tickets-to-now-attract-5-gst-1661858617350'\n",
    "headers = {'User-Agent': 'Codeup Data Science'}\n",
    "response = get(url, headers=headers)\n",
    "soup = BeautifulSoup(response.content, 'html.parser')"
   ]
  },
  {
   "cell_type": "code",
   "execution_count": 37,
   "id": "6b350dda",
   "metadata": {},
   "outputs": [
    {
     "data": {
      "text/plain": [
       "<Response [200]>"
      ]
     },
     "execution_count": 37,
     "metadata": {},
     "output_type": "execute_result"
    }
   ],
   "source": [
    "response"
   ]
  },
  {
   "cell_type": "code",
   "execution_count": 51,
   "id": "68556eff",
   "metadata": {},
   "outputs": [
    {
     "data": {
      "text/plain": [
       "'Cancelling AC, first-class confirmed train tickets to now attract 5% GST'"
      ]
     },
     "execution_count": 51,
     "metadata": {},
     "output_type": "execute_result"
    }
   ],
   "source": [
    "title = soup.find('span', itemprop = 'headline').text\n",
    "title"
   ]
  },
  {
   "cell_type": "code",
   "execution_count": 53,
   "id": "40cc78ee",
   "metadata": {},
   "outputs": [
    {
     "data": {
      "text/plain": [
       "'The Finance Ministry stated that cancellation of confirmed first-class and AC coach tickets will now attract 5% GST. As per their circular, the booking of tickets is a \"contract\", under which the service provider (IRCTC/Indian Railways) promises services to the customer. And if the contract is breached by the passenger, the service provider is compensated with a small amount. '"
      ]
     },
     "execution_count": 53,
     "metadata": {},
     "output_type": "execute_result"
    }
   ],
   "source": [
    "body = soup.find('div', itemprop = 'articleBody').text\n",
    "body"
   ]
  },
  {
   "cell_type": "code",
   "execution_count": 57,
   "id": "e43c04a3",
   "metadata": {},
   "outputs": [
    {
     "data": {
      "text/plain": [
       "'Ridham Gambhir'"
      ]
     },
     "execution_count": 57,
     "metadata": {},
     "output_type": "execute_result"
    }
   ],
   "source": [
    "author = soup.find('span', class_ = 'author').text\n",
    "author"
   ]
  },
  {
   "cell_type": "code",
   "execution_count": 63,
   "id": "ce8eb47e",
   "metadata": {},
   "outputs": [
    {
     "data": {
      "text/plain": [
       "'2022-08-30T11:23:37.000Z'"
      ]
     },
     "execution_count": 63,
     "metadata": {},
     "output_type": "execute_result"
    }
   ],
   "source": [
    "date = soup.find(\"span\", class_=\"time\")[\"content\"]\n",
    "date"
   ]
  },
  {
   "cell_type": "markdown",
   "id": "ccbfc719",
   "metadata": {},
   "source": [
    "### get the urls from one topic"
   ]
  },
  {
   "cell_type": "code",
   "execution_count": null,
   "id": "3ad87733",
   "metadata": {},
   "outputs": [],
   "source": [
    "url = \"https://inshorts.com/en/read/business\"\n",
    "headers = {'User-Agent': 'Codeup Data Science'}\n",
    "response = get(url, headers=headers)\n",
    "soup = BeautifulSoup(response.content, 'html.parser')"
   ]
  },
  {
   "cell_type": "code",
   "execution_count": 64,
   "id": "85c609ed",
   "metadata": {},
   "outputs": [],
   "source": [
    "soup.find(\"body > div.container > div > div.card-stack\")"
   ]
  },
  {
   "cell_type": "code",
   "execution_count": null,
   "id": "0b9810c0",
   "metadata": {},
   "outputs": [],
   "source": []
  },
  {
   "cell_type": "code",
   "execution_count": null,
   "id": "e3c8761a",
   "metadata": {},
   "outputs": [],
   "source": []
  },
  {
   "cell_type": "code",
   "execution_count": null,
   "id": "7fdc4793",
   "metadata": {},
   "outputs": [],
   "source": []
  }
 ],
 "metadata": {
  "kernelspec": {
   "display_name": "Python 3 (ipykernel)",
   "language": "python",
   "name": "python3"
  },
  "language_info": {
   "codemirror_mode": {
    "name": "ipython",
    "version": 3
   },
   "file_extension": ".py",
   "mimetype": "text/x-python",
   "name": "python",
   "nbconvert_exporter": "python",
   "pygments_lexer": "ipython3",
   "version": "3.9.12"
  }
 },
 "nbformat": 4,
 "nbformat_minor": 5
}
