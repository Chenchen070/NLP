{
 "cells": [
  {
   "cell_type": "code",
   "execution_count": 1,
   "id": "18f6c36c",
   "metadata": {},
   "outputs": [],
   "source": [
    "import unicodedata\n",
    "from bs4 import BeautifulSoup\n",
    "import re\n",
    "import json\n",
    "\n",
    "import nltk\n",
    "from nltk.tokenize.toktok import ToktokTokenizer\n",
    "from nltk.corpus import stopwords\n",
    "import pandas as pd\n",
    "from requests import get\n",
    "\n",
    "import acquire"
   ]
  },
  {
   "cell_type": "markdown",
   "id": "92f4a5d2",
   "metadata": {},
   "source": [
    "1. Define a function named basic_clean. It should take in a string and apply some basic text cleaning to it:\n",
    "\n",
    "* Lowercase everything\n",
    "* Normalize unicode characters\n",
    "* Replace anything that is not a letter, number, whitespace or a single quote."
   ]
  },
  {
   "cell_type": "code",
   "execution_count": 9,
   "id": "511ee8c0",
   "metadata": {},
   "outputs": [],
   "source": [
    "def basic_clean(text):\n",
    "    article = text.lower()\n",
    "    article = unicodedata.normalize('NFKD', article)\\\n",
    "    .encode('ascii', 'ignore')\\\n",
    "    .decode('utf-8', 'ignore')\n",
    "    article = re.sub(r\"[^a-z0-9'\\s]\", '', article)\n",
    "    return article "
   ]
  },
  {
   "cell_type": "code",
   "execution_count": 3,
   "id": "7605d38d",
   "metadata": {},
   "outputs": [
    {
     "data": {
      "text/plain": [
       "[{'title': 'Mental Health First Aid Training - Codeup',\n",
       "  'content': '\\n\\n\\n\\n\\n\\nMental Health First Aid Training\\nMay 31, 2022 | Tips for Prospective Students\\n\\n\\nAs a student of Codeup, going through a massive career transition can be mentally taxing. Did you know that members of our student-facing staff and human resources team are trained in Mental Health First Aid? Let’s dive into what that means for Codeup!\\xa0\\nMental Health First Aid Training\\xa0\\nSome of our Codeup staff that works directly with our students are trained in Mental Health First Aid. This includes members of our student experience team, career coaches, and the human resources department. This training was courtesy of the Center for Health Care Services in San Antonio. They graciously provided the funding and training for our team in this pilot training program.\\xa0\\nWhat is Mental Health First Aid? According to mentalhhealthfirstaid.org, “is a course that teaches you how to identify, understand, and respond to signs of mental illness and substance use disorders. The training gives you the skills you need to reach out and provide initial help and support to someone who may be developing a mental health or substance use problem or experiencing a crisis”.\\nTo be clear, our staff are not licensed, mental health professionals. What MHFA equips our staff with are tools to gauge risk and connect students and staff with the help they might need. This might include recognizing something in a meeting, picking up on cues during a casual conversation, or acting on a pattern behavior.\\xa0\\nHow does this help our students?\\nMany who go through Codeup’s programs will tell you it is both rewarding and challenging all at the same time. Some students have compared learning at Codeup to\\xa0 “drinking from a firehouse”. You learn so much at once, so fast. This style of learning if you are not used to it can be taxing on anyone’s mental fortitude. This allows our staff who work closely with the students to be able to identify if a student is in need of mental health help.\\xa0\\nConsider Your Career Change Today\\nWhy does this skill set matter? You! We’re here to support your career transition as best we can, and Mental Health First Aid training is just one small piece of that larger support effort. Learn more about how we can support your career transition by applying today.\\xa0\\n\\xa0\\n\\n\\n\\n\\n\\n\\n\\n\\nOur ProgramsCloud Administration\\nFull Stack Web Development\\nData Science\\n\\n\\n\\n\\n\\nLatest Blog Articles\\nIs a Career in Tech Recession-Proof?\\nCodeup X Superhero Car Show & Comic Con\\nWhat Jobs Can You Get After a Coding Bootcamp? Part 3: Web Development\\nCodeup’s New Dallas Campus\\nCodeup TV Commercial\\n\\n\\n\\n\\n\\n\\n\\n\\n\\n\\n\\n\\n\\n\\n\\n\\n\\n \\n\\n\\n',\n",
       "  'date_published': 'May 31, 2022'},\n",
       " {'title': '5 Reasons To Attend Our New Cloud Administration Program - Codeup',\n",
       "  'content': '\\n\\n\\n\\n\\n\\n5 Reasons To Attend Our New Cloud Administration Program\\nMay 17, 2022 | Codeup News, Featured, IT Training, Tips for Prospective Students\\n\\n\\nCome Work In The Cloud\\nWhen your Monday rolls around, do you start to get a sense of dread? That might be a sign to break up with your current job and learn something new.\\xa0At Codeup, we don’t want you to keep your head in the clouds while working a job you can’t stand. You should learn all about the cloud and cloud technology!\\xa0As we charge forward into 2022, we recently announced our brand new Cloud Administration Program.\\xa0\\nThis is a 15-week career accelerator that gets you hands-on experience with:\\n\\nNetworking\\nLinux Operating System\\xa0\\nWindows Operating System\\xa0\\nSecurity\\xa0\\nAmazon Web Services (AWS) Cloud Technology\\n\\nYou’ll earn two industry-recognized certifications as an AWS Cloud Practitioner and AWS Solutions Architect Associate. Both are included as part of your tuition. You will learn how to build infrastructure that enables software and data science products, manage cloud deployments, and optimize for cloud performance.\\xa0\\nHere are 5 reasons why we think you should attend our Cloud Administration program:\\xa0\\n\\xa0\\n1.) The Campus\\xa0\\nLocated on Rackspace property, our Castle campus has everything you need.\\xa0Tabletop games to play with classmates on break? We got foosball and ping pong!\\xa0Need a drink to quench your thirst? We have complimentary soda, water, and tea.\\xa0\\nThere is also lots of seating across the campus for you to study, have lunch, or even meet with classmates.\\xa0\\nParking is free since we are located on Rackspace’s property. You have the option to park about 100 ft away from our building, or you can park on the underground level to save your car from the heat if you attend during the summer months.\\xa0\\nThere is also plenty of food options within driving distance of campus. Fast food options include Mcdonald’s, Panda Express, and Bill Miller’s BBQ. For more sit-down restaurant options, you can visit Applebee’s, Buffalo Wild Wings, or Olive Garden. If you want to bring your lunch we have microwaves and refrigerators to enjoy your lunch on campus.\\xa0\\n\\xa0\\n2.) Time and Money Spent\\xa0\\nIn just 15 weeks you will be on your way to a new career that’s in high demand! That means you won’t have to wait 2 – 4 years like other traditional degree plans to get started in your new career.\\xa0\\nIs the cost of our program a concern? We totally understand if it is. Our Cloud Administration program is also the most affordable option of our three programs at Codeup if you’re looking to save the most money. It’s also more affordable than a traditional degree.\\xa0\\nAt Codeup we have a dedicated team of Financial Aid and Enrollment managers who will work with you one on one to ensure you have everything you need to pay for your time at Codeup that makes sense for your individual situation.\\xa0\\nWe have grants, scholarships, and student loans for those who qualify. If you’re a Veteran or a dependant of a Veteran you might have GI Bill benefits for use at Codeup. We just launched an exclusive scholarship with Climb Credit that you can apply for here.\\xa0\\nLastly, you can always go through your own financial institution to see what options are available to pay for Codeup.\\xa0\\nCheck out a walkthrough of our financial aid options here.\\xa0\\n\\xa0\\n3.) Salary & Benefits\\xa0\\nAlmost everyone changing careers during the “Great Resignation” is doing it for better pay and better benefits.\\xa0\\nWhat if I told you that any career you obtain through our Cloud Administration program offered you both a better salary and better benefits?\\xa0\\nAccording to Indeed.com the average salary for a Cloud Engineer right now is $118,712 in Texas (which is similar to the National average). This mirrors a Glassdoor Median Base salary of $118,999. Glassdoor also notes a job satisfaction rating of 4 out of 5 and over 10K open roles under the title Cloud Engineer.\\xa0\\nAre you guaranteed a salary like that after graduation? Not necessarily since this was an average salary. However, what that means is you have the potential to get to that level of salary at some point in your new career.\\nYour new skill sets could land you at a larger company like Accenture, EY, or even USAA. On the other hand, you could end up at a small company like a startup or SaaS (software as a service) company.\\xa0\\nBoth of those options will typically give you things like a great health care plan, generous amounts of time off, and additional perks like continuing education and gym discounts. Startups might be a little more unique in their offerings like remote work options, paying for new office equipment, and even potentially paying for an annual company retreat if the company works remotely.\\xa0\\n\\xa0\\n4.) Job Security\\nAccording to IT senior managers in a recent Robert Half survey, cloud expertise is the topmost in-demand skill set. This means cloud experts are in high demand and will continue to be as more companies adopt cloud infrastructures. The curriculum you go through in this program won’t stick you to just one lane. Coming out of the Cloud Administration program you could land a job as a:\\xa0\\n\\nCloud Engineer\\nCloud Network Engineer\\xa0\\nCloud Security Engineer\\xa0\\nCloud Architect\\xa0\\nCloud Administrator\\xa0\\n\\nHaving this many career options to choose from makes you a valuable and in-demand candidate for any tech company big or small. At Codeup, we have an employer-influenced curriculum. So once you graduate, you are equipped with the latest skills and knowledge today’s employers are looking for.\\xa0\\n\\xa0\\n5.) Our Instructors Are Next Level\\xa0\\nOur instructors genuinely care about your success. They lecture and take questions in real-time. Instead of giving you the answer, they will guide you in the right direction until you understand it yourself. They are all responsive and engaging, with a commitment to your success and a mission of empowering life change.\\xa0\\nAt other boot camps, you won’t find the same quality of instructors with industry experience, subject matter expertise, and live interactive lectures and lab. Even at the college level, professors often don’t provide individualized attention, hands-on learning, or accountability. Our instructors make a difference in your learning journey.\\xa0\\nIf having awesome instructors wasn’t enough, we also have a dedicated Student Experience team. This team is designed to work in collaboration with our instructors to ensure your success. Need a one-on-one session with your instructor? They can help with that. Need help just managing your time better? They can help with that too! These are passionate education professionals who want to empower you to get to that finish line we call graduation!\\xa0\\nRead more about why you need the best coding Bootcamp instructors here.\\xa0\\n\\xa0\\nWrapping Up\\nAs we mentioned, as more companies adopt cloud technologies the demand for cloud experts will only continue to grow. Take this as a sign to launch your career in tech and attend our brand new Cloud Administration program today.\\xa0\\nOur next class starts June 16th so don’t wait to get started and fill out this form here for our admissions team to get in touch with you. You can beat the heat this summer, learn new skills, and launch your career in the cloud! We can’t wait to hear from you! \\n\\n\\n\\n\\n\\n\\n\\n\\nOur ProgramsCloud Administration\\nFull Stack Web Development\\nData Science\\n\\n\\n\\n\\n\\nLatest Blog Articles\\nIs a Career in Tech Recession-Proof?\\nCodeup X Superhero Car Show & Comic Con\\nWhat Jobs Can You Get After a Coding Bootcamp? Part 3: Web Development\\nCodeup’s New Dallas Campus\\nCodeup TV Commercial\\n\\n\\n\\n\\n\\n\\n\\n\\n\\n\\n\\n\\n\\n\\n\\n\\n\\n \\n\\n\\n',\n",
       "  'date_published': 'May 17, 2022'},\n",
       " {'title': 'What Jobs Can You Get After a Coding Bootcamp?',\n",
       "  'content': '\\n\\n\\n\\n\\n\\nWhat Jobs Can You Get After a Coding Bootcamp? Part 1: Data Science\\nJul 7, 2022 | Data Science, Featured, Tips for Prospective Students\\n\\n\\nIf you are interested in embarking on a career in tech, you’re probably wondering what your new job title could be, and even what your salary might look like.*\\xa0In this mini-series, we will take each of our programs here at Codeup: Data Science, Web Development, and Cloud Administration, and outline respectively potential job titles, as well as entry-level salaries.\\xa0Today we will be diving into our Data Science program, with four potential job titles you could take on!\\nProgram Overview\\xa0\\nDuring this 20-week program, you will have the opportunity to take your career to new heights with data science being one of the most needed jobs in tech. You’ll gather data, then clean it, explore it for trends, and apply machine learning models to make predictions.\\nUpon completing this program, you will know how to turn insights into actionable recommendations. You’ll be a huge asset to any company, having all the technical skills to become a data scientist with projects upon projects of experience under your belt.\\xa0\\n1. Data Scientist\\xa0\\nEssentially, a Data Scientist is responsible for analyzing how a business performs to ensure the business stays competitive and relevant. They review the data for deeper meaning and examine it for patterns in an effort to create solutions to business problems. According to Zip Recruiter, the average entry-level salary for a Data Scientist in Texas is $60,677.\\n2. Data Analyst\\nA Data Analyst finds ways to solve a business’ problems through raw data analysis. They are then responsible for sharing this information with management and stakeholders. According to Indeed, the average entry-level salary for a Data Analyst is $60,332.\\n3. Machine Learning Engineer\\xa0\\nA Machine Learning (ML) Engineer is usually on a Data Science team. They are responsible for artificial intelligence, and its functions as well as making predictions on other machine learning capabilities. They will create ML prototypes and models, then test and retrain where necessary. According to Salary.com, the average entry-level salary for a ML Engineer is $115,795.\\n4. Business Intelligence Analyst\\xa0\\nA Business Intelligence Analyst, also known as a BI Analyst is responsible for understanding computer programming languages. Their primary goal is to give accurate insight to decision-makers regarding the market, productivity, competition, and customer responses. According to Payscale, the average entry-level salary for a BI Analyst is $58,627.\\nWe understand changing careers can be scary. If you chose Codeup, we will make sure you are plenty prepared to not only take on one of these roles but succeed in it.\\xa0\\nThis program gives you more than a textbook and a bank of pre-recorded lectures. You get hands-on instruction from industry experts, along with the power to change your life.\\xa0\\nIf you’re ready, apply today and let’s turn your dreams into reality and get your seat secured in our next Data Science cohort.\\xa0\\n\\xa0\\n*Disclaimer: All information presented in this article is by no means guaranteed by completing a Codeup program. Salaries and duties vary based on factors such as company, location, and experience. These salaries are estimates based on San Antonio, TX data, and these duties are general and may not be exact for every position. \\n\\xa0\\n\\n\\n\\n\\n\\n\\n\\n\\nOur ProgramsCloud Administration\\nFull Stack Web Development\\nData Science\\n\\n\\n\\n\\n\\nLatest Blog Articles\\nIs a Career in Tech Recession-Proof?\\nCodeup X Superhero Car Show & Comic Con\\nWhat Jobs Can You Get After a Coding Bootcamp? Part 3: Web Development\\nCodeup’s New Dallas Campus\\nCodeup TV Commercial\\n\\n\\n\\n\\n\\n\\n\\n\\n\\n\\n\\n\\n\\n\\n\\n\\n\\n \\n\\n\\n',\n",
       "  'date_published': 'Jul 7, 2022'},\n",
       " {'title': 'What Jobs Can You Get After a Coding Bootcamp? Part 2: Cloud Administration',\n",
       "  'content': '\\n\\n\\n\\n\\n\\nWhat Jobs Can You Get After a Coding Bootcamp? Part 2: Cloud Administration\\nJul 14, 2022 | Featured\\n\\n\\nHave you been considering a career in Cloud Administration, but have no idea what your job title or potential salary could be? Continue reading below to find out!\\nIn this mini-series, we will take each of our programs here at Codeup: Data Science, Web Development, and Cloud Administration, and outline respectively potential job titles, as well as entry-level salaries.*\\xa0Let’s discuss Cloud Administration.\\nProgram Overview\\nAt Codeup, we offer a 15-week Cloud Administration program, which was derived from our previous two programs: Systems Engineering and Cyber Cloud. We combined the best of both and blended hands-on practical knowledge with skilled instructors to create the Cloud Administration program.\\nUpon completing this program, you’ll have the opportunity to take on two exams for certifications: Amazon Web Services (AWS) Cloud Practitioner and AWS Solutions Architect Associate.\\xa0\\nPotential Jobs\\nAccording to A Cloud Guru, with an AWS Certification you’ll be equipped with the knowledge and experience to secure a job as the following:\\n1. Cloud Architect\\nAs a Cloud Architect, you will double as an IT specialist responsible for your organization’s cloud infrastructure. This includes system monitoring, computing strategy, planning, building and deployment. An entry-level Cloud Architect can make an estimated $93,892 annually according to Glassdoor.\\xa0\\n2. Cloud Developer\\nA Cloud Developer’s main duties align with a software developer’s. The differentiating factor is a Cloud Developer operates virtually with cloud computing technology. This may include the design, analysis and maintenance of a company’s cloud infrastructure. An entry-level Cloud Developer can make an estimated $89,652 annually according to Glassdoor.\\xa0\\n3. Cloud Systems Administrator\\nA Cloud Systems Administrator can be expected to provide insight on cloud systems, specifically working with IT to provide assistance and resolve operational issues. An entry-level Cloud Systems Administrator can make an estimated $64,805 annually according to Glassdoor.\\nHonorable Mention\\nA few additional roles to consider with AWS Certification include:\\xa0\\n\\nCloud DevOps Engineer- Estimated Entry-Level Salary $88,563\\nCloud Security Engineer- Estimated Entry-Level Salary $85,111\\nCloud Data Architect- Estimated Entry-Level Salary $91,598\\nCloud Consultant- Estimated Entry-Level Salary $72,474\\n\\nInterested in the other parts of this mini-series? Check them out below!\\n\\nPart 1: Data Science\\nPart 3: Web Development (Coming Soon!)\\xa0\\n\\n*Disclaimer: All information presented in this article is by no means guaranteed by completing a Codeup program. Salaries and duties vary based on factors such as company, location, and experience. These salaries are estimates based on San Antonio, TX data, and these duties are general and may not be exact for every position. \\n\\n\\n\\n\\n\\n\\n\\n\\nOur ProgramsCloud Administration\\nFull Stack Web Development\\nData Science\\n\\n\\n\\n\\n\\nLatest Blog Articles\\nIs a Career in Tech Recession-Proof?\\nCodeup X Superhero Car Show & Comic Con\\nWhat Jobs Can You Get After a Coding Bootcamp? Part 3: Web Development\\nCodeup’s New Dallas Campus\\nCodeup TV Commercial\\n\\n\\n\\n\\n\\n\\n\\n\\n\\n\\n\\n\\n\\n\\n\\n\\n\\n \\n\\n\\n',\n",
       "  'date_published': 'Jul 14, 2022'},\n",
       " {'title': 'Codeup TV Commercial - Codeup News',\n",
       "  'content': '\\n\\n\\n\\n\\n\\nCodeup TV Commercial\\nJul 20, 2022 | Codeup News\\n\\n\\nCodeup has officially made its TV debut! Our community of students, staff and CEO gathered to create the first-ever Codeup TV Commercial! Check it out to get a rundown of our offerings, and take a peek into our downtown Vogue campus where the commercial was filmed.\\nView the Codeup TV commercial below to see what the hype is about!\\n\\nCheck out some behind-the-scenes of filming:\\n\\n\\n\\n\\n\\n\\n\\n\\n\\n\\n\\n\\nCodeup would love to help you jumpstart your career in tech. If you’re interested in learning more, check out our program offerings. When you’re ready, start the process by filling out a quick form found here. \\n“COME JOIN US!”\\n\\n\\n\\n\\n\\n\\n\\n\\nOur ProgramsCloud Administration\\nFull Stack Web Development\\nData Science\\n\\n\\n\\n\\n\\nLatest Blog Articles\\nIs a Career in Tech Recession-Proof?\\nCodeup X Superhero Car Show & Comic Con\\nWhat Jobs Can You Get After a Coding Bootcamp? Part 3: Web Development\\nCodeup’s New Dallas Campus\\nCodeup TV Commercial\\n\\n\\n\\n\\n\\n\\n\\n\\n\\n\\n\\n\\n\\n\\n\\n\\n\\n \\n\\n\\n',\n",
       "  'date_published': 'Jul 20, 2022'}]"
      ]
     },
     "execution_count": 3,
     "metadata": {},
     "output_type": "execute_result"
    }
   ],
   "source": [
    "df = acquire.get_blog_articles()\n",
    "df"
   ]
  },
  {
   "cell_type": "code",
   "execution_count": 5,
   "id": "4cf42dcf",
   "metadata": {},
   "outputs": [
    {
     "data": {
      "text/plain": [
       "'\\n\\n\\n\\n\\n\\n5 Reasons To Attend Our New Cloud Administration Program\\nMay 17, 2022 | Codeup News, Featured, IT Training, Tips for Prospective Students\\n\\n\\nCome Work In The Cloud\\nWhen your Monday rolls around, do you start to get a sense of dread? That might be a sign to break up with your current job and learn something new.\\xa0At Codeup, we don’t want you to keep your head in the clouds while working a job you can’t stand. You should learn all about the cloud and cloud technology!\\xa0As we charge forward into 2022, we recently announced our brand new Cloud Administration Program.\\xa0\\nThis is a 15-week career accelerator that gets you hands-on experience with:\\n\\nNetworking\\nLinux Operating System\\xa0\\nWindows Operating System\\xa0\\nSecurity\\xa0\\nAmazon Web Services (AWS) Cloud Technology\\n\\nYou’ll earn two industry-recognized certifications as an AWS Cloud Practitioner and AWS Solutions Architect Associate. Both are included as part of your tuition. You will learn how to build infrastructure that enables software and data science products, manage cloud deployments, and optimize for cloud performance.\\xa0\\nHere are 5 reasons why we think you should attend our Cloud Administration program:\\xa0\\n\\xa0\\n1.) The Campus\\xa0\\nLocated on Rackspace property, our Castle campus has everything you need.\\xa0Tabletop games to play with classmates on break? We got foosball and ping pong!\\xa0Need a drink to quench your thirst? We have complimentary soda, water, and tea.\\xa0\\nThere is also lots of seating across the campus for you to study, have lunch, or even meet with classmates.\\xa0\\nParking is free since we are located on Rackspace’s property. You have the option to park about 100 ft away from our building, or you can park on the underground level to save your car from the heat if you attend during the summer months.\\xa0\\nThere is also plenty of food options within driving distance of campus. Fast food options include Mcdonald’s, Panda Express, and Bill Miller’s BBQ. For more sit-down restaurant options, you can visit Applebee’s, Buffalo Wild Wings, or Olive Garden. If you want to bring your lunch we have microwaves and refrigerators to enjoy your lunch on campus.\\xa0\\n\\xa0\\n2.) Time and Money Spent\\xa0\\nIn just 15 weeks you will be on your way to a new career that’s in high demand! That means you won’t have to wait 2 – 4 years like other traditional degree plans to get started in your new career.\\xa0\\nIs the cost of our program a concern? We totally understand if it is. Our Cloud Administration program is also the most affordable option of our three programs at Codeup if you’re looking to save the most money. It’s also more affordable than a traditional degree.\\xa0\\nAt Codeup we have a dedicated team of Financial Aid and Enrollment managers who will work with you one on one to ensure you have everything you need to pay for your time at Codeup that makes sense for your individual situation.\\xa0\\nWe have grants, scholarships, and student loans for those who qualify. If you’re a Veteran or a dependant of a Veteran you might have GI Bill benefits for use at Codeup. We just launched an exclusive scholarship with Climb Credit that you can apply for here.\\xa0\\nLastly, you can always go through your own financial institution to see what options are available to pay for Codeup.\\xa0\\nCheck out a walkthrough of our financial aid options here.\\xa0\\n\\xa0\\n3.) Salary & Benefits\\xa0\\nAlmost everyone changing careers during the “Great Resignation” is doing it for better pay and better benefits.\\xa0\\nWhat if I told you that any career you obtain through our Cloud Administration program offered you both a better salary and better benefits?\\xa0\\nAccording to Indeed.com the average salary for a Cloud Engineer right now is $118,712 in Texas (which is similar to the National average). This mirrors a Glassdoor Median Base salary of $118,999. Glassdoor also notes a job satisfaction rating of 4 out of 5 and over 10K open roles under the title Cloud Engineer.\\xa0\\nAre you guaranteed a salary like that after graduation? Not necessarily since this was an average salary. However, what that means is you have the potential to get to that level of salary at some point in your new career.\\nYour new skill sets could land you at a larger company like Accenture, EY, or even USAA. On the other hand, you could end up at a small company like a startup or SaaS (software as a service) company.\\xa0\\nBoth of those options will typically give you things like a great health care plan, generous amounts of time off, and additional perks like continuing education and gym discounts. Startups might be a little more unique in their offerings like remote work options, paying for new office equipment, and even potentially paying for an annual company retreat if the company works remotely.\\xa0\\n\\xa0\\n4.) Job Security\\nAccording to IT senior managers in a recent Robert Half survey, cloud expertise is the topmost in-demand skill set. This means cloud experts are in high demand and will continue to be as more companies adopt cloud infrastructures. The curriculum you go through in this program won’t stick you to just one lane. Coming out of the Cloud Administration program you could land a job as a:\\xa0\\n\\nCloud Engineer\\nCloud Network Engineer\\xa0\\nCloud Security Engineer\\xa0\\nCloud Architect\\xa0\\nCloud Administrator\\xa0\\n\\nHaving this many career options to choose from makes you a valuable and in-demand candidate for any tech company big or small. At Codeup, we have an employer-influenced curriculum. So once you graduate, you are equipped with the latest skills and knowledge today’s employers are looking for.\\xa0\\n\\xa0\\n5.) Our Instructors Are Next Level\\xa0\\nOur instructors genuinely care about your success. They lecture and take questions in real-time. Instead of giving you the answer, they will guide you in the right direction until you understand it yourself. They are all responsive and engaging, with a commitment to your success and a mission of empowering life change.\\xa0\\nAt other boot camps, you won’t find the same quality of instructors with industry experience, subject matter expertise, and live interactive lectures and lab. Even at the college level, professors often don’t provide individualized attention, hands-on learning, or accountability. Our instructors make a difference in your learning journey.\\xa0\\nIf having awesome instructors wasn’t enough, we also have a dedicated Student Experience team. This team is designed to work in collaboration with our instructors to ensure your success. Need a one-on-one session with your instructor? They can help with that. Need help just managing your time better? They can help with that too! These are passionate education professionals who want to empower you to get to that finish line we call graduation!\\xa0\\nRead more about why you need the best coding Bootcamp instructors here.\\xa0\\n\\xa0\\nWrapping Up\\nAs we mentioned, as more companies adopt cloud technologies the demand for cloud experts will only continue to grow. Take this as a sign to launch your career in tech and attend our brand new Cloud Administration program today.\\xa0\\nOur next class starts June 16th so don’t wait to get started and fill out this form here for our admissions team to get in touch with you. You can beat the heat this summer, learn new skills, and launch your career in the cloud! We can’t wait to hear from you! \\n\\n\\n\\n\\n\\n\\n\\n\\nOur ProgramsCloud Administration\\nFull Stack Web Development\\nData Science\\n\\n\\n\\n\\n\\nLatest Blog Articles\\nIs a Career in Tech Recession-Proof?\\nCodeup X Superhero Car Show & Comic Con\\nWhat Jobs Can You Get After a Coding Bootcamp? Part 3: Web Development\\nCodeup’s New Dallas Campus\\nCodeup TV Commercial\\n\\n\\n\\n\\n\\n\\n\\n\\n\\n\\n\\n\\n\\n\\n\\n\\n\\n \\n\\n\\n'"
      ]
     },
     "execution_count": 5,
     "metadata": {},
     "output_type": "execute_result"
    }
   ],
   "source": [
    "test = df[0]\n",
    "test = df[1][\"content\"]\n",
    "test"
   ]
  },
  {
   "cell_type": "code",
   "execution_count": 8,
   "id": "f8df1e57",
   "metadata": {},
   "outputs": [
    {
     "data": {
      "text/plain": [
       "'\\n\\n\\n\\n\\n\\n5 reasons to attend our new cloud administration program\\nmay 17 2022  codeup news featured it training tips for prospective students\\n\\n\\ncome work in the cloud\\nwhen your monday rolls around do you start to get a sense of dread that might be a sign to break up with your current job and learn something new at codeup we dont want you to keep your head in the clouds while working a job you cant stand you should learn all about the cloud and cloud technology as we charge forward into 2022 we recently announced our brand new cloud administration program \\nthis is a 15week career accelerator that gets you handson experience with\\n\\nnetworking\\nlinux operating system \\nwindows operating system \\nsecurity \\namazon web services aws cloud technology\\n\\nyoull earn two industryrecognized certifications as an aws cloud practitioner and aws solutions architect associate both are included as part of your tuition you will learn how to build infrastructure that enables software and data science products manage cloud deployments and optimize for cloud performance \\nhere are 5 reasons why we think you should attend our cloud administration program \\n \\n1 the campus \\nlocated on rackspace property our castle campus has everything you need tabletop games to play with classmates on break we got foosball and ping pong need a drink to quench your thirst we have complimentary soda water and tea \\nthere is also lots of seating across the campus for you to study have lunch or even meet with classmates \\nparking is free since we are located on rackspaces property you have the option to park about 100 ft away from our building or you can park on the underground level to save your car from the heat if you attend during the summer months \\nthere is also plenty of food options within driving distance of campus fast food options include mcdonalds panda express and bill millers bbq for more sitdown restaurant options you can visit applebees buffalo wild wings or olive garden if you want to bring your lunch we have microwaves and refrigerators to enjoy your lunch on campus \\n \\n2 time and money spent \\nin just 15 weeks you will be on your way to a new career thats in high demand that means you wont have to wait 2  4 years like other traditional degree plans to get started in your new career \\nis the cost of our program a concern we totally understand if it is our cloud administration program is also the most affordable option of our three programs at codeup if youre looking to save the most money its also more affordable than a traditional degree \\nat codeup we have a dedicated team of financial aid and enrollment managers who will work with you one on one to ensure you have everything you need to pay for your time at codeup that makes sense for your individual situation \\nwe have grants scholarships and student loans for those who qualify if youre a veteran or a dependant of a veteran you might have gi bill benefits for use at codeup we just launched an exclusive scholarship with climb credit that you can apply for here \\nlastly you can always go through your own financial institution to see what options are available to pay for codeup \\ncheck out a walkthrough of our financial aid options here \\n \\n3 salary  benefits \\nalmost everyone changing careers during the great resignation is doing it for better pay and better benefits \\nwhat if i told you that any career you obtain through our cloud administration program offered you both a better salary and better benefits \\naccording to indeedcom the average salary for a cloud engineer right now is 118712 in texas which is similar to the national average this mirrors a glassdoor median base salary of 118999 glassdoor also notes a job satisfaction rating of 4 out of 5 and over 10k open roles under the title cloud engineer \\nare you guaranteed a salary like that after graduation not necessarily since this was an average salary however what that means is you have the potential to get to that level of salary at some point in your new career\\nyour new skill sets could land you at a larger company like accenture ey or even usaa on the other hand you could end up at a small company like a startup or saas software as a service company \\nboth of those options will typically give you things like a great health care plan generous amounts of time off and additional perks like continuing education and gym discounts startups might be a little more unique in their offerings like remote work options paying for new office equipment and even potentially paying for an annual company retreat if the company works remotely \\n \\n4 job security\\naccording to it senior managers in a recent robert half survey cloud expertise is the topmost indemand skill set this means cloud experts are in high demand and will continue to be as more companies adopt cloud infrastructures the curriculum you go through in this program wont stick you to just one lane coming out of the cloud administration program you could land a job as a \\n\\ncloud engineer\\ncloud network engineer \\ncloud security engineer \\ncloud architect \\ncloud administrator \\n\\nhaving this many career options to choose from makes you a valuable and indemand candidate for any tech company big or small at codeup we have an employerinfluenced curriculum so once you graduate you are equipped with the latest skills and knowledge todays employers are looking for \\n \\n5 our instructors are next level \\nour instructors genuinely care about your success they lecture and take questions in realtime instead of giving you the answer they will guide you in the right direction until you understand it yourself they are all responsive and engaging with a commitment to your success and a mission of empowering life change \\nat other boot camps you wont find the same quality of instructors with industry experience subject matter expertise and live interactive lectures and lab even at the college level professors often dont provide individualized attention handson learning or accountability our instructors make a difference in your learning journey \\nif having awesome instructors wasnt enough we also have a dedicated student experience team this team is designed to work in collaboration with our instructors to ensure your success need a oneonone session with your instructor they can help with that need help just managing your time better they can help with that too these are passionate education professionals who want to empower you to get to that finish line we call graduation \\nread more about why you need the best coding bootcamp instructors here \\n \\nwrapping up\\nas we mentioned as more companies adopt cloud technologies the demand for cloud experts will only continue to grow take this as a sign to launch your career in tech and attend our brand new cloud administration program today \\nour next class starts june 16th so dont wait to get started and fill out this form here for our admissions team to get in touch with you you can beat the heat this summer learn new skills and launch your career in the cloud we cant wait to hear from you \\n\\n\\n\\n\\n\\n\\n\\n\\nour programscloud administration\\nfull stack web development\\ndata science\\n\\n\\n\\n\\n\\nlatest blog articles\\nis a career in tech recessionproof\\ncodeup x superhero car show  comic con\\nwhat jobs can you get after a coding bootcamp part 3 web development\\ncodeups new dallas campus\\ncodeup tv commercial\\n\\n\\n\\n\\n\\n\\n\\n\\n\\n\\n\\n\\n\\n\\n\\n\\n\\n \\n\\n\\n'"
      ]
     },
     "execution_count": 8,
     "metadata": {},
     "output_type": "execute_result"
    }
   ],
   "source": [
    "basic_clean = basic_clean(test)\n",
    "basic_clean"
   ]
  },
  {
   "cell_type": "markdown",
   "id": "d477cc73",
   "metadata": {},
   "source": [
    "2. Define a function named tokenize. It should take in a string and tokenize all the words in the string."
   ]
  },
  {
   "cell_type": "code",
   "execution_count": 10,
   "id": "6512059f",
   "metadata": {},
   "outputs": [],
   "source": [
    "def tokenize(text):\n",
    "    tokenizer = nltk.tokenize.ToktokTokenizer()\n",
    "    article = tokenizer.tokenize(text, return_str=True)\n",
    "    return article"
   ]
  },
  {
   "cell_type": "code",
   "execution_count": 12,
   "id": "8094037d",
   "metadata": {},
   "outputs": [
    {
     "data": {
      "text/plain": [
       "'5 reasons to attend our new cloud administration program\\nmay 17 2022 codeup news featured it training tips for prospective students\\n\\n\\ncome work in the cloud\\nwhen your monday rolls around do you start to get a sense of dread that might be a sign to break up with your current job and learn something new at codeup we dont want you to keep your head in the clouds while working a job you cant stand you should learn all about the cloud and cloud technology as we charge forward into 2022 we recently announced our brand new cloud administration program \\nthis is a 15week career accelerator that gets you handson experience with\\n\\nnetworking\\nlinux operating system \\nwindows operating system \\nsecurity \\namazon web services aws cloud technology\\n\\nyoull earn two industryrecognized certifications as an aws cloud practitioner and aws solutions architect associate both are included as part of your tuition you will learn how to build infrastructure that enables software and data science products manage cloud deployments and optimize for cloud performance \\nhere are 5 reasons why we think you should attend our cloud administration program \\n \\n1 the campus \\nlocated on rackspace property our castle campus has everything you need tabletop games to play with classmates on break we got foosball and ping pong need a drink to quench your thirst we have complimentary soda water and tea \\nthere is also lots of seating across the campus for you to study have lunch or even meet with classmates \\nparking is free since we are located on rackspaces property you have the option to park about 100 ft away from our building or you can park on the underground level to save your car from the heat if you attend during the summer months \\nthere is also plenty of food options within driving distance of campus fast food options include mcdonalds panda express and bill millers bbq for more sitdown restaurant options you can visit applebees buffalo wild wings or olive garden if you want to bring your lunch we have microwaves and refrigerators to enjoy your lunch on campus \\n \\n2 time and money spent \\nin just 15 weeks you will be on your way to a new career thats in high demand that means you wont have to wait 2 4 years like other traditional degree plans to get started in your new career \\nis the cost of our program a concern we totally understand if it is our cloud administration program is also the most affordable option of our three programs at codeup if youre looking to save the most money its also more affordable than a traditional degree \\nat codeup we have a dedicated team of financial aid and enrollment managers who will work with you one on one to ensure you have everything you need to pay for your time at codeup that makes sense for your individual situation \\nwe have grants scholarships and student loans for those who qualify if youre a veteran or a dependant of a veteran you might have gi bill benefits for use at codeup we just launched an exclusive scholarship with climb credit that you can apply for here \\nlastly you can always go through your own financial institution to see what options are available to pay for codeup \\ncheck out a walkthrough of our financial aid options here \\n \\n3 salary benefits \\nalmost everyone changing careers during the great resignation is doing it for better pay and better benefits \\nwhat if i told you that any career you obtain through our cloud administration program offered you both a better salary and better benefits \\naccording to indeedcom the average salary for a cloud engineer right now is 118712 in texas which is similar to the national average this mirrors a glassdoor median base salary of 118999 glassdoor also notes a job satisfaction rating of 4 out of 5 and over 10k open roles under the title cloud engineer \\nare you guaranteed a salary like that after graduation not necessarily since this was an average salary however what that means is you have the potential to get to that level of salary at some point in your new career\\nyour new skill sets could land you at a larger company like accenture ey or even usaa on the other hand you could end up at a small company like a startup or saas software as a service company \\nboth of those options will typically give you things like a great health care plan generous amounts of time off and additional perks like continuing education and gym discounts startups might be a little more unique in their offerings like remote work options paying for new office equipment and even potentially paying for an annual company retreat if the company works remotely \\n \\n4 job security\\naccording to it senior managers in a recent robert half survey cloud expertise is the topmost indemand skill set this means cloud experts are in high demand and will continue to be as more companies adopt cloud infrastructures the curriculum you go through in this program wont stick you to just one lane coming out of the cloud administration program you could land a job as a \\n\\ncloud engineer\\ncloud network engineer \\ncloud security engineer \\ncloud architect \\ncloud administrator \\n\\nhaving this many career options to choose from makes you a valuable and indemand candidate for any tech company big or small at codeup we have an employerinfluenced curriculum so once you graduate you are equipped with the latest skills and knowledge todays employers are looking for \\n \\n5 our instructors are next level \\nour instructors genuinely care about your success they lecture and take questions in realtime instead of giving you the answer they will guide you in the right direction until you understand it yourself they are all responsive and engaging with a commitment to your success and a mission of empowering life change \\nat other boot camps you wont find the same quality of instructors with industry experience subject matter expertise and live interactive lectures and lab even at the college level professors often dont provide individualized attention handson learning or accountability our instructors make a difference in your learning journey \\nif having awesome instructors wasnt enough we also have a dedicated student experience team this team is designed to work in collaboration with our instructors to ensure your success need a oneonone session with your instructor they can help with that need help just managing your time better they can help with that too these are passionate education professionals who want to empower you to get to that finish line we call graduation \\nread more about why you need the best coding bootcamp instructors here \\n \\nwrapping up\\nas we mentioned as more companies adopt cloud technologies the demand for cloud experts will only continue to grow take this as a sign to launch your career in tech and attend our brand new cloud administration program today \\nour next class starts june 16th so dont wait to get started and fill out this form here for our admissions team to get in touch with you you can beat the heat this summer learn new skills and launch your career in the cloud we cant wait to hear from you \\n\\n\\n\\n\\n\\n\\n\\n\\nour programscloud administration\\nfull stack web development\\ndata science\\n\\n\\n\\n\\n\\nlatest blog articles\\nis a career in tech recessionproof\\ncodeup x superhero car show comic con\\nwhat jobs can you get after a coding bootcamp part 3 web development\\ncodeups new dallas campus\\ncodeup tv commercial'"
      ]
     },
     "execution_count": 12,
     "metadata": {},
     "output_type": "execute_result"
    }
   ],
   "source": [
    "tokenized = tokenize(basic_clean)\n",
    "tokenized"
   ]
  },
  {
   "cell_type": "markdown",
   "id": "e26508dc",
   "metadata": {},
   "source": [
    "3. Define a function named stem. It should accept some text and return the text after applying stemming to all the words."
   ]
  },
  {
   "cell_type": "code",
   "execution_count": 11,
   "id": "b50250ec",
   "metadata": {},
   "outputs": [],
   "source": [
    "def stem(text):\n",
    "    ps = nltk.stem.porter.PorterStemmer()\n",
    "    stems = [ps.stem(word) for word in text.split()]\n",
    "    article_stemmed = ' '.join(stems)\n",
    "    return article_stemmed  "
   ]
  },
  {
   "cell_type": "code",
   "execution_count": 16,
   "id": "97bac019",
   "metadata": {},
   "outputs": [
    {
     "data": {
      "text/plain": [
       "'5 reason to attend our new cloud administr program may 17 2022 codeup news featur it train tip for prospect student come work in the cloud when your monday roll around do you start to get a sens of dread that might be a sign to break up with your current job and learn someth new at codeup we dont want you to keep your head in the cloud while work a job you cant stand you should learn all about the cloud and cloud technolog as we charg forward into 2022 we recent announc our brand new cloud administr program thi is a 15week career acceler that get you handson experi with network linux oper system window oper system secur amazon web servic aw cloud technolog youll earn two industryrecogn certif as an aw cloud practition and aw solut architect associ both are includ as part of your tuition you will learn how to build infrastructur that enabl softwar and data scienc product manag cloud deploy and optim for cloud perform here are 5 reason whi we think you should attend our cloud administr program 1 the campu locat on rackspac properti our castl campu ha everyth you need tabletop game to play with classmat on break we got foosbal and ping pong need a drink to quench your thirst we have complimentari soda water and tea there is also lot of seat across the campu for you to studi have lunch or even meet with classmat park is free sinc we are locat on rackspac properti you have the option to park about 100 ft away from our build or you can park on the underground level to save your car from the heat if you attend dure the summer month there is also plenti of food option within drive distanc of campu fast food option includ mcdonald panda express and bill miller bbq for more sitdown restaur option you can visit applebe buffalo wild wing or oliv garden if you want to bring your lunch we have microwav and refriger to enjoy your lunch on campu 2 time and money spent in just 15 week you will be on your way to a new career that in high demand that mean you wont have to wait 2 4 year like other tradit degre plan to get start in your new career is the cost of our program a concern we total understand if it is our cloud administr program is also the most afford option of our three program at codeup if your look to save the most money it also more afford than a tradit degre at codeup we have a dedic team of financi aid and enrol manag who will work with you one on one to ensur you have everyth you need to pay for your time at codeup that make sens for your individu situat we have grant scholarship and student loan for those who qualifi if your a veteran or a depend of a veteran you might have gi bill benefit for use at codeup we just launch an exclus scholarship with climb credit that you can appli for here lastli you can alway go through your own financi institut to see what option are avail to pay for codeup check out a walkthrough of our financi aid option here 3 salari benefit almost everyon chang career dure the great resign is do it for better pay and better benefit what if i told you that ani career you obtain through our cloud administr program offer you both a better salari and better benefit accord to indeedcom the averag salari for a cloud engin right now is 118712 in texa which is similar to the nation averag thi mirror a glassdoor median base salari of 118999 glassdoor also note a job satisfact rate of 4 out of 5 and over 10k open role under the titl cloud engin are you guarante a salari like that after graduat not necessarili sinc thi wa an averag salari howev what that mean is you have the potenti to get to that level of salari at some point in your new career your new skill set could land you at a larger compani like accentur ey or even usaa on the other hand you could end up at a small compani like a startup or saa softwar as a servic compani both of those option will typic give you thing like a great health care plan gener amount of time off and addit perk like continu educ and gym discount startup might be a littl more uniqu in their offer like remot work option pay for new offic equip and even potenti pay for an annual compani retreat if the compani work remot 4 job secur accord to it senior manag in a recent robert half survey cloud expertis is the topmost indemand skill set thi mean cloud expert are in high demand and will continu to be as more compani adopt cloud infrastructur the curriculum you go through in thi program wont stick you to just one lane come out of the cloud administr program you could land a job as a cloud engin cloud network engin cloud secur engin cloud architect cloud administr have thi mani career option to choos from make you a valuabl and indemand candid for ani tech compani big or small at codeup we have an employerinfluenc curriculum so onc you graduat you are equip with the latest skill and knowledg today employ are look for 5 our instructor are next level our instructor genuin care about your success they lectur and take question in realtim instead of give you the answer they will guid you in the right direct until you understand it yourself they are all respons and engag with a commit to your success and a mission of empow life chang at other boot camp you wont find the same qualiti of instructor with industri experi subject matter expertis and live interact lectur and lab even at the colleg level professor often dont provid individu attent handson learn or account our instructor make a differ in your learn journey if have awesom instructor wasnt enough we also have a dedic student experi team thi team is design to work in collabor with our instructor to ensur your success need a oneonon session with your instructor they can help with that need help just manag your time better they can help with that too these are passion educ profession who want to empow you to get to that finish line we call graduat read more about whi you need the best code bootcamp instructor here wrap up as we mention as more compani adopt cloud technolog the demand for cloud expert will onli continu to grow take thi as a sign to launch your career in tech and attend our brand new cloud administr program today our next class start june 16th so dont wait to get start and fill out thi form here for our admiss team to get in touch with you you can beat the heat thi summer learn new skill and launch your career in the cloud we cant wait to hear from you our programscloud administr full stack web develop data scienc latest blog articl is a career in tech recessionproof codeup x superhero car show comic con what job can you get after a code bootcamp part 3 web develop codeup new dalla campu codeup tv commerci'"
      ]
     },
     "execution_count": 16,
     "metadata": {},
     "output_type": "execute_result"
    }
   ],
   "source": [
    "stemmed = stem(tokenized)\n",
    "stemmed"
   ]
  },
  {
   "cell_type": "markdown",
   "id": "7fb847dd",
   "metadata": {},
   "source": [
    "4. Define a function named lemmatize. It should accept some text and return the text after applying lemmatization to each word."
   ]
  },
  {
   "cell_type": "code",
   "execution_count": 12,
   "id": "30fc3817",
   "metadata": {},
   "outputs": [],
   "source": [
    "def lemmatize(text):\n",
    "    \n",
    "    wnl = nltk.stem.WordNetLemmatizer()\n",
    "    \n",
    "    lemmas = [wnl.lemmatize(word) for word in text.split()]\n",
    "    \n",
    "    lemmatized_string = ' '.join(lemmas)\n",
    "    \n",
    "    return lemmatized_string"
   ]
  },
  {
   "cell_type": "code",
   "execution_count": 26,
   "id": "cca6696f",
   "metadata": {},
   "outputs": [
    {
     "data": {
      "text/plain": [
       "'5 reason to attend our new cloud administration program may 17 2022 codeup news featured it training tip for prospective student come work in the cloud when your monday roll around do you start to get a sense of dread that might be a sign to break up with your current job and learn something new at codeup we dont want you to keep your head in the cloud while working a job you cant stand you should learn all about the cloud and cloud technology a we charge forward into 2022 we recently announced our brand new cloud administration program this is a 15week career accelerator that get you handson experience with networking linux operating system window operating system security amazon web service aws cloud technology youll earn two industryrecognized certification a an aws cloud practitioner and aws solution architect associate both are included a part of your tuition you will learn how to build infrastructure that enables software and data science product manage cloud deployment and optimize for cloud performance here are 5 reason why we think you should attend our cloud administration program 1 the campus located on rackspace property our castle campus ha everything you need tabletop game to play with classmate on break we got foosball and ping pong need a drink to quench your thirst we have complimentary soda water and tea there is also lot of seating across the campus for you to study have lunch or even meet with classmate parking is free since we are located on rackspaces property you have the option to park about 100 ft away from our building or you can park on the underground level to save your car from the heat if you attend during the summer month there is also plenty of food option within driving distance of campus fast food option include mcdonalds panda express and bill miller bbq for more sitdown restaurant option you can visit applebees buffalo wild wing or olive garden if you want to bring your lunch we have microwave and refrigerator to enjoy your lunch on campus 2 time and money spent in just 15 week you will be on your way to a new career thats in high demand that mean you wont have to wait 2 4 year like other traditional degree plan to get started in your new career is the cost of our program a concern we totally understand if it is our cloud administration program is also the most affordable option of our three program at codeup if youre looking to save the most money it also more affordable than a traditional degree at codeup we have a dedicated team of financial aid and enrollment manager who will work with you one on one to ensure you have everything you need to pay for your time at codeup that make sense for your individual situation we have grant scholarship and student loan for those who qualify if youre a veteran or a dependant of a veteran you might have gi bill benefit for use at codeup we just launched an exclusive scholarship with climb credit that you can apply for here lastly you can always go through your own financial institution to see what option are available to pay for codeup check out a walkthrough of our financial aid option here 3 salary benefit almost everyone changing career during the great resignation is doing it for better pay and better benefit what if i told you that any career you obtain through our cloud administration program offered you both a better salary and better benefit according to indeedcom the average salary for a cloud engineer right now is 118712 in texas which is similar to the national average this mirror a glassdoor median base salary of 118999 glassdoor also note a job satisfaction rating of 4 out of 5 and over 10k open role under the title cloud engineer are you guaranteed a salary like that after graduation not necessarily since this wa an average salary however what that mean is you have the potential to get to that level of salary at some point in your new career your new skill set could land you at a larger company like accenture ey or even usaa on the other hand you could end up at a small company like a startup or saas software a a service company both of those option will typically give you thing like a great health care plan generous amount of time off and additional perk like continuing education and gym discount startup might be a little more unique in their offering like remote work option paying for new office equipment and even potentially paying for an annual company retreat if the company work remotely 4 job security according to it senior manager in a recent robert half survey cloud expertise is the topmost indemand skill set this mean cloud expert are in high demand and will continue to be a more company adopt cloud infrastructure the curriculum you go through in this program wont stick you to just one lane coming out of the cloud administration program you could land a job a a cloud engineer cloud network engineer cloud security engineer cloud architect cloud administrator having this many career option to choose from make you a valuable and indemand candidate for any tech company big or small at codeup we have an employerinfluenced curriculum so once you graduate you are equipped with the latest skill and knowledge today employer are looking for 5 our instructor are next level our instructor genuinely care about your success they lecture and take question in realtime instead of giving you the answer they will guide you in the right direction until you understand it yourself they are all responsive and engaging with a commitment to your success and a mission of empowering life change at other boot camp you wont find the same quality of instructor with industry experience subject matter expertise and live interactive lecture and lab even at the college level professor often dont provide individualized attention handson learning or accountability our instructor make a difference in your learning journey if having awesome instructor wasnt enough we also have a dedicated student experience team this team is designed to work in collaboration with our instructor to ensure your success need a oneonone session with your instructor they can help with that need help just managing your time better they can help with that too these are passionate education professional who want to empower you to get to that finish line we call graduation read more about why you need the best coding bootcamp instructor here wrapping up a we mentioned a more company adopt cloud technology the demand for cloud expert will only continue to grow take this a a sign to launch your career in tech and attend our brand new cloud administration program today our next class start june 16th so dont wait to get started and fill out this form here for our admission team to get in touch with you you can beat the heat this summer learn new skill and launch your career in the cloud we cant wait to hear from you our programscloud administration full stack web development data science latest blog article is a career in tech recessionproof codeup x superhero car show comic con what job can you get after a coding bootcamp part 3 web development codeups new dallas campus codeup tv commercial'"
      ]
     },
     "execution_count": 26,
     "metadata": {},
     "output_type": "execute_result"
    }
   ],
   "source": [
    "lemmatized = lemmatize(tokenized)\n",
    "lemmatized"
   ]
  },
  {
   "cell_type": "markdown",
   "id": "449910d6",
   "metadata": {},
   "source": [
    "5. Define a function named remove_stopwords. It should accept some text and return the text after removing all the stopwords.\n",
    "\n",
    "This function should define two optional parameters, extra_words and exclude_words. These parameters should define any additional stop words to include, and any words that we don't want to remove."
   ]
  },
  {
   "cell_type": "code",
   "execution_count": 13,
   "id": "bb25df45",
   "metadata": {},
   "outputs": [],
   "source": [
    "def remove_stopwords(string, extra_words=None, exclude_words=None):    \n",
    "    stopword_list = stopwords.words('english')    \n",
    "    if exclude_words:        \n",
    "        stopword_list = stopword_list + exclude_words\n",
    "        \n",
    "    if extra_words:        \n",
    "        for word in extra_words:            \n",
    "            stopword_list.remove(word)\n",
    "            \n",
    "    words = string.split()    \n",
    "    filtered_words = [word for word in words if word not in stopword_list]    \n",
    "    filtered_string = ' '.join(filtered_words)   \n",
    "    return filtered_string"
   ]
  },
  {
   "cell_type": "code",
   "execution_count": 33,
   "id": "f22dd962",
   "metadata": {},
   "outputs": [
    {
     "data": {
      "text/plain": [
       "'5 reason attend new cloud administration program may 17 2022 codeup news featured training tip prospective student come work cloud monday roll around start get sense dread might sign break current job learn something new codeup dont want keep head cloud working job cant stand learn cloud cloud technology charge forward 2022 recently announced brand new cloud administration program 15week career accelerator get handson experience networking linux operating system window operating system security amazon web service aws cloud technology youll earn two industryrecognized certification aws cloud practitioner aws solution architect associate included part tuition learn build infrastructure enables software data science product manage cloud deployment optimize cloud performance 5 reason think attend cloud administration program 1 campus located rackspace property castle campus ha everything need tabletop game play classmate break got foosball ping pong need drink quench thirst complimentary soda water tea also lot seating across campus study lunch even meet classmate parking free since located rackspaces property option park 100 ft away building park underground level save car heat attend summer month also plenty food option within driving distance campus fast food option include mcdonalds panda express bill miller bbq sitdown restaurant option visit applebees buffalo wild wing olive garden want bring lunch microwave refrigerator enjoy lunch campus 2 time money spent 15 week way new career thats high demand mean wont wait 2 4 year like traditional degree plan get started new career cost program concern totally understand cloud administration program also affordable option three program codeup youre looking save money also affordable traditional degree codeup dedicated team financial aid enrollment manager work one one ensure everything need pay time codeup make sense individual situation grant scholarship student loan qualify youre veteran dependant veteran might gi bill benefit use codeup launched exclusive scholarship climb credit apply lastly always go financial institution see option available pay codeup check walkthrough financial aid option 3 salary benefit almost everyone changing career great resignation better pay better benefit told career obtain cloud administration program offered better salary better benefit according indeedcom average salary cloud engineer right 118712 texas similar national average mirror glassdoor median base salary 118999 glassdoor also note job satisfaction rating 4 5 10k open role title cloud engineer guaranteed salary like graduation necessarily since wa average salary however mean potential get level salary point new career new skill set could land larger company like accenture ey even usaa hand could end small company like startup saas software service company option typically give thing like great health care plan generous amount time additional perk like continuing education gym discount startup might little unique offering like remote work option paying new office equipment even potentially paying annual company retreat company work remotely 4 job security according senior manager recent robert half survey cloud expertise topmost indemand skill set mean cloud expert high demand continue company adopt cloud infrastructure curriculum go program wont stick one lane coming cloud administration program could land job cloud engineer cloud network engineer cloud security engineer cloud architect cloud administrator many career option choose make valuable indemand candidate tech company big small codeup employerinfluenced curriculum graduate equipped latest skill knowledge today employer looking 5 instructor next level instructor genuinely care success lecture take question realtime instead giving answer guide right direction understand responsive engaging commitment success mission empowering life change boot camp wont find quality instructor industry experience subject matter expertise live interactive lecture lab even college level professor often dont provide individualized attention handson learning accountability instructor make difference learning journey awesome instructor wasnt enough also dedicated student experience team team designed work collaboration instructor ensure success need oneonone session instructor help need help managing time better help passionate education professional want empower get finish line call graduation read need best coding bootcamp instructor wrapping mentioned company adopt cloud technology demand cloud expert continue grow take sign launch career tech attend brand new cloud administration program today next class start june 16th dont wait get started fill form admission team get touch beat heat summer learn new skill launch career cloud cant wait hear programscloud administration full stack web development data science latest blog article career tech recessionproof codeup x superhero car show comic con job get coding bootcamp part 3 web development codeups new dallas campus codeup tv commercial'"
      ]
     },
     "execution_count": 33,
     "metadata": {},
     "output_type": "execute_result"
    }
   ],
   "source": [
    "no_stop = remove_stopwords(lemmatized)\n",
    "no_stop"
   ]
  },
  {
   "cell_type": "code",
   "execution_count": 36,
   "id": "46f84cea",
   "metadata": {},
   "outputs": [
    {
     "data": {
      "text/plain": [
       "'5 reason attend new cloud administration program may 17 2022 codeup news featured training tip prospective student come work the cloud monday roll around start get sense dread might sign break current job learn something new codeup dont want keep head the cloud working job cant stand learn the cloud cloud technology charge forward 2022 recently announced brand new cloud administration program 15week career accelerator get handson experience networking linux operating system window operating system security amazon web service aws cloud technology youll earn two industryrecognized certification aws cloud practitioner aws solution architect associate included part tuition learn build infrastructure enables software data science product manage cloud deployment optimize cloud performance 5 reason think attend cloud administration program 1 the campus located rackspace property castle campus ha everything need tabletop game play classmate break got foosball ping pong need drink quench thirst complimentary soda water tea also lot seating across the campus study lunch even meet classmate parking free since located rackspaces property the option park 100 ft away building park the underground level save car the heat attend the summer month also plenty food option within driving distance campus fast food option include mcdonalds panda express bill miller bbq sitdown restaurant option visit applebees buffalo wild wing olive garden want bring lunch microwave refrigerator enjoy lunch campus 2 time money spent 15 week way new career thats high demand mean wont wait 2 4 year like traditional degree plan get started new career the cost program concern totally understand cloud administration program also the affordable option three program codeup youre looking save the money also affordable traditional degree codeup dedicated team financial aid enrollment manager work one one ensure everything need pay time codeup make sense individual situation grant scholarship student loan qualify youre veteran dependant veteran might gi bill benefit use codeup launched exclusive scholarship climb credit apply lastly always go financial institution see option available pay codeup check walkthrough financial aid option 3 salary benefit almost everyone changing career the great resignation better pay better benefit told career obtain cloud administration program offered better salary better benefit according indeedcom the average salary cloud engineer right 118712 texas similar the national average mirror glassdoor median base salary 118999 glassdoor also note job satisfaction rating 4 5 10k open role the title cloud engineer guaranteed salary like graduation necessarily since wa average salary however mean the potential get level salary point new career new skill set could land larger company like accenture ey even usaa the hand could end small company like startup saas software service company option typically give thing like great health care plan generous amount time additional perk like continuing education gym discount startup might little unique offering like remote work option paying new office equipment even potentially paying annual company retreat the company work remotely 4 job security according senior manager recent robert half survey cloud expertise the topmost indemand skill set mean cloud expert high demand continue company adopt cloud infrastructure the curriculum go program wont stick one lane coming the cloud administration program could land job cloud engineer cloud network engineer cloud security engineer cloud architect cloud administrator many career option choose make valuable indemand candidate tech company big small codeup employerinfluenced curriculum graduate equipped the latest skill knowledge today employer looking 5 instructor next level instructor genuinely care success lecture take question realtime instead giving the answer guide the right direction understand responsive engaging commitment success mission empowering life change boot camp wont find the quality instructor industry experience subject matter expertise live interactive lecture lab even the college level professor often dont provide individualized attention handson learning accountability instructor make difference learning journey awesome instructor wasnt enough also dedicated student experience team team designed work collaboration instructor ensure success need oneonone session instructor help need help managing time better help passionate education professional want empower get finish line call graduation read need the best coding bootcamp instructor wrapping mentioned company adopt cloud technology the demand cloud expert continue grow take sign launch career tech attend brand new cloud administration program today next class start june 16th dont wait get started fill form admission team get touch beat the heat summer learn new skill launch career the cloud cant wait hear programscloud administration full stack web development data science latest blog article career tech recessionproof codeup x superhero car show comic con job get coding bootcamp part 3 web development codeups new dallas campus codeup tv commercial'"
      ]
     },
     "execution_count": 36,
     "metadata": {},
     "output_type": "execute_result"
    }
   ],
   "source": [
    "extra_words = ['the','no']\n",
    "no_stop1 = remove_stopwords(lemmatized, extra_words=extra_words)\n",
    "no_stop1"
   ]
  },
  {
   "cell_type": "markdown",
   "id": "0411fca7",
   "metadata": {},
   "source": [
    "6. Use your data from the acquire to produce a dataframe of the news articles. Name the dataframe news_df."
   ]
  },
  {
   "cell_type": "code",
   "execution_count": 5,
   "id": "5d493744",
   "metadata": {},
   "outputs": [
    {
     "data": {
      "text/plain": [
       "[{'title': \"Don't eff this up: Bezos recalls warning from son for Lord of Rings' prequel\",\n",
       "  'content': 'Ahead of the debut of The Lord of the Rings\\' prequel \\'Rings of Power\\' on Amazon\\'s Prime Video, Jeff Bezos revealed a conversation he had with his son. He said, \"My son came up to me one day, he looked me in the eyes, very sincerely, and he said: \\'Dad, please don\\'t eff this up\\'...And he was right.\"',\n",
       "  'author': 'Ridham Gambhir',\n",
       "  'date': '2022-09-01T11:38:25.000Z',\n",
       "  'category': 'business'},\n",
       " {'title': 'US sought records on Binance CEO for crypto money laundering probe: Report',\n",
       "  'content': 'US prosecutors sought communication records involving Binance CEO Changpeng Zhao along with extensive internal records about Binance\\'s anti-money laundering checks, Reuters reported. Binance was asked to voluntarily hand over messages from Zhao and 12 other executives and partners. Prosecutors sought records with instructions that \"documents be destroyed, altered or removed from Binance\\'s files\".',\n",
       "  'author': 'Ashley Paul',\n",
       "  'date': '2022-09-01T15:22:36.000Z',\n",
       "  'category': 'business'},\n",
       " {'title': 'Price of commercial LPG cylinders cut by up to ₹100; list of rates in cities released',\n",
       "  'content': 'State-owned fuel retailers on Thursday announced a reduction in the prices of commercial LPG cylinders. From today, a 19-kg commercial LPG cylinder will be cheaper by ₹91.50 in Delhi and will be available for ₹1,885 instead of the earlier ₹1,976.50. Apart from Delhi, the prices have been reduced by up to ₹100 in Kolkata, Chennai and Mumbai.',\n",
       "  'author': 'Ridham Gambhir',\n",
       "  'date': '2022-09-01T06:15:11.000Z',\n",
       "  'category': 'business'},\n",
       " {'title': \"Chairman of Russia's 2nd largest oil firm dies after fall from hospital window: Reports\",\n",
       "  'content': \"The chairman of Russia's second-largest oil producer Lukoil died on Thursday after falling from a hospital window, as per reports. Ravil Maganov, 67, was being treated at the city's Central Clinical Hospital and died from his injuries, reported Russian media. Maganov is the second top executive at Lukoil to die under mysterious circumstances in recent months.\",\n",
       "  'author': 'Ridham Gambhir',\n",
       "  'date': '2022-09-01T09:40:09.000Z',\n",
       "  'category': 'business'},\n",
       " {'title': 'Reliance acquires Campa, marking entry into FMCG business: Reports',\n",
       "  'content': \"Reliance Industries has reportedly acquired soft drink brand Campa from New Delhi-based Pure Drinks Group for an estimated amount of ₹22 crore. Moreover, RIL also acquired soft drink brand Sosyo from Surat-based Hajoori, as per reports. The acquisition of Campa would mark Reliance's entry into the FMCG business, which was announced during the company's annual general meeting on Monday. \",\n",
       "  'author': 'Ridham Gambhir',\n",
       "  'date': '2022-09-01T13:34:14.000Z',\n",
       "  'category': 'business'},\n",
       " {'title': 'August GST revenue collection jumps 28% YoY at ₹1.44 lakh crore',\n",
       "  'content': 'The Goods and Services Tax (GST) revenue increased by 28% to ₹1,43,612 crore in August as against ₹1,12,020 crore in the corresponding month last year, the Finance Ministry said. GST revenue crossed the ₹1.40 lakh crore mark for the sixth consecutive month led by robust economic recovery and compliance, the ministry added. The growth till August 2022 is 33% y-o-y.\\n',\n",
       "  'author': 'Srishty Choudhury',\n",
       "  'date': '2022-09-01T09:49:02.000Z',\n",
       "  'category': 'business'},\n",
       " {'title': \"SpiceJet makes payments in 'graded format', delays salaries for 2nd straight month\",\n",
       "  'content': 'SpiceJet employees have alleged a delay in their salaries for the second consecutive month. Meanwhile, the airline said that the salaries will be credited in a \"graded format\". In an internal communication, mentioning the delay, SpiceJet said the \"previous few months have been difficult\" due to a \"superlative fuel price hike\" and also a \"historically lean period of July-September\".',\n",
       "  'author': 'Ridham Gambhir',\n",
       "  'date': '2022-09-01T04:31:07.000Z',\n",
       "  'category': 'business'},\n",
       " {'title': 'Sony India-Zee Entertainment merger to create $10-bn TV enterprise can hurt competition: CCI',\n",
       "  'content': 'A merger between Sony Pictures Networks India and Zee Entertainment to create a $10 billion TV enterprise will potentially hurt competition, the Competition Commission of India\\'s (CCI) notice to the two companies stated. \"Such apparently humongous market position would enable the combined entity to enjoy an un-paralleled bargaining power,\" the CCI stated. The CCI further called for a probe.',\n",
       "  'author': 'Anmol Sharma',\n",
       "  'date': '2022-09-01T14:17:58.000Z',\n",
       "  'category': 'business'},\n",
       " {'title': 'Value of UPI transactions touches all-time high of ₹10.73 lakh cr in Aug',\n",
       "  'content': \"Value of digital payment transactions through UPI touched an all-time high of ₹10.73 lakh crore with 657 crore transactions in August 2022, according to National Payments Corporation of India's (NPCI) latest data. UPI transaction value in July was at ₹10.63 lakh crore with 628 crore transactions. UPI transaction value crossed the ₹10-lakh-crore mark for the first time in May.\",\n",
       "  'author': 'Ashley Paul',\n",
       "  'date': '2022-09-01T12:55:31.000Z',\n",
       "  'category': 'business'},\n",
       " {'title': 'SpiceJet shares fall nearly 15% after CFO resigns amid widening losses',\n",
       "  'content': 'SpiceJet shares declined nearly 15% during Thursday’s intraday trade to a one-month low after the airline reported widening of net loss to ₹789 crore in the June quarter. Notably, its CFO Sanjeev Taneja also resigned amid losses and a series of mid-air incidents. SpiceJet stock, which has fallen over 36% so far this year, was currently trading at ₹44.15.',\n",
       "  'author': 'Ridham Gambhir',\n",
       "  'date': '2022-09-01T06:45:12.000Z',\n",
       "  'category': 'business'},\n",
       " {'title': 'Thailand announces new rules for crypto advertising',\n",
       "  'content': 'The Securities and Exchange Commission (SEC) of Thailand announced new rules for advertising by cryptocurrency companies. In a statement, the SEC announced that ads for virtual currencies should come with visible warnings about investment risks. The new rules come after cryptocurrency, Zipmex, halted withdrawals last month, and its parent company was granted three months protection from creditors.',\n",
       "  'author': 'Anisha Joneja',\n",
       "  'date': '2022-09-01T17:23:41.000Z',\n",
       "  'category': 'business'},\n",
       " {'title': \"Taiwan looks forward to producing 'democracy chips' with US: Prez\",\n",
       "  'content': 'Taiwan President Tsai Ing-wen told the governor of the US state of Arizona, Doug Ducey, that the island nation is looking forward to producing \"democracy chips\" with the US. Taiwan Semiconductor Manufacturing Co Ltd (TSMC) is constructing a $12 billion plant in Arizona. Ducey told Tsai that partnership with Taiwan was \"the greatest\" in the semiconductor industry.',\n",
       "  'author': 'Purnima Rajput',\n",
       "  'date': '2022-09-01T08:31:15.000Z',\n",
       "  'category': 'business'},\n",
       " {'title': 'Cell manufacturing investment may exceed $9 bn by 2030: ICRA report',\n",
       "  'content': 'In India, cell manufacturing investments may exceed $9 billion by 2030, according to a report by ICRA. The demand for EV batteries is expected to touch around 15 GWh, and around 60GWh by 2030 in the domestic market, it stated. The report added that it is expected that batteries will remain the most critical and costliest component of an EV.',\n",
       "  'author': 'Anisha Joneja',\n",
       "  'date': '2022-09-01T17:50:09.000Z',\n",
       "  'category': 'business'},\n",
       " {'title': 'EU mulls over capping energy prices, cutting electricity demand',\n",
       "  'content': \"The European Commission is looking into measures to cap energy prices and cut electricity demand, Mechthild Wörsdörfer, Deputy Director General of the European Commission's energy department said. She mentioned that European Commission chief Ursula von der Leyen will outline ideas on capping energy prices on September 14. Russia had cut gas deliveries to Europe which led to rise in prices.\",\n",
       "  'author': 'Purnima Rajput',\n",
       "  'date': '2022-09-01T11:37:45.000Z',\n",
       "  'category': 'business'},\n",
       " {'title': 'IMF provisionally agrees to give crisis-hit Sri Lanka $2.9-bn loan',\n",
       "  'content': \"The International Monetary Fund (IMF) on Thursday said that it has provisionally agreed to give a loan of about $2.9 billion to Sri Lanka which is grappling with an economic crisis. IMF and Sri Lanka have entered a 48-month-long arrangement under the former's Extended Fund Facility. The agreement is subject to approval by the IMF management and its Executive Board.\\n\",\n",
       "  'author': 'Srishty Choudhury',\n",
       "  'date': '2022-09-01T08:35:41.000Z',\n",
       "  'category': 'business'},\n",
       " {'title': 'Markets end in red with Sensex falling 770 points, Nifty at 17,542',\n",
       "  'content': 'The benchmark indices ended in the red on Thursday with Sensex falling 770.48 points to 58,766.59. Nifty ended 216.5 points lower at 17,542.80 dragged by IT, metal, power and oil and gas stocks. Hindalco Industries, Reliance Industries, ONGC and TCS were among the top Nifty losers, while stocks of Tata Consumer Products, Bajaj Finserv, Asian Paints and Eicher Motors gained.\\n',\n",
       "  'author': 'Srishty Choudhury',\n",
       "  'date': '2022-09-01T10:48:47.000Z',\n",
       "  'category': 'business'},\n",
       " {'title': 'Centre hikes windfall profit tax on export of diesel, ATF',\n",
       "  'content': 'The government has increased the windfall profit tax on the export of diesel to ₹13.5 per litre from ₹7, while that on aviation turbine fuel exports to ₹9 per litre from ₹2. The tax on domestically-produced crude oil has also been hiked by ₹300 per tonne to ₹13,300. The prices come into effect from Thursday, a Finance Ministry notification said.',\n",
       "  'author': 'Srishty Choudhury',\n",
       "  'date': '2022-09-01T05:23:22.000Z',\n",
       "  'category': 'business'},\n",
       " {'title': 'Unemployment rate fell to 7.6% during Apr-June in urban areas: NSO',\n",
       "  'content': 'The unemployment rate for people in the age group of 15 years and above in urban areas dropped to 7.6% during April-June 2022 from 12.6% in the corresponding period last year, the National Statistical Office (NSO) said. This was led by an improved labour force participation ratio, pointing towards a sustained economic recovery after the COVID-19 pandemic.\\n',\n",
       "  'author': 'Srishty Choudhury',\n",
       "  'date': '2022-09-01T08:05:21.000Z',\n",
       "  'category': 'business'},\n",
       " {'title': 'Sensex falls 700 points, Nifty at 17,558 in opening trade',\n",
       "  'content': 'Benchmark indices opened in the red on Thursday with Sensex falling 707.39 points at 58,829.68 and Nifty down 200.80 points at 17,558.50. Infosys, SBI Life Insurance, TCS, Hindalco Industries, ONGC were among the major Nifty losers, while the shares of Bharti Airtel, Bajaj Auto, IndusInd Bank, Bajaj Finserv and UltraTech Cement gained. Nearly 1,101 shares advanced and 1,052 shares declined.',\n",
       "  'author': 'Srishty Choudhury',\n",
       "  'date': '2022-09-01T04:19:08.000Z',\n",
       "  'category': 'business'},\n",
       " {'title': \"Moody's cuts India's growth forecast to 7.7% from 8.8% for 2022\",\n",
       "  'content': \"Global credit rating agency Moody's Investors Service cut India's economic growth projection to 7.7% for 2022 from its May projection of 8.8%. It said that the economic momentum will slow down on a sequential basis owing to rising interest rates, uneven monsoon and slowing global growth. However, the rating agency said the services and manufacturing sectors have seen robust upswings.\",\n",
       "  'author': 'Srishty Choudhury',\n",
       "  'date': '2022-09-01T09:14:07.000Z',\n",
       "  'category': 'business'},\n",
       " {'title': 'Share prices of fuel exporters fall after windfall profit tax hike',\n",
       "  'content': 'After the Centre increased the windfall profit tax on the export of diesel and aviation turbine fuel, the shares of Indian fuel exporters dropped up to 3% in the morning trade on Thursday. ONGC declined by 2.2%, Reliance Industries Limited fell by 1.5%, Chennai Petroleum Corporation Limited by 3.3%, Mangalore Refinery & Petrochemicals by 1.5% and Oil India dropped 0.5%.\\n',\n",
       "  'author': 'Srishty Choudhury',\n",
       "  'date': '2022-09-01T09:39:58.000Z',\n",
       "  'category': 'business'},\n",
       " {'title': 'Lufthansa to cancel almost all flights on Friday from 2 German cities amid strike',\n",
       "  'content': 'German airline Lufthansa has said that it will cancel almost all passenger and cargo flights on Friday from Frankfurt and Munich amid a wage dispute. The pilots\\' union Vereinigung Cockpit demanded 5.5% pay raise this year for more than 5,000 pilots. However, the union\\'s spokesperson said, \"We have not received a sufficient offer...this is sobering and a missed opportunity.\"',\n",
       "  'author': 'Purnima Rajput',\n",
       "  'date': '2022-09-01T12:06:18.000Z',\n",
       "  'category': 'business'},\n",
       " {'title': 'Yen drops to 24-year low to 139.59/dollar as Treasury yields rise',\n",
       "  'content': 'The yen fell to its lowest to 139.59 per dollar in Thursday’s trading recording a 24-year low as US Treasury yields surged through 3.2% owing to the Federal Reserve’s hawkish stance at the Jackson Hole symposium. During the 1998 Asian financial crisis, the yen had reached around 146 to the dollar. Japan had previously intervened at levels around 130.',\n",
       "  'author': 'Srishty Choudhury',\n",
       "  'date': '2022-09-01T04:40:02.000Z',\n",
       "  'category': 'business'},\n",
       " {'title': \"SpiceJet CFO resigns after airline's Q1 net loss widens to ₹789 cr\",\n",
       "  'content': \"SpiceJet's Chief Financial Officer (CFO) Sanjeev Taneja resigned from his post amid the airline reporting a widening of net loss to ₹789 crore during the April-June quarter, on Wednesday. The loss in the corresponding period last fiscal was ₹729 crore. SpiceJet said that its Board has identified a candidate for Taneja's replacement and the vacancy would be filled in September.\\n\",\n",
       "  'author': 'Srishty Choudhury',\n",
       "  'date': '2022-09-01T07:56:14.000Z',\n",
       "  'category': 'business'},\n",
       " {'title': 'April-July fiscal deficit at ₹3.40 lakh crore, 20.5% of FY23 target',\n",
       "  'content': \"The Centre's fiscal deficit was 20.5% of the annual target in July end as against 21.3% in the year-ago period, the Controller General of Accounts data showed. The fiscal deficit was ₹3.40 lakh crore during the April-July period in actual terms. For the full FY23, the fiscal deficit is pegged at ₹16.6 lakh crore or 6.4% of the GDP.\",\n",
       "  'author': 'Srishty Choudhury',\n",
       "  'date': '2022-09-01T08:44:00.000Z',\n",
       "  'category': 'business'}]"
      ]
     },
     "execution_count": 5,
     "metadata": {},
     "output_type": "execute_result"
    }
   ],
   "source": [
    "news_business = acquire.get_all_news(topics = ['business'])\n",
    "news_business"
   ]
  },
  {
   "cell_type": "code",
   "execution_count": 6,
   "id": "6b152900",
   "metadata": {},
   "outputs": [
    {
     "data": {
      "text/html": [
       "<div>\n",
       "<style scoped>\n",
       "    .dataframe tbody tr th:only-of-type {\n",
       "        vertical-align: middle;\n",
       "    }\n",
       "\n",
       "    .dataframe tbody tr th {\n",
       "        vertical-align: top;\n",
       "    }\n",
       "\n",
       "    .dataframe thead th {\n",
       "        text-align: right;\n",
       "    }\n",
       "</style>\n",
       "<table border=\"1\" class=\"dataframe\">\n",
       "  <thead>\n",
       "    <tr style=\"text-align: right;\">\n",
       "      <th></th>\n",
       "      <th>title</th>\n",
       "      <th>content</th>\n",
       "      <th>author</th>\n",
       "      <th>date</th>\n",
       "      <th>category</th>\n",
       "    </tr>\n",
       "  </thead>\n",
       "  <tbody>\n",
       "    <tr>\n",
       "      <th>0</th>\n",
       "      <td>Don't eff this up: Bezos recalls warning from ...</td>\n",
       "      <td>Ahead of the debut of The Lord of the Rings' p...</td>\n",
       "      <td>Ridham Gambhir</td>\n",
       "      <td>2022-09-01T11:38:25.000Z</td>\n",
       "      <td>business</td>\n",
       "    </tr>\n",
       "    <tr>\n",
       "      <th>1</th>\n",
       "      <td>US sought records on Binance CEO for crypto mo...</td>\n",
       "      <td>US prosecutors sought communication records in...</td>\n",
       "      <td>Ashley Paul</td>\n",
       "      <td>2022-09-01T15:22:36.000Z</td>\n",
       "      <td>business</td>\n",
       "    </tr>\n",
       "    <tr>\n",
       "      <th>2</th>\n",
       "      <td>Price of commercial LPG cylinders cut by up to...</td>\n",
       "      <td>State-owned fuel retailers on Thursday announc...</td>\n",
       "      <td>Ridham Gambhir</td>\n",
       "      <td>2022-09-01T06:15:11.000Z</td>\n",
       "      <td>business</td>\n",
       "    </tr>\n",
       "    <tr>\n",
       "      <th>3</th>\n",
       "      <td>Chairman of Russia's 2nd largest oil firm dies...</td>\n",
       "      <td>The chairman of Russia's second-largest oil pr...</td>\n",
       "      <td>Ridham Gambhir</td>\n",
       "      <td>2022-09-01T09:40:09.000Z</td>\n",
       "      <td>business</td>\n",
       "    </tr>\n",
       "    <tr>\n",
       "      <th>4</th>\n",
       "      <td>Reliance acquires Campa, marking entry into FM...</td>\n",
       "      <td>Reliance Industries has reportedly acquired so...</td>\n",
       "      <td>Ridham Gambhir</td>\n",
       "      <td>2022-09-01T13:34:14.000Z</td>\n",
       "      <td>business</td>\n",
       "    </tr>\n",
       "  </tbody>\n",
       "</table>\n",
       "</div>"
      ],
      "text/plain": [
       "                                               title  \\\n",
       "0  Don't eff this up: Bezos recalls warning from ...   \n",
       "1  US sought records on Binance CEO for crypto mo...   \n",
       "2  Price of commercial LPG cylinders cut by up to...   \n",
       "3  Chairman of Russia's 2nd largest oil firm dies...   \n",
       "4  Reliance acquires Campa, marking entry into FM...   \n",
       "\n",
       "                                             content          author  \\\n",
       "0  Ahead of the debut of The Lord of the Rings' p...  Ridham Gambhir   \n",
       "1  US prosecutors sought communication records in...     Ashley Paul   \n",
       "2  State-owned fuel retailers on Thursday announc...  Ridham Gambhir   \n",
       "3  The chairman of Russia's second-largest oil pr...  Ridham Gambhir   \n",
       "4  Reliance Industries has reportedly acquired so...  Ridham Gambhir   \n",
       "\n",
       "                       date  category  \n",
       "0  2022-09-01T11:38:25.000Z  business  \n",
       "1  2022-09-01T15:22:36.000Z  business  \n",
       "2  2022-09-01T06:15:11.000Z  business  \n",
       "3  2022-09-01T09:40:09.000Z  business  \n",
       "4  2022-09-01T13:34:14.000Z  business  "
      ]
     },
     "execution_count": 6,
     "metadata": {},
     "output_type": "execute_result"
    }
   ],
   "source": [
    "news_df = pd.DataFrame(news_business)\n",
    "news_df.head()"
   ]
  },
  {
   "cell_type": "markdown",
   "id": "dfedfb56",
   "metadata": {},
   "source": [
    "7. Make another dataframe for the Codeup blog posts. Name the dataframe codeup_df."
   ]
  },
  {
   "cell_type": "code",
   "execution_count": 7,
   "id": "8ca44a34",
   "metadata": {},
   "outputs": [
    {
     "data": {
      "text/html": [
       "<div>\n",
       "<style scoped>\n",
       "    .dataframe tbody tr th:only-of-type {\n",
       "        vertical-align: middle;\n",
       "    }\n",
       "\n",
       "    .dataframe tbody tr th {\n",
       "        vertical-align: top;\n",
       "    }\n",
       "\n",
       "    .dataframe thead th {\n",
       "        text-align: right;\n",
       "    }\n",
       "</style>\n",
       "<table border=\"1\" class=\"dataframe\">\n",
       "  <thead>\n",
       "    <tr style=\"text-align: right;\">\n",
       "      <th></th>\n",
       "      <th>title</th>\n",
       "      <th>content</th>\n",
       "      <th>date_published</th>\n",
       "    </tr>\n",
       "  </thead>\n",
       "  <tbody>\n",
       "    <tr>\n",
       "      <th>0</th>\n",
       "      <td>Mental Health First Aid Training - Codeup</td>\n",
       "      <td>\\n\\n\\n\\n\\n\\nMental Health First Aid Training\\n...</td>\n",
       "      <td>May 31, 2022</td>\n",
       "    </tr>\n",
       "    <tr>\n",
       "      <th>1</th>\n",
       "      <td>5 Reasons To Attend Our New Cloud Administrati...</td>\n",
       "      <td>\\n\\n\\n\\n\\n\\n5 Reasons To Attend Our New Cloud ...</td>\n",
       "      <td>May 17, 2022</td>\n",
       "    </tr>\n",
       "    <tr>\n",
       "      <th>2</th>\n",
       "      <td>What Jobs Can You Get After a Coding Bootcamp?</td>\n",
       "      <td>\\n\\n\\n\\n\\n\\nWhat Jobs Can You Get After a Codi...</td>\n",
       "      <td>Jul 7, 2022</td>\n",
       "    </tr>\n",
       "    <tr>\n",
       "      <th>3</th>\n",
       "      <td>What Jobs Can You Get After a Coding Bootcamp?...</td>\n",
       "      <td>\\n\\n\\n\\n\\n\\nWhat Jobs Can You Get After a Codi...</td>\n",
       "      <td>Jul 14, 2022</td>\n",
       "    </tr>\n",
       "    <tr>\n",
       "      <th>4</th>\n",
       "      <td>Codeup TV Commercial - Codeup News</td>\n",
       "      <td>\\n\\n\\n\\n\\n\\nCodeup TV Commercial\\nJul 20, 2022...</td>\n",
       "      <td>Jul 20, 2022</td>\n",
       "    </tr>\n",
       "  </tbody>\n",
       "</table>\n",
       "</div>"
      ],
      "text/plain": [
       "                                               title  \\\n",
       "0          Mental Health First Aid Training - Codeup   \n",
       "1  5 Reasons To Attend Our New Cloud Administrati...   \n",
       "2     What Jobs Can You Get After a Coding Bootcamp?   \n",
       "3  What Jobs Can You Get After a Coding Bootcamp?...   \n",
       "4                 Codeup TV Commercial - Codeup News   \n",
       "\n",
       "                                             content date_published  \n",
       "0  \\n\\n\\n\\n\\n\\nMental Health First Aid Training\\n...   May 31, 2022  \n",
       "1  \\n\\n\\n\\n\\n\\n5 Reasons To Attend Our New Cloud ...   May 17, 2022  \n",
       "2  \\n\\n\\n\\n\\n\\nWhat Jobs Can You Get After a Codi...    Jul 7, 2022  \n",
       "3  \\n\\n\\n\\n\\n\\nWhat Jobs Can You Get After a Codi...   Jul 14, 2022  \n",
       "4  \\n\\n\\n\\n\\n\\nCodeup TV Commercial\\nJul 20, 2022...   Jul 20, 2022  "
      ]
     },
     "execution_count": 7,
     "metadata": {},
     "output_type": "execute_result"
    }
   ],
   "source": [
    "codeup_df = pd.DataFrame(acquire.get_blog_articles())\n",
    "codeup_df"
   ]
  },
  {
   "cell_type": "markdown",
   "id": "fdc43d16",
   "metadata": {},
   "source": [
    "8. For each dataframe, produce the following columns:\n",
    "\n",
    "* title to hold the title\n",
    "* original to hold the original article/post content\n",
    "* clean to hold the normalized and tokenized original with the stopwords removed.\n",
    "* stemmed to hold the stemmed version of the cleaned data.\n",
    "* lemmatized to hold the lemmatized version of the cleaned data."
   ]
  },
  {
   "cell_type": "markdown",
   "id": "91d8e307",
   "metadata": {},
   "source": [
    "#### News dataframe"
   ]
  },
  {
   "cell_type": "code",
   "execution_count": 14,
   "id": "284b4ed1",
   "metadata": {},
   "outputs": [
    {
     "data": {
      "text/html": [
       "<div>\n",
       "<style scoped>\n",
       "    .dataframe tbody tr th:only-of-type {\n",
       "        vertical-align: middle;\n",
       "    }\n",
       "\n",
       "    .dataframe tbody tr th {\n",
       "        vertical-align: top;\n",
       "    }\n",
       "\n",
       "    .dataframe thead th {\n",
       "        text-align: right;\n",
       "    }\n",
       "</style>\n",
       "<table border=\"1\" class=\"dataframe\">\n",
       "  <thead>\n",
       "    <tr style=\"text-align: right;\">\n",
       "      <th></th>\n",
       "      <th>title</th>\n",
       "      <th>content</th>\n",
       "      <th>author</th>\n",
       "      <th>date</th>\n",
       "      <th>category</th>\n",
       "      <th>clean</th>\n",
       "    </tr>\n",
       "  </thead>\n",
       "  <tbody>\n",
       "    <tr>\n",
       "      <th>0</th>\n",
       "      <td>Don't eff this up: Bezos recalls warning from ...</td>\n",
       "      <td>Ahead of the debut of The Lord of the Rings' p...</td>\n",
       "      <td>Ridham Gambhir</td>\n",
       "      <td>2022-09-01T11:38:25.000Z</td>\n",
       "      <td>business</td>\n",
       "      <td>ahead debut lord rings ' prequel ' rings power...</td>\n",
       "    </tr>\n",
       "    <tr>\n",
       "      <th>1</th>\n",
       "      <td>US sought records on Binance CEO for crypto mo...</td>\n",
       "      <td>US prosecutors sought communication records in...</td>\n",
       "      <td>Ashley Paul</td>\n",
       "      <td>2022-09-01T15:22:36.000Z</td>\n",
       "      <td>business</td>\n",
       "      <td>us prosecutors sought communication records in...</td>\n",
       "    </tr>\n",
       "    <tr>\n",
       "      <th>2</th>\n",
       "      <td>Price of commercial LPG cylinders cut by up to...</td>\n",
       "      <td>State-owned fuel retailers on Thursday announc...</td>\n",
       "      <td>Ridham Gambhir</td>\n",
       "      <td>2022-09-01T06:15:11.000Z</td>\n",
       "      <td>business</td>\n",
       "      <td>stateowned fuel retailers thursday announced r...</td>\n",
       "    </tr>\n",
       "    <tr>\n",
       "      <th>3</th>\n",
       "      <td>Chairman of Russia's 2nd largest oil firm dies...</td>\n",
       "      <td>The chairman of Russia's second-largest oil pr...</td>\n",
       "      <td>Ridham Gambhir</td>\n",
       "      <td>2022-09-01T09:40:09.000Z</td>\n",
       "      <td>business</td>\n",
       "      <td>chairman russia ' secondlargest oil producer l...</td>\n",
       "    </tr>\n",
       "    <tr>\n",
       "      <th>4</th>\n",
       "      <td>Reliance acquires Campa, marking entry into FM...</td>\n",
       "      <td>Reliance Industries has reportedly acquired so...</td>\n",
       "      <td>Ridham Gambhir</td>\n",
       "      <td>2022-09-01T13:34:14.000Z</td>\n",
       "      <td>business</td>\n",
       "      <td>reliance industries reportedly acquired soft d...</td>\n",
       "    </tr>\n",
       "  </tbody>\n",
       "</table>\n",
       "</div>"
      ],
      "text/plain": [
       "                                               title  \\\n",
       "0  Don't eff this up: Bezos recalls warning from ...   \n",
       "1  US sought records on Binance CEO for crypto mo...   \n",
       "2  Price of commercial LPG cylinders cut by up to...   \n",
       "3  Chairman of Russia's 2nd largest oil firm dies...   \n",
       "4  Reliance acquires Campa, marking entry into FM...   \n",
       "\n",
       "                                             content          author  \\\n",
       "0  Ahead of the debut of The Lord of the Rings' p...  Ridham Gambhir   \n",
       "1  US prosecutors sought communication records in...     Ashley Paul   \n",
       "2  State-owned fuel retailers on Thursday announc...  Ridham Gambhir   \n",
       "3  The chairman of Russia's second-largest oil pr...  Ridham Gambhir   \n",
       "4  Reliance Industries has reportedly acquired so...  Ridham Gambhir   \n",
       "\n",
       "                       date  category  \\\n",
       "0  2022-09-01T11:38:25.000Z  business   \n",
       "1  2022-09-01T15:22:36.000Z  business   \n",
       "2  2022-09-01T06:15:11.000Z  business   \n",
       "3  2022-09-01T09:40:09.000Z  business   \n",
       "4  2022-09-01T13:34:14.000Z  business   \n",
       "\n",
       "                                               clean  \n",
       "0  ahead debut lord rings ' prequel ' rings power...  \n",
       "1  us prosecutors sought communication records in...  \n",
       "2  stateowned fuel retailers thursday announced r...  \n",
       "3  chairman russia ' secondlargest oil producer l...  \n",
       "4  reliance industries reportedly acquired soft d...  "
      ]
     },
     "execution_count": 14,
     "metadata": {},
     "output_type": "execute_result"
    }
   ],
   "source": [
    "news_df['clean'] = news_df['content'].apply(basic_clean).apply(tokenize).apply(remove_stopwords)\n",
    "news_df.head()"
   ]
  },
  {
   "cell_type": "code",
   "execution_count": 15,
   "id": "af387b68",
   "metadata": {},
   "outputs": [
    {
     "data": {
      "text/html": [
       "<div>\n",
       "<style scoped>\n",
       "    .dataframe tbody tr th:only-of-type {\n",
       "        vertical-align: middle;\n",
       "    }\n",
       "\n",
       "    .dataframe tbody tr th {\n",
       "        vertical-align: top;\n",
       "    }\n",
       "\n",
       "    .dataframe thead th {\n",
       "        text-align: right;\n",
       "    }\n",
       "</style>\n",
       "<table border=\"1\" class=\"dataframe\">\n",
       "  <thead>\n",
       "    <tr style=\"text-align: right;\">\n",
       "      <th></th>\n",
       "      <th>title</th>\n",
       "      <th>content</th>\n",
       "      <th>author</th>\n",
       "      <th>date</th>\n",
       "      <th>category</th>\n",
       "      <th>clean</th>\n",
       "      <th>stemmed</th>\n",
       "    </tr>\n",
       "  </thead>\n",
       "  <tbody>\n",
       "    <tr>\n",
       "      <th>0</th>\n",
       "      <td>Don't eff this up: Bezos recalls warning from ...</td>\n",
       "      <td>Ahead of the debut of The Lord of the Rings' p...</td>\n",
       "      <td>Ridham Gambhir</td>\n",
       "      <td>2022-09-01T11:38:25.000Z</td>\n",
       "      <td>business</td>\n",
       "      <td>ahead debut lord rings ' prequel ' rings power...</td>\n",
       "      <td>ahead debut lord ring ' prequel ' ring power '...</td>\n",
       "    </tr>\n",
       "    <tr>\n",
       "      <th>1</th>\n",
       "      <td>US sought records on Binance CEO for crypto mo...</td>\n",
       "      <td>US prosecutors sought communication records in...</td>\n",
       "      <td>Ashley Paul</td>\n",
       "      <td>2022-09-01T15:22:36.000Z</td>\n",
       "      <td>business</td>\n",
       "      <td>us prosecutors sought communication records in...</td>\n",
       "      <td>us prosecutor sought commun record involv bina...</td>\n",
       "    </tr>\n",
       "    <tr>\n",
       "      <th>2</th>\n",
       "      <td>Price of commercial LPG cylinders cut by up to...</td>\n",
       "      <td>State-owned fuel retailers on Thursday announc...</td>\n",
       "      <td>Ridham Gambhir</td>\n",
       "      <td>2022-09-01T06:15:11.000Z</td>\n",
       "      <td>business</td>\n",
       "      <td>stateowned fuel retailers thursday announced r...</td>\n",
       "      <td>stateown fuel retail thursday announc reduct p...</td>\n",
       "    </tr>\n",
       "    <tr>\n",
       "      <th>3</th>\n",
       "      <td>Chairman of Russia's 2nd largest oil firm dies...</td>\n",
       "      <td>The chairman of Russia's second-largest oil pr...</td>\n",
       "      <td>Ridham Gambhir</td>\n",
       "      <td>2022-09-01T09:40:09.000Z</td>\n",
       "      <td>business</td>\n",
       "      <td>chairman russia ' secondlargest oil producer l...</td>\n",
       "      <td>chairman russia ' secondlargest oil produc luk...</td>\n",
       "    </tr>\n",
       "    <tr>\n",
       "      <th>4</th>\n",
       "      <td>Reliance acquires Campa, marking entry into FM...</td>\n",
       "      <td>Reliance Industries has reportedly acquired so...</td>\n",
       "      <td>Ridham Gambhir</td>\n",
       "      <td>2022-09-01T13:34:14.000Z</td>\n",
       "      <td>business</td>\n",
       "      <td>reliance industries reportedly acquired soft d...</td>\n",
       "      <td>relianc industri reportedli acquir soft drink ...</td>\n",
       "    </tr>\n",
       "  </tbody>\n",
       "</table>\n",
       "</div>"
      ],
      "text/plain": [
       "                                               title  \\\n",
       "0  Don't eff this up: Bezos recalls warning from ...   \n",
       "1  US sought records on Binance CEO for crypto mo...   \n",
       "2  Price of commercial LPG cylinders cut by up to...   \n",
       "3  Chairman of Russia's 2nd largest oil firm dies...   \n",
       "4  Reliance acquires Campa, marking entry into FM...   \n",
       "\n",
       "                                             content          author  \\\n",
       "0  Ahead of the debut of The Lord of the Rings' p...  Ridham Gambhir   \n",
       "1  US prosecutors sought communication records in...     Ashley Paul   \n",
       "2  State-owned fuel retailers on Thursday announc...  Ridham Gambhir   \n",
       "3  The chairman of Russia's second-largest oil pr...  Ridham Gambhir   \n",
       "4  Reliance Industries has reportedly acquired so...  Ridham Gambhir   \n",
       "\n",
       "                       date  category  \\\n",
       "0  2022-09-01T11:38:25.000Z  business   \n",
       "1  2022-09-01T15:22:36.000Z  business   \n",
       "2  2022-09-01T06:15:11.000Z  business   \n",
       "3  2022-09-01T09:40:09.000Z  business   \n",
       "4  2022-09-01T13:34:14.000Z  business   \n",
       "\n",
       "                                               clean  \\\n",
       "0  ahead debut lord rings ' prequel ' rings power...   \n",
       "1  us prosecutors sought communication records in...   \n",
       "2  stateowned fuel retailers thursday announced r...   \n",
       "3  chairman russia ' secondlargest oil producer l...   \n",
       "4  reliance industries reportedly acquired soft d...   \n",
       "\n",
       "                                             stemmed  \n",
       "0  ahead debut lord ring ' prequel ' ring power '...  \n",
       "1  us prosecutor sought commun record involv bina...  \n",
       "2  stateown fuel retail thursday announc reduct p...  \n",
       "3  chairman russia ' secondlargest oil produc luk...  \n",
       "4  relianc industri reportedli acquir soft drink ...  "
      ]
     },
     "execution_count": 15,
     "metadata": {},
     "output_type": "execute_result"
    }
   ],
   "source": [
    "news_df['stemmed'] = news_df['clean'].apply(stem)\n",
    "news_df.head()"
   ]
  },
  {
   "cell_type": "code",
   "execution_count": 16,
   "id": "4dd771c1",
   "metadata": {},
   "outputs": [
    {
     "data": {
      "text/html": [
       "<div>\n",
       "<style scoped>\n",
       "    .dataframe tbody tr th:only-of-type {\n",
       "        vertical-align: middle;\n",
       "    }\n",
       "\n",
       "    .dataframe tbody tr th {\n",
       "        vertical-align: top;\n",
       "    }\n",
       "\n",
       "    .dataframe thead th {\n",
       "        text-align: right;\n",
       "    }\n",
       "</style>\n",
       "<table border=\"1\" class=\"dataframe\">\n",
       "  <thead>\n",
       "    <tr style=\"text-align: right;\">\n",
       "      <th></th>\n",
       "      <th>title</th>\n",
       "      <th>content</th>\n",
       "      <th>author</th>\n",
       "      <th>date</th>\n",
       "      <th>category</th>\n",
       "      <th>clean</th>\n",
       "      <th>stemmed</th>\n",
       "      <th>lemmatized</th>\n",
       "    </tr>\n",
       "  </thead>\n",
       "  <tbody>\n",
       "    <tr>\n",
       "      <th>0</th>\n",
       "      <td>Don't eff this up: Bezos recalls warning from ...</td>\n",
       "      <td>Ahead of the debut of The Lord of the Rings' p...</td>\n",
       "      <td>Ridham Gambhir</td>\n",
       "      <td>2022-09-01T11:38:25.000Z</td>\n",
       "      <td>business</td>\n",
       "      <td>ahead debut lord rings ' prequel ' rings power...</td>\n",
       "      <td>ahead debut lord ring ' prequel ' ring power '...</td>\n",
       "      <td>ahead debut lord ring ' prequel ' ring power '...</td>\n",
       "    </tr>\n",
       "    <tr>\n",
       "      <th>1</th>\n",
       "      <td>US sought records on Binance CEO for crypto mo...</td>\n",
       "      <td>US prosecutors sought communication records in...</td>\n",
       "      <td>Ashley Paul</td>\n",
       "      <td>2022-09-01T15:22:36.000Z</td>\n",
       "      <td>business</td>\n",
       "      <td>us prosecutors sought communication records in...</td>\n",
       "      <td>us prosecutor sought commun record involv bina...</td>\n",
       "      <td>u prosecutor sought communication record invol...</td>\n",
       "    </tr>\n",
       "    <tr>\n",
       "      <th>2</th>\n",
       "      <td>Price of commercial LPG cylinders cut by up to...</td>\n",
       "      <td>State-owned fuel retailers on Thursday announc...</td>\n",
       "      <td>Ridham Gambhir</td>\n",
       "      <td>2022-09-01T06:15:11.000Z</td>\n",
       "      <td>business</td>\n",
       "      <td>stateowned fuel retailers thursday announced r...</td>\n",
       "      <td>stateown fuel retail thursday announc reduct p...</td>\n",
       "      <td>stateowned fuel retailer thursday announced re...</td>\n",
       "    </tr>\n",
       "    <tr>\n",
       "      <th>3</th>\n",
       "      <td>Chairman of Russia's 2nd largest oil firm dies...</td>\n",
       "      <td>The chairman of Russia's second-largest oil pr...</td>\n",
       "      <td>Ridham Gambhir</td>\n",
       "      <td>2022-09-01T09:40:09.000Z</td>\n",
       "      <td>business</td>\n",
       "      <td>chairman russia ' secondlargest oil producer l...</td>\n",
       "      <td>chairman russia ' secondlargest oil produc luk...</td>\n",
       "      <td>chairman russia ' secondlargest oil producer l...</td>\n",
       "    </tr>\n",
       "    <tr>\n",
       "      <th>4</th>\n",
       "      <td>Reliance acquires Campa, marking entry into FM...</td>\n",
       "      <td>Reliance Industries has reportedly acquired so...</td>\n",
       "      <td>Ridham Gambhir</td>\n",
       "      <td>2022-09-01T13:34:14.000Z</td>\n",
       "      <td>business</td>\n",
       "      <td>reliance industries reportedly acquired soft d...</td>\n",
       "      <td>relianc industri reportedli acquir soft drink ...</td>\n",
       "      <td>reliance industry reportedly acquired soft dri...</td>\n",
       "    </tr>\n",
       "  </tbody>\n",
       "</table>\n",
       "</div>"
      ],
      "text/plain": [
       "                                               title  \\\n",
       "0  Don't eff this up: Bezos recalls warning from ...   \n",
       "1  US sought records on Binance CEO for crypto mo...   \n",
       "2  Price of commercial LPG cylinders cut by up to...   \n",
       "3  Chairman of Russia's 2nd largest oil firm dies...   \n",
       "4  Reliance acquires Campa, marking entry into FM...   \n",
       "\n",
       "                                             content          author  \\\n",
       "0  Ahead of the debut of The Lord of the Rings' p...  Ridham Gambhir   \n",
       "1  US prosecutors sought communication records in...     Ashley Paul   \n",
       "2  State-owned fuel retailers on Thursday announc...  Ridham Gambhir   \n",
       "3  The chairman of Russia's second-largest oil pr...  Ridham Gambhir   \n",
       "4  Reliance Industries has reportedly acquired so...  Ridham Gambhir   \n",
       "\n",
       "                       date  category  \\\n",
       "0  2022-09-01T11:38:25.000Z  business   \n",
       "1  2022-09-01T15:22:36.000Z  business   \n",
       "2  2022-09-01T06:15:11.000Z  business   \n",
       "3  2022-09-01T09:40:09.000Z  business   \n",
       "4  2022-09-01T13:34:14.000Z  business   \n",
       "\n",
       "                                               clean  \\\n",
       "0  ahead debut lord rings ' prequel ' rings power...   \n",
       "1  us prosecutors sought communication records in...   \n",
       "2  stateowned fuel retailers thursday announced r...   \n",
       "3  chairman russia ' secondlargest oil producer l...   \n",
       "4  reliance industries reportedly acquired soft d...   \n",
       "\n",
       "                                             stemmed  \\\n",
       "0  ahead debut lord ring ' prequel ' ring power '...   \n",
       "1  us prosecutor sought commun record involv bina...   \n",
       "2  stateown fuel retail thursday announc reduct p...   \n",
       "3  chairman russia ' secondlargest oil produc luk...   \n",
       "4  relianc industri reportedli acquir soft drink ...   \n",
       "\n",
       "                                          lemmatized  \n",
       "0  ahead debut lord ring ' prequel ' ring power '...  \n",
       "1  u prosecutor sought communication record invol...  \n",
       "2  stateowned fuel retailer thursday announced re...  \n",
       "3  chairman russia ' secondlargest oil producer l...  \n",
       "4  reliance industry reportedly acquired soft dri...  "
      ]
     },
     "execution_count": 16,
     "metadata": {},
     "output_type": "execute_result"
    }
   ],
   "source": [
    "news_df['lemmatized'] = news_df['clean'].apply(lemmatize)\n",
    "news_df.head()"
   ]
  },
  {
   "cell_type": "markdown",
   "id": "1eee9e29",
   "metadata": {},
   "source": [
    "#### Codeup dataframe"
   ]
  },
  {
   "cell_type": "code",
   "execution_count": 17,
   "id": "91743642",
   "metadata": {},
   "outputs": [
    {
     "data": {
      "text/html": [
       "<div>\n",
       "<style scoped>\n",
       "    .dataframe tbody tr th:only-of-type {\n",
       "        vertical-align: middle;\n",
       "    }\n",
       "\n",
       "    .dataframe tbody tr th {\n",
       "        vertical-align: top;\n",
       "    }\n",
       "\n",
       "    .dataframe thead th {\n",
       "        text-align: right;\n",
       "    }\n",
       "</style>\n",
       "<table border=\"1\" class=\"dataframe\">\n",
       "  <thead>\n",
       "    <tr style=\"text-align: right;\">\n",
       "      <th></th>\n",
       "      <th>title</th>\n",
       "      <th>content</th>\n",
       "      <th>date_published</th>\n",
       "      <th>clean</th>\n",
       "      <th>stemmed</th>\n",
       "      <th>lemmatized</th>\n",
       "    </tr>\n",
       "  </thead>\n",
       "  <tbody>\n",
       "    <tr>\n",
       "      <th>0</th>\n",
       "      <td>Mental Health First Aid Training - Codeup</td>\n",
       "      <td>\\n\\n\\n\\n\\n\\nMental Health First Aid Training\\n...</td>\n",
       "      <td>May 31, 2022</td>\n",
       "      <td>mental health first aid training may 31 2022 t...</td>\n",
       "      <td>mental health first aid train may 31 2022 tip ...</td>\n",
       "      <td>mental health first aid training may 31 2022 t...</td>\n",
       "    </tr>\n",
       "    <tr>\n",
       "      <th>1</th>\n",
       "      <td>5 Reasons To Attend Our New Cloud Administrati...</td>\n",
       "      <td>\\n\\n\\n\\n\\n\\n5 Reasons To Attend Our New Cloud ...</td>\n",
       "      <td>May 17, 2022</td>\n",
       "      <td>5 reasons attend new cloud administration prog...</td>\n",
       "      <td>5 reason attend new cloud administr program ma...</td>\n",
       "      <td>5 reason attend new cloud administration progr...</td>\n",
       "    </tr>\n",
       "    <tr>\n",
       "      <th>2</th>\n",
       "      <td>What Jobs Can You Get After a Coding Bootcamp?</td>\n",
       "      <td>\\n\\n\\n\\n\\n\\nWhat Jobs Can You Get After a Codi...</td>\n",
       "      <td>Jul 7, 2022</td>\n",
       "      <td>jobs get coding bootcamp part 1 data science j...</td>\n",
       "      <td>job get code bootcamp part 1 data scienc jul 7...</td>\n",
       "      <td>job get coding bootcamp part 1 data science ju...</td>\n",
       "    </tr>\n",
       "    <tr>\n",
       "      <th>3</th>\n",
       "      <td>What Jobs Can You Get After a Coding Bootcamp?...</td>\n",
       "      <td>\\n\\n\\n\\n\\n\\nWhat Jobs Can You Get After a Codi...</td>\n",
       "      <td>Jul 14, 2022</td>\n",
       "      <td>jobs get coding bootcamp part 2 cloud administ...</td>\n",
       "      <td>job get code bootcamp part 2 cloud administr j...</td>\n",
       "      <td>job get coding bootcamp part 2 cloud administr...</td>\n",
       "    </tr>\n",
       "    <tr>\n",
       "      <th>4</th>\n",
       "      <td>Codeup TV Commercial - Codeup News</td>\n",
       "      <td>\\n\\n\\n\\n\\n\\nCodeup TV Commercial\\nJul 20, 2022...</td>\n",
       "      <td>Jul 20, 2022</td>\n",
       "      <td>codeup tv commercial jul 20 2022 codeup news c...</td>\n",
       "      <td>codeup tv commerci jul 20 2022 codeup news cod...</td>\n",
       "      <td>codeup tv commercial jul 20 2022 codeup news c...</td>\n",
       "    </tr>\n",
       "  </tbody>\n",
       "</table>\n",
       "</div>"
      ],
      "text/plain": [
       "                                               title  \\\n",
       "0          Mental Health First Aid Training - Codeup   \n",
       "1  5 Reasons To Attend Our New Cloud Administrati...   \n",
       "2     What Jobs Can You Get After a Coding Bootcamp?   \n",
       "3  What Jobs Can You Get After a Coding Bootcamp?...   \n",
       "4                 Codeup TV Commercial - Codeup News   \n",
       "\n",
       "                                             content date_published  \\\n",
       "0  \\n\\n\\n\\n\\n\\nMental Health First Aid Training\\n...   May 31, 2022   \n",
       "1  \\n\\n\\n\\n\\n\\n5 Reasons To Attend Our New Cloud ...   May 17, 2022   \n",
       "2  \\n\\n\\n\\n\\n\\nWhat Jobs Can You Get After a Codi...    Jul 7, 2022   \n",
       "3  \\n\\n\\n\\n\\n\\nWhat Jobs Can You Get After a Codi...   Jul 14, 2022   \n",
       "4  \\n\\n\\n\\n\\n\\nCodeup TV Commercial\\nJul 20, 2022...   Jul 20, 2022   \n",
       "\n",
       "                                               clean  \\\n",
       "0  mental health first aid training may 31 2022 t...   \n",
       "1  5 reasons attend new cloud administration prog...   \n",
       "2  jobs get coding bootcamp part 1 data science j...   \n",
       "3  jobs get coding bootcamp part 2 cloud administ...   \n",
       "4  codeup tv commercial jul 20 2022 codeup news c...   \n",
       "\n",
       "                                             stemmed  \\\n",
       "0  mental health first aid train may 31 2022 tip ...   \n",
       "1  5 reason attend new cloud administr program ma...   \n",
       "2  job get code bootcamp part 1 data scienc jul 7...   \n",
       "3  job get code bootcamp part 2 cloud administr j...   \n",
       "4  codeup tv commerci jul 20 2022 codeup news cod...   \n",
       "\n",
       "                                          lemmatized  \n",
       "0  mental health first aid training may 31 2022 t...  \n",
       "1  5 reason attend new cloud administration progr...  \n",
       "2  job get coding bootcamp part 1 data science ju...  \n",
       "3  job get coding bootcamp part 2 cloud administr...  \n",
       "4  codeup tv commercial jul 20 2022 codeup news c...  "
      ]
     },
     "execution_count": 17,
     "metadata": {},
     "output_type": "execute_result"
    }
   ],
   "source": [
    "codeup_df['clean'] = codeup_df['content'].apply(basic_clean).apply(tokenize).apply(remove_stopwords)\n",
    "codeup_df['stemmed'] = codeup_df['clean'].apply(stem)\n",
    "codeup_df['lemmatized'] = codeup_df['clean'].apply(lemmatize)\n",
    "codeup_df.head()"
   ]
  },
  {
   "cell_type": "code",
   "execution_count": 18,
   "id": "feb51c31",
   "metadata": {},
   "outputs": [],
   "source": [
    "news_df.to_csv('clean_news.csv', index=False)\n",
    "codeup_df.to_csv('clean_blog_posts.csv', index=False)"
   ]
  },
  {
   "cell_type": "code",
   "execution_count": null,
   "id": "5bea64a6",
   "metadata": {},
   "outputs": [],
   "source": []
  },
  {
   "cell_type": "code",
   "execution_count": null,
   "id": "a10ff512",
   "metadata": {},
   "outputs": [],
   "source": []
  },
  {
   "cell_type": "code",
   "execution_count": null,
   "id": "91f0dad8",
   "metadata": {},
   "outputs": [],
   "source": []
  },
  {
   "cell_type": "code",
   "execution_count": null,
   "id": "07e34cc4",
   "metadata": {},
   "outputs": [],
   "source": []
  },
  {
   "cell_type": "code",
   "execution_count": null,
   "id": "f4b9ee65",
   "metadata": {},
   "outputs": [],
   "source": []
  },
  {
   "cell_type": "code",
   "execution_count": null,
   "id": "1478149a",
   "metadata": {},
   "outputs": [],
   "source": []
  },
  {
   "cell_type": "code",
   "execution_count": null,
   "id": "268826c8",
   "metadata": {},
   "outputs": [],
   "source": []
  },
  {
   "cell_type": "code",
   "execution_count": null,
   "id": "2c543051",
   "metadata": {},
   "outputs": [],
   "source": []
  },
  {
   "cell_type": "code",
   "execution_count": null,
   "id": "501a80af",
   "metadata": {},
   "outputs": [],
   "source": []
  }
 ],
 "metadata": {
  "kernelspec": {
   "display_name": "Python 3 (ipykernel)",
   "language": "python",
   "name": "python3"
  },
  "language_info": {
   "codemirror_mode": {
    "name": "ipython",
    "version": 3
   },
   "file_extension": ".py",
   "mimetype": "text/x-python",
   "name": "python",
   "nbconvert_exporter": "python",
   "pygments_lexer": "ipython3",
   "version": "3.9.12"
  }
 },
 "nbformat": 4,
 "nbformat_minor": 5
}
